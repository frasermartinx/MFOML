{
  "cells": [
    {
      "cell_type": "markdown",
      "metadata": {
        "id": "BMGmz3Q-0sY_"
      },
      "source": [
        "# Goal of the tutorial\n",
        "\n",
        "*   Understand convolutional layers\n",
        "*   Implement a convolutional neural network using Pytorch\n",
        "*   Understand what a network leanrs through data reconstruction\n",
        "*   Understand residual blocks and implement a residual neural network (ResNet)"
      ]
    },
    {
      "cell_type": "markdown",
      "metadata": {
        "id": "2ffb8600"
      },
      "source": [
        "# Loading the libraries and dataset"
      ]
    },
    {
      "cell_type": "code",
      "execution_count": 1,
      "metadata": {
        "id": "f35648e3"
      },
      "outputs": [],
      "source": [
        "# Let's load the usual libraries\n",
        "import numpy as np\n",
        "import torch\n",
        "import torchvision\n",
        "import torchvision.transforms as transforms\n",
        "import matplotlib.pyplot as plt\n",
        "import torch.nn as nn\n",
        "import torch.nn.functional as F\n",
        "import torch.optim as optim"
      ]
    },
    {
      "cell_type": "markdown",
      "metadata": {
        "id": "XcsS0__P0whV"
      },
      "source": [
        "For this tutorial, we will use the CIFAR10 dataset. It has the classes: ‘airplane’, ‘automobile’, ‘bird’, ‘cat’, ‘deer’, ‘dog’, ‘frog’, ‘horse’, ‘ship’, ‘truck’. Each class is of size 6000. The images in CIFAR-10 are of size 3x32x32, i.e. 3-channel color images (red, green and blue) of 32x32 pixels in size. Let's load it."
      ]
    },
    {
      "cell_type": "code",
      "execution_count": 3,
      "metadata": {
        "colab": {
          "base_uri": "https://localhost:8080/"
        },
        "id": "0200f8ca",
        "outputId": "5d9771a1-9022-4a0a-af99-910a48d00c20"
      },
      "outputs": [
        {
          "name": "stdout",
          "output_type": "stream",
          "text": [
            "Files already downloaded and verified\n",
            "Files already downloaded and verified\n"
          ]
        }
      ],
      "source": [
        "transform = transforms.Compose(\n",
        "    [transforms.ToTensor(),\n",
        "     transforms.Normalize((0.5, 0.5, 0.5), (0.5, 0.5, 0.5))])\n",
        "\n",
        "batch_size = 128\n",
        "\n",
        "trainset = torchvision.datasets.CIFAR10(root='../../', train=True,\n",
        "                                        download=True, transform=transform)\n",
        "trainloader = torch.utils.data.DataLoader(trainset, batch_size=batch_size,\n",
        "                                          shuffle=True, num_workers=2)\n",
        "\n",
        "testset = torchvision.datasets.CIFAR10(root='../../', train=False,\n",
        "                                       download=True, transform=transform)\n",
        "testloader = torch.utils.data.DataLoader(testset, batch_size=batch_size,\n",
        "                                         shuffle=False, num_workers=2)\n",
        "\n",
        "classes = ('plane', 'car', 'bird', 'cat',\n",
        "           'deer', 'dog', 'frog', 'horse', 'ship', 'truck')"
      ]
    },
    {
      "cell_type": "markdown",
      "metadata": {
        "id": "q02iGheK-FDx"
      },
      "source": [
        "Let's visualise one of the images in the dataset."
      ]
    },
    {
      "cell_type": "code",
      "execution_count": 4,
      "metadata": {
        "colab": {
          "base_uri": "https://localhost:8080/",
          "height": 452
        },
        "id": "jUJ4MBFI8SKK",
        "outputId": "38d0320e-3a1f-4f2c-c7eb-0aa453ec07a1"
      },
      "outputs": [
        {
          "data": {
            "image/png": "[encoded data removed]",
            "text/plain": [
              "<Figure size 640x480 with 1 Axes>"
            ]
          },
          "metadata": {},
          "output_type": "display_data"
        }
      ],
      "source": [
        "# get some random training images; this will load a set of images of size batchsize\n",
        "dataiter = iter(trainloader)\n",
        "images, labels = next(dataiter)\n",
        "img = images[0] # take just the first image; the above thing is an array of images of size batchsize\n",
        "img = img / 2 + 0.5     # unnormalize\n",
        "\n",
        "# Print the original image\n",
        "npimg = img.numpy() # translate to numpy\n",
        "npimg_t = np.transpose(npimg, (1, 2, 0))\n",
        "plt.imshow(npimg_t)\n",
        "plt.title(str(classes[labels[0]]))\n",
        "plt.show()"
      ]
    },
    {
      "cell_type": "markdown",
      "metadata": {
        "id": "0fec32da"
      },
      "source": [
        "# Implementing a Convolutional Neural Network"
      ]
    },
    {
      "cell_type": "markdown",
      "metadata": {
        "id": "CUMYKer21I1f"
      },
      "source": [
        "Let's begin by understanding convolutional layers. We will use the Pytorch conv2d function (https://pytorch.org/docs/stable/generated/torch.nn.Conv2d.html) to implement these. It has the following arguments:\n",
        "- in_channels: the number of channels of the input\n",
        "- out_channels: the number of channels we want the output to have (i.e. how many times we apply different kernels)\n",
        "- kernel_size: the size of the filter\n",
        "- stride: number of rows/columns traversed every time the filter is applied\n",
        "- padding: size of extra pixels added at edge of image\n",
        "\n",
        "It has some other parameters of which we will use the default modes (and hence we don't specify them):\n",
        "bias = True, dilation = 1.\n",
        "\n",
        "Remember the following:\n",
        "\n",
        "If we have an input $I$ of size $[N, C_{in}, H, W]$, where $N$ is the number of images passed through the layer, $C_{in}$ is the number of channels each image has, and $H$ and $W$ are the height and width of the image, respectively.\n",
        "The output is then computed as,\n",
        "$$\n",
        "O[N_n, C_{out_j}, :, :] = b[C_{out_j}] + \\sum_{i=0}^{C_{in}-1} w[C_{out_j},i]*I[N_n, i, :, :].\n",
        "$$\n",
        "\n",
        "When implementing convolutional layers, it is useful to keep track of the size (height and width) of the images outputted in each layer. In the CIFAR10 dataset we use square images, so height=width.\n",
        "\n",
        "Let us define the following:\n",
        "\n",
        "\n",
        "*   $n_{in}$: height (or width) of input image\n",
        "*   $k$: size of kernel\n",
        "*   $p$: size of padding\n",
        "*   $s$: size of stride\n",
        "\n",
        "\n",
        "The height of the output image will be given by\n",
        "$$\n",
        "n_{out} = \\left \\lfloor \\frac{n_{in} + 2p - k}{s} \\right \\rfloor + 1,\n",
        "$$\n",
        "\n",
        "where $\\lfloor \\cdot \\rfloor$ is the floor function.\n",
        "\n",
        "In-between conv2d layers we can apply an activation function (e.g. ReLU), batchnorm and pooling layers. Pooling layers apply an operation within a window of pixels defined by a size and a stride.\n",
        "\n",
        "We can now define the structure of our convolutional neural network. The first part of the network will involve convolutional layers, and the second part will be made up of fully connected layers. Assume we have an input image $x$ of size $3 \\times 32 \\times 32$ (number of channels and image dimensions). We will use the following:\n",
        "1. The input goes into a convolutional layer (3 input channels, 6 output channels, kernel of size 5x5, stride 1, padding 1), followed by a ReLU activation and maxpool layer (size 2, stride 2)\n",
        "2. The output from the previous operation goes into another convolutional layer (6 input channels, 16 output channels, kernel of size 5x5, stride 2, padding 1) followed by ReLU\n",
        "3. Then there will be two linear layer + ReLU's and a final linear layer.\n",
        "\n",
        "\n",
        "\n"
      ]
    },
    {
      "cell_type": "code",
      "execution_count": 6,
      "metadata": {
        "id": "rDB163jt1XfR"
      },
      "outputs": [],
      "source": [
        "class Net(nn.Module):\n",
        "    # in the init function we will just define several layers that we can later use\n",
        "    def __init__(self):\n",
        "        super().__init__()\n",
        "\n",
        "        self.conv1 = nn.Conv2d(in_channels=3, out_channels=6, kernel_size=5, stride=1, padding=1) # convolutional layer\n",
        "        # what is the size of the object after the above convolution? original image is 32x32; after convolution\n",
        "        # it will be floor((32 + 2*1 - 5)/1) + 1 = 30 -> 30x30\n",
        "\n",
        "        # a pooling layer: it 'pools' together 2x2 of the inputs by keeping only the maximum value\n",
        "        # and uses a stride of 2\n",
        "        self.pool = nn.MaxPool2d(2, stride=2)\n",
        "        # after pooling size is 15x15 (see: https://pytorch.org/docs/stable/generated/torch.nn.MaxPool2d.html)\n",
        "\n",
        "        self.conv2 = nn.Conv2d(in_channels=6, out_channels=16, kernel_size=5, stride=2, padding=1) # convolutional layer\n",
        "        # size after convolution: floor((15 + 2*1 - 5)/2) + 1 = 7 -> 7x7\n",
        "\n",
        "        self.fc1 = nn.Linear(16 * 7 * 7, 512)\n",
        "        self.fc2 = nn.Linear(512, 128)\n",
        "        self.fc3 = nn.Linear(128, 10)\n",
        "\n",
        "    # here we define the forward pass, i.e. how our input x is modified as it moves through the network\n",
        "    def forward(self, x):\n",
        "        x = self.pool(F.relu(self.conv1(x))) # size after operation: 15x15\n",
        "        x = F.relu(self.conv2(x))\n",
        "        x = torch.flatten(x,1) #flatten all but batch\n",
        "        x = F.relu(self.fc1(x))\n",
        "        x = F.relu(self.fc2(x))\n",
        "        x = self.fc3(x)\n",
        "        return x\n",
        "        \n",
        "\n",
        "        \n",
        "\n",
        "net = Net()"
      ]
    },
    {
      "cell_type": "markdown",
      "metadata": {
        "id": "LrhLaaJNpVJd"
      },
      "source": [
        "Let's write a training function:"
      ]
    },
    {
      "cell_type": "code",
      "execution_count": 7,
      "metadata": {
        "id": "k9GyXliLpYLD"
      },
      "outputs": [],
      "source": [
        "def train(model, nr_epochs, optimizer, criterion):\n",
        "    losses = [] # store the losses\n",
        "\n",
        "    for epoch in range(0, nr_epochs):\n",
        "        print(f'Epoch {epoch}')\n",
        "        for i, data in enumerate(trainloader, 0):\n",
        "            # get the inputs; data is a list of [inputs, labels]\n",
        "            images, labels = data\n",
        "            # zero the parameter gradients\n",
        "            optimizer.zero_grad()\n",
        "            # Compute the output for all the images in the batch_size; remember we set a batch_size of 10 in the beginning!\n",
        "            outputs = model(images)\n",
        "            # Compute the loss value\n",
        "            loss = criterion(outputs, labels)\n",
        "            # Compute the gradients\n",
        "            loss.backward()\n",
        "            # Take the optimisation step\n",
        "            optimizer.step()\n",
        "\n",
        "            # print statistics\n",
        "            losses += [loss.item()]\n",
        "            if i % 100 == 0:    # print every 1000 iterations\n",
        "                print(i, loss.item())\n",
        "\n",
        "    print('Finished Training')"
      ]
    },
    {
      "cell_type": "code",
      "execution_count": 8,
      "metadata": {
        "id": "xn1NOtb51hOY"
      },
      "outputs": [
        {
          "name": "stdout",
          "output_type": "stream",
          "text": [
            "Epoch 0\n",
            "0 2.30261492729187\n",
            "100 2.2148377895355225\n",
            "200 1.9721201658248901\n",
            "300 1.8851960897445679\n",
            "Epoch 1\n",
            "0 1.703052043914795\n",
            "100 1.661231517791748\n",
            "200 1.57589590549469\n",
            "300 1.4822701215744019\n",
            "Epoch 2\n",
            "0 1.251436471939087\n",
            "100 1.5153143405914307\n",
            "200 1.5744898319244385\n",
            "300 1.5602552890777588\n",
            "Epoch 3\n",
            "0 1.0318094491958618\n",
            "100 1.3054523468017578\n",
            "200 1.343640685081482\n",
            "300 1.2847915887832642\n",
            "Epoch 4\n",
            "0 1.2714260816574097\n",
            "100 1.0170480012893677\n",
            "200 1.0609855651855469\n",
            "300 1.1481621265411377\n",
            "Epoch 5\n",
            "0 0.9335221648216248\n",
            "100 1.018671989440918\n",
            "200 1.0942409038543701\n",
            "300 1.0368832349777222\n",
            "Epoch 6\n",
            "0 0.8322484493255615\n",
            "100 1.0277634859085083\n",
            "200 0.8663184642791748\n",
            "300 0.9768635630607605\n",
            "Epoch 7\n",
            "0 0.8771979808807373\n",
            "100 0.8696570992469788\n",
            "200 1.0056484937667847\n",
            "300 0.7280213236808777\n",
            "Epoch 8\n",
            "0 0.598351001739502\n",
            "100 0.5746647715568542\n",
            "200 0.589354932308197\n",
            "300 0.7530310750007629\n",
            "Epoch 9\n",
            "0 0.6061809659004211\n",
            "100 0.5811370611190796\n",
            "200 0.5350412130355835\n",
            "300 0.7043671607971191\n",
            "Epoch 10\n",
            "0 0.46250614523887634\n",
            "100 0.5700865387916565\n",
            "200 0.5176913738250732\n",
            "300 0.507935106754303\n",
            "Epoch 11\n",
            "0 0.37756723165512085\n",
            "100 0.5327248573303223\n",
            "200 0.41753390431404114\n",
            "300 0.6581833362579346\n",
            "Epoch 12\n",
            "0 0.3527485132217407\n",
            "100 0.24535953998565674\n",
            "200 0.2611111104488373\n",
            "300 0.33935126662254333\n",
            "Epoch 13\n",
            "0 0.319876104593277\n",
            "100 0.15774405002593994\n",
            "200 0.3473464250564575\n",
            "300 0.32754194736480713\n",
            "Epoch 14\n",
            "0 0.21234001219272614\n",
            "100 0.14413508772850037\n",
            "200 0.19515125453472137\n",
            "300 0.3195943236351013\n",
            "Epoch 15\n",
            "0 0.2060515284538269\n",
            "100 0.14540345966815948\n",
            "200 0.1756923794746399\n",
            "300 0.18865811824798584\n",
            "Epoch 16\n",
            "0 0.16747580468654633\n",
            "100 0.11797988414764404\n",
            "200 0.08404102921485901\n",
            "300 0.17333312332630157\n",
            "Epoch 17\n",
            "0 0.0955871120095253\n",
            "100 0.12264592945575714\n",
            "200 0.16631940007209778\n",
            "300 0.1796620786190033\n",
            "Epoch 18\n",
            "0 0.1157633364200592\n",
            "100 0.18741467595100403\n",
            "200 0.14930741488933563\n",
            "300 0.07959605008363724\n",
            "Epoch 19\n",
            "0 0.07818005234003067\n",
            "100 0.08415225148200989\n",
            "200 0.09868230670690536\n",
            "300 0.14120131731033325\n",
            "Finished Training\n"
          ]
        }
      ],
      "source": [
        "train(model=net, nr_epochs=20, optimizer=optim.SGD(net.parameters(), lr=0.01, momentum=0.9), criterion=nn.CrossEntropyLoss())"
      ]
    },
    {
      "cell_type": "markdown",
      "metadata": {
        "id": "7W4rg89wknhD"
      },
      "source": [
        "We can now evaluate the model on test data."
      ]
    },
    {
      "cell_type": "code",
      "execution_count": 9,
      "metadata": {
        "id": "UZK0ly3PtP99"
      },
      "outputs": [],
      "source": [
        "def accuracy(model):\n",
        "    correct = 0\n",
        "    total = 0\n",
        "    # since we're not training, we don't need to calculate the gradients for our outputs; therefore there\n",
        "    # is no need to store the computational graph in between\n",
        "    with torch.no_grad():\n",
        "        for data in testloader: #iterate over all the test images\n",
        "            images, labels = data\n",
        "            # calculate outputs by running images through the network\n",
        "            outputs = model(images)\n",
        "            # the class with the highest energy is what we choose as prediction\n",
        "            _, predicted = torch.max(outputs.data, 1)\n",
        "            # compute the total number of images processed by adding the number of images in each batch\n",
        "            total += labels.size(0)\n",
        "            correct += (predicted == labels).sum().item()\n",
        "\n",
        "    print(f'Accuracy of the network on the test images: {100 * correct // total} %')"
      ]
    },
    {
      "cell_type": "code",
      "execution_count": 10,
      "metadata": {
        "id": "P2LD-B3J1lFe"
      },
      "outputs": [
        {
          "name": "stdout",
          "output_type": "stream",
          "text": [
            "Accuracy of the network on the test images: 63 %\n"
          ]
        }
      ],
      "source": [
        "accuracy(net)"
      ]
    },
    {
      "cell_type": "markdown",
      "metadata": {
        "id": "TgDbosl6qkI0"
      },
      "source": [
        "# Task: implement your own Convolutional Neural Network\n",
        "\n",
        "Change the architecture, number of batches (we defined this when we loaded the data in one of the first cells) and number of epochs to see how this changes what the network has learned.\n",
        "\n",
        "Remember: machine learning is quite tricky with lots of hyperparameter tuning required. A large part of the job is trying to find the right combinations of parameters that work."
      ]
    },
    {
      "cell_type": "code",
      "execution_count": 11,
      "metadata": {
        "id": "TTFrjsxAteui"
      },
      "outputs": [],
      "source": []
    },
    {
      "cell_type": "markdown",
      "metadata": {
        "id": "bc94f610"
      },
      "source": [
        "# Understanding what our network has learned"
      ]
    },
    {
      "cell_type": "markdown",
      "metadata": {
        "id": "ZeW1gH-U9BwC"
      },
      "source": [
        "For this part, we will use the following larger model:"
      ]
    },
    {
      "cell_type": "code",
      "execution_count": 13,
      "metadata": {
        "id": "y5bLsFLl9I6B"
      },
      "outputs": [],
      "source": [
        "class Net(nn.Module):\n",
        "    # in the init function we will just define several layers that we can later use\n",
        "    def __init__(self):\n",
        "        super().__init__()\n",
        "        #parameters: in_channels, out_channels, kernel_size\n",
        "        self.conv1 = nn.Conv2d(3, 64, 3)\n",
        "        self.conv2 = nn.Conv2d(64, 128, 3)\n",
        "        self.conv3 = nn.Conv2d(128, 256, 3)\n",
        "        self.conv4 = nn.Conv2d(256, 256, 3)\n",
        "        self.pool = nn.MaxPool2d(2, stride=2)\n",
        "        self.fc1 = nn.Linear(1024, 120)\n",
        "        self.fc2 = nn.Linear(120, 84)\n",
        "        self.fc3 = nn.Linear(84, 10)\n",
        "\n",
        "    # here we define the forward pass, i.e. how our input x is modified as it moves through the network\n",
        "    def forward(self, x):\n",
        "        x = self.pool(F.relu(self.conv1(x)))\n",
        "        x = self.pool(F.relu(self.conv2(x)))\n",
        "        x = F.relu(self.conv3(x))\n",
        "        x = F.relu(self.conv4(x))\n",
        "        x = torch.flatten(x, 1)\n",
        "        x = F.relu(self.fc1(x))\n",
        "        x = F.relu(self.fc2(x))\n",
        "        x = self.fc3(x)\n",
        "        return x\n",
        "\n",
        "    # let's also define a method to access a layer of choice's output; we will use this later\n",
        "    def forward_partial(self, x):\n",
        "        x = self.pool(F.relu(self.conv1(x)))\n",
        "        x = self.pool(F.relu(self.conv2(x)))\n",
        "        return x # you can change the partial forward pass to obtain arbitrary layers' output"
      ]
    },
    {
      "cell_type": "markdown",
      "metadata": {
        "id": "W-wUIQO-Q35Z"
      },
      "source": [
        "Let's train the model."
      ]
    },
    {
      "cell_type": "code",
      "execution_count": null,
      "metadata": {},
      "outputs": [],
      "source": []
    },
    {
      "cell_type": "code",
      "execution_count": 14,
      "metadata": {
        "colab": {
          "base_uri": "https://localhost:8080/"
        },
        "id": "BgOWacMG9kkZ",
        "outputId": "4a579756-363e-4dc7-b743-0ae601e55e89"
      },
      "outputs": [
        {
          "name": "stdout",
          "output_type": "stream",
          "text": [
            "Epoch 0\n",
            "0 2.3046977519989014\n",
            "100 2.30134916305542\n",
            "200 2.285706043243408\n",
            "300 2.1098251342773438\n",
            "Epoch 1\n",
            "0 1.9873062372207642\n",
            "100 1.6052393913269043\n",
            "200 1.6461536884307861\n",
            "300 1.6137666702270508\n",
            "Epoch 2\n",
            "0 1.4880564212799072\n",
            "100 1.4896862506866455\n",
            "200 1.3918424844741821\n",
            "300 1.0979329347610474\n",
            "Epoch 3\n",
            "0 1.1718872785568237\n",
            "100 1.3392702341079712\n",
            "200 0.9562658667564392\n",
            "300 1.0640819072723389\n",
            "Epoch 4\n",
            "0 1.0060350894927979\n",
            "100 1.0249882936477661\n",
            "200 1.0380430221557617\n",
            "300 1.0075494050979614\n",
            "Finished Training\n"
          ]
        }
      ],
      "source": [
        "net = Net()\n",
        "train(model=net, nr_epochs=5, optimizer=optim.SGD(net.parameters(), lr=0.01, momentum=0.9), criterion=nn.CrossEntropyLoss())"
      ]
    },
    {
      "cell_type": "code",
      "execution_count": 15,
      "metadata": {
        "colab": {
          "base_uri": "https://localhost:8080/"
        },
        "id": "_rNs48GRBJJk",
        "outputId": "689d037d-2f6f-4b10-cd4e-0302e51ea495"
      },
      "outputs": [
        {
          "name": "stdout",
          "output_type": "stream",
          "text": [
            "Accuracy of the network on the test images: 64 %\n"
          ]
        }
      ],
      "source": [
        "accuracy(net)"
      ]
    },
    {
      "cell_type": "markdown",
      "metadata": {
        "id": "abec05a6"
      },
      "source": [
        "Now, we would like to understand what the network has actually learned. The work in: https://ai.googleblog.com/2015/06/inceptionism-going-deeper-into-neural.html does something similar, so check it out if you're interested.\n",
        "\n",
        "Consider that we pass a certain image $\\tilde x$ through the network and get the output $z^n$ from the neural network.\n",
        "\n",
        "Based on that output we would like to reconstruct the input to better understand how well our neural network has learned the original image. Denote with $\\hat z^n$ the output from the same layer for some input $x$.\n",
        "\n",
        "Consider then the squared error loss\n",
        "$$\n",
        "\\mathcal{L}(z^n, \\hat z^n) = ||z^n-\\hat z^n||_2^2,\n",
        "$$\n",
        "\n",
        "We will give the network a certain input image $\\tilde x$ and obtain the layer values for that image $z^n$. We assume we only observe $z^n$, but want to *reconstruct* $\\tilde x$. To do that we will optimise over the $x$ that gets us as close as possible to that layer output:\n",
        "$$\n",
        "x^* = \\arg\\min_{x} \\mathcal{L}(z^n, \\hat z^n).\n",
        "$$\n",
        "\n",
        "We will further follow the work of https://arxiv.org/pdf/1412.0035v1.pdf\n",
        "\n",
        "It can be useful to restrict the reconstruction to the subset of natural images - in order to make the above reconstruction better (and easier to interpret). In order to do so, we need to define the properties that natural images have. A proxy used in the above paper is to incorporate in the reconstruction an appropriate image prior. As in the paper, we will try two things:\n",
        "\n",
        "1. the $\\alpha$-norm: $R(x) = ||x||_{\\alpha}^{\\alpha}$ where $x$ is the vectorised and meansubtracted image. With this regularisation we force the image values to stay within a certain range.\n",
        "\n",
        "2. the total variation encouraging images to consist of piece-wise constant patches: $R(x) = \\sum_{i,j} \\left((x_{i,j+1}-x_{ij})^2 + (x_{i+1,j}-x_{ij})^2\\right)^{\\frac{\\beta}{2}}$ where $x\\in\\mathbb{R}^{H\\times W}$ with $H$ the height and $W$ the width.\n",
        "\n",
        "We will add the above terms as regularisers to our loss function."
      ]
    },
    {
      "cell_type": "code",
      "execution_count": 16,
      "metadata": {
        "id": "645a029f"
      },
      "outputs": [],
      "source": [
        "# Define our new criteria:\n",
        "def R_1(img, alpha):\n",
        "    img = torch.flatten(img)\n",
        "    R1 = torch.linalg.norm(img, ord=alpha)\n",
        "    return R1\n",
        "\n",
        "def R_2(img, beta):\n",
        "    R2 = torch.sum(torch.pow(torch.flatten(torch.pow(img[:,:,:,1:] - img[:,:,:,:-1], 2)) \\\n",
        "                                + torch.flatten(torch.pow(img[:,:,1:,:] - img[:,:,:-1,:], 2)), beta/2))\n",
        "    return R2\n",
        "\n",
        "# Load a new batch of data\n",
        "dataiter = iter(trainloader)"
      ]
    },
    {
      "cell_type": "markdown",
      "metadata": {
        "id": "e3e44171"
      },
      "source": [
        "Let us now implement the optimisation scheme. We will begin by initialising a random image, then minimising the loss criterion that we discussed above."
      ]
    },
    {
      "cell_type": "code",
      "execution_count": 17,
      "metadata": {
        "id": "OiHJFMA17zRp"
      },
      "outputs": [
        {
          "data": {
            "image/png": "[encoded data removed]",
            "text/plain": [
              "<Figure size 640x480 with 1 Axes>"
            ]
          },
          "metadata": {},
          "output_type": "display_data"
        },
        {
          "name": "stdout",
          "output_type": "stream",
          "text": [
            "227.9542999267578\n",
            "114.77037048339844\n",
            "111.603759765625\n",
            "112.7210464477539\n",
            "119.06454467773438\n",
            "115.1166763305664\n",
            "119.18051147460938\n",
            "117.10003662109375\n",
            "118.67233276367188\n",
            "119.37542724609375\n",
            "115.54032135009766\n",
            "112.92185974121094\n",
            "118.81661987304688\n",
            "118.51351928710938\n",
            "119.10317993164062\n",
            "115.01876068115234\n",
            "114.24691772460938\n",
            "112.23377227783203\n",
            "117.9556884765625\n",
            "114.9796142578125\n"
          ]
        },
        {
          "data": {
            "image/png": "[encoded data removed]",
            "text/plain": [
              "<Figure size 640x480 with 1 Axes>"
            ]
          },
          "metadata": {},
          "output_type": "display_data"
        }
      ],
      "source": [
        "# Get some image\n",
        "images, labels = next(dataiter)\n",
        "img = images[0] # take just the first image; the above thing is an array of images of size batchsize\n",
        "img = img / 2 + 0.5     # unnormalize\n",
        "\n",
        "# Print the original image\n",
        "npimg = img.numpy() # translate to numpy\n",
        "npimg_t = np.transpose(npimg, (1, 2, 0)) # transpose things\n",
        "plt.imshow(npimg_t)\n",
        "plt.title(str(classes[labels[0]]))\n",
        "plt.show()\n",
        "\n",
        "# Pas the image through the network and get the layer output\n",
        "true_out = net.forward_partial(images[0:1,:,:,:])\n",
        "\n",
        "# Optimize the output from the layer for some random input to get close to the output for the original image\n",
        "sample_image = torch.rand(1, 3, 32, 32)\n",
        "sample_image.requires_grad = True\n",
        "nr_its_in = 100000\n",
        "lr = 0.0001\n",
        "for it in range(nr_its_in):\n",
        "    sample_out = net.forward_partial(sample_image)\n",
        "    sample_loss = torch.sum(torch.pow(true_out.detach() - sample_out, 2)) \\\n",
        "            + 0.05 * R_1(sample_image, 6) + 0.1 * R_2(sample_image, beta=2)\n",
        "    sample_loss.backward()\n",
        "    # Perform the gradient step to improve the sample_image\n",
        "    with torch.no_grad():\n",
        "        sample_image -= lr*sample_image.grad #+ 0.001*torch.rand(sample_image.shape)\n",
        "    if it%5000==0:\n",
        "        print(sample_loss.item())\n",
        "\n",
        "# Print reconstructed image\n",
        "numpy_image = sample_image.detach().numpy()\n",
        "# Constrain to the right range\n",
        "numpy_image += np.abs(numpy_image.min())\n",
        "numpy_image /= numpy_image.max()\n",
        "numpy_image = np.transpose(numpy_image[0,:,:,:], (1, 2, 0))\n",
        "plt.imshow(numpy_image)\n",
        "plt.title(classes[labels[0]])\n",
        "plt.show()"
      ]
    },
    {
      "cell_type": "markdown",
      "metadata": {
        "id": "7c74dbc8"
      },
      "source": [
        "Run the above code multiple times - for certain images the reconstruction works better than for others.\n",
        "\n",
        "## Task:\n",
        "Try to change the layer whose output we use. You can do this by modifying the forward_partial function we defined in the neural network class. Are any particular layers better at reconstructing the image?\n",
        "\n",
        "Also try to add or remove the noise - is there any difference in training with noise? Try also changing the parameters to see if you can find a configuration which obtains better results than what I managed to obtain.\n",
        "\n",
        "What do you think of the above? We can in general reconstruct something even with our relatively simple model (compared to the architectures Google and so on use). What if the input image contained sensitive information? Can you think that the above is a privacy or security risk?"
      ]
    },
    {
      "cell_type": "markdown",
      "metadata": {
        "id": "fC1vRy8410sV"
      },
      "source": [
        "# ResNet\n",
        "\n",
        "Let's now try to code a different model. We will follow the architecture of ResNet (see https://arxiv.org/pdf/1512.03385.pdf), which has had a significant impact on the architectures we use in many models due to introducing the idea of skip connections.\n",
        "\n",
        "ResNet is divided into building blocks called Residual blocks, which are made up of convolutional layers. Let $F$ define a non-linear mapping (such as a sequence of convolutional layers, activation functions, etc.). CNNs such as the previous one we coded would typically model the output of a collection of convolutional layers as\n",
        "$$\n",
        "x_{l+1} = F(x_l).\n",
        "$$\n",
        "ResNet adds the input to the output of the block, so that\n",
        "$$\n",
        "x_{l+1} = x_l + F(x_l).\n",
        "$$\n",
        "This identity addition is what we call a **skip connection**. Note that it does not add computational complexity to $F$. When we apply backpropagation on the Residual block, we obtain\n",
        "$$\n",
        "\\frac{\\partial x_{l+1}}{\\partial x_l} = I + \\frac{\\partial F}{\\partial x_l},\n",
        "$$\n",
        "where $I$ is the identity matrix, instead of\n",
        "$$\n",
        "\\frac{\\partial x_{l+1}}{\\partial x_l} = \\frac{\\partial F}{\\partial x_l}.\n",
        "$$\n",
        "\n"
      ]
    },
    {
      "cell_type": "markdown",
      "metadata": {
        "id": "KmBytbPF33zl"
      },
      "source": [
        "##Residual Blocks\n",
        "\n",
        "Let's begin by coding a residual block. Let $x$ be the input to the residual block. The structure of the residual blocks will be:\n",
        "\n",
        " input -> convolutional layer 1 -> batchnorm -> ReLU -> convolutional layer 2 -> batchnorm + input -> ReLU.\n",
        "\n",
        "Before applying the ReLU activation function after the second convolutional layer, we add the input of the block to the output (we call this the residual). **The parameters of the residual blocks are defined in order to either preserve or decrease the dimensions (height and width) of the input.** If the dimensions are preserved, then we can simply add the input at the end of the residual block, if the dimensions are decreased, we also downsample the input so that the dimensions match.\n",
        "\n",
        "Parameters:\n",
        "*   in_channels: number of input channels into residual block\n",
        "*   out_channels: number of output channels out of residual block\n",
        "*   stride: size of stride of **first convolutional layer** (this layer will determine if the output of the residual block has the same dimensionality or different to the input)\n",
        "*   reduce_dim: this is a boolean to define if we want to reduce the dimensionality of the input or not. If so, we will apply a 1x1 convolution with stride 2"
      ]
    },
    {
      "cell_type": "code",
      "execution_count": 19,
      "metadata": {
        "id": "TDBt_rzn1_w6"
      },
      "outputs": [],
      "source": [
        "class ResidualBlock(nn.Module):\n",
        "    def __init__(self, in_channels, out_channels, stride=1, reduce_dim=False):\n",
        "        super(ResidualBlock, self).__init__()\n",
        "        self.conv1 = nn.Conv2d(in_channels, out_channels, kernel_size = 3, stride = stride, padding = 1) # first convolutional layer\n",
        "        # size after convolution: n_out = floor((n_in + 2*1 - 3)/stride) + 1\n",
        "        # check that when stride=1 n_out = n_in, when stride=2 n_out = floor((n_in - 1)/2) + 1\n",
        "\n",
        "        self.conv2 = nn.Conv2d(out_channels, out_channels, kernel_size = 3, stride = 1, padding = 1) # second convolutional layer\n",
        "        # size after convolution: n_out = floor((n_in + 2*1 - 3)/1) + 1 = n_in so size is preserved\n",
        "\n",
        "        self.reduce_dim = reduce_dim\n",
        "        self.downsample = nn.Conv2d(in_channels, out_channels, kernel_size = 1, stride = 2, padding = 0) # convolutional layer to reduce dimensionality of the input\n",
        "        # size after convolution: n_out = floor((n_in - 1)/2) + 1\n",
        "        # this is the same dimensionality as what we obtain after applying conv1 with stride=2 followed by conv2\n",
        "\n",
        "        self.bn1 = nn.BatchNorm2d(out_channels)\n",
        "        self.bn2 = nn.BatchNorm2d(out_channels)\n",
        "        self.relu = nn.ReLU()\n",
        "        self.out_channels = out_channels\n",
        "\n",
        "    def forward(self, x):\n",
        "        residual = x\n",
        "        out = self.relu(self.bn1(self.conv1(x)))\n",
        "        out = self.bn2(self.conv2(out))\n",
        "        if self.reduce_dim: # if after conv1 the dimensionality is changed, we apply downsample in order for dim(residual) and dim(out) to match\n",
        "            residual = self.downsample(x)\n",
        "        out += residual # add input (this is the skip connection)\n",
        "        out = self.relu(out)\n",
        "        return out"
      ]
    },
    {
      "cell_type": "markdown",
      "metadata": {
        "id": "1XuZSBgMFJJj"
      },
      "source": [
        "## Architecture\n",
        "\n",
        "The ResNet architecture consists of input convolutional layers, groups of Residual Blocks and some output linear layers.\n",
        "\n",
        "Input layers -> Residual blocks -> Output layers\n",
        "\n",
        "Of all the Residual Blocks, only some of them will reduce the dimensionality of the input. For example, if ResNet has [3, 3, 3] blocks, then we have 3 times a group of 3 blocks. **Dimensionality reduction will occur in the first residual block of each group, excluding the first group.** In the case of [3, 3, 3] dimensionality reduction occurs in the fourth and seventh residual blocks. ResNets are usually implemented with more residual blocks (that show a better performance), however we will code a smaller version with the structure [3, 3, 3].\n",
        "\n",
        "Structure of input layers:\n",
        "\n",
        "1.   Convolutional layer (3 input channels, 32 output channels, kernel of size 7x7, stride 2, padding 3), followed by batchnorm and a ReLU activation\n",
        "2.   Maxpool (kernel of size 3x3, stride 2, padding 1)\n",
        "\n",
        "Structure of output layers:\n",
        "\n",
        "1.   Averagepool (kernel of size 2x2, , stride 1, padding 0)\n",
        "2.   Linear layer\n",
        "\n",
        "We will use the function _make_group to add the groups of residual blocks described above."
      ]
    },
    {
      "cell_type": "code",
      "execution_count": 20,
      "metadata": {
        "id": "iEtswIC6u5ya"
      },
      "outputs": [],
      "source": [
        "class ResNet(nn.Module):\n",
        "    def __init__(self, block, groups, num_classes = 10):\n",
        "        super(ResNet, self).__init__()\n",
        "\n",
        "        self.conv1 = nn.Conv2d(in_channels=3, out_channels=32, kernel_size=7, stride=2, padding=3)\n",
        "        self.bn = nn.BatchNorm2d(32)\n",
        "        self.relu = nn.ReLU()\n",
        "        self.maxpool = nn.MaxPool2d(kernel_size = 3, stride = 2, padding = 1)\n",
        "\n",
        "        self.inplanes = 32 # define the number of channels of the input of the first residual block (this will be updated as the residual blocks are added to the network)\n",
        "\n",
        "        # groups of residual blocks\n",
        "        self.group0 = self._make_group(block, 32, groups[0], stride = 1)\n",
        "        self.group1 = self._make_group(block, 64, groups[1], stride = 2)\n",
        "        self.group2 = self._make_group(block, 128, groups[2], stride = 2)\n",
        "\n",
        "        self.avgpool = nn.AvgPool2d(2, stride=1)\n",
        "        self.fc = nn.Linear(128, num_classes)\n",
        "\n",
        "    def _make_group(self, block, planes, blocks, stride=1):\n",
        "        '''\n",
        "        block: residual block used in model\n",
        "        planes: int, number of channels the output of group should have\n",
        "        stride: int, size of stride of first convolutional layer of first residual block in group\n",
        "        '''\n",
        "        reduce_dim=False\n",
        "\n",
        "        # first residual block in group\n",
        "        if stride != 1 or self.inplanes != planes: # we reduce dimensionality when stride=2 or if the input and output channels into the residual block do not match\n",
        "            reduce_dim=True\n",
        "        group = []\n",
        "        group.append(block(self.inplanes, planes, stride, reduce_dim)) # add residual block to list\n",
        "        self.inplanes = planes # update number of channels of input to next residual block (according to output of current residual block)\n",
        "\n",
        "        # remaining residual blocks in group\n",
        "        for i in range(1, blocks):\n",
        "            group.append(block(self.inplanes, planes))\n",
        "\n",
        "        return nn.Sequential(*group)\n",
        "\n",
        "\n",
        "    def forward(self, x):\n",
        "        # input layers\n",
        "        x = self.relu(self.bn(self.conv1(x)))\n",
        "        x = self.maxpool(x)\n",
        "\n",
        "        # groups of residual blocks\n",
        "        x = self.group0(x)\n",
        "        x = self.group1(x)\n",
        "        x = self.group2(x)\n",
        "\n",
        "        # output layers\n",
        "        x = self.avgpool(x)\n",
        "        x = x.view(x.size(0), -1) # flatten all dimensions except batch\n",
        "        x = self.fc(x)\n",
        "\n",
        "        return x"
      ]
    },
    {
      "cell_type": "markdown",
      "metadata": {
        "id": "8VzB06TU_8qA"
      },
      "source": [
        "Let's train the model. You can also compare different architectures (instead of [3, 3, 3]) to see what produces the best accuracy."
      ]
    },
    {
      "cell_type": "code",
      "execution_count": 21,
      "metadata": {
        "id": "U6YwUeB52akB"
      },
      "outputs": [
        {
          "name": "stdout",
          "output_type": "stream",
          "text": [
            "Epoch 0\n",
            "0 2.4037511348724365\n",
            "100 1.49985671043396\n",
            "200 1.3770809173583984\n",
            "300 1.333399772644043\n",
            "Epoch 1\n",
            "0 1.1392457485198975\n",
            "100 1.0255844593048096\n",
            "200 0.9374564290046692\n",
            "300 0.9032618403434753\n",
            "Epoch 2\n",
            "0 0.7176522612571716\n",
            "100 0.7172557711601257\n",
            "200 0.8476015329360962\n",
            "300 0.7533341646194458\n",
            "Epoch 3\n",
            "0 0.8600922226905823\n",
            "100 0.7855045795440674\n",
            "200 0.6615639328956604\n",
            "300 0.7541272640228271\n",
            "Epoch 4\n",
            "0 0.6378600597381592\n",
            "100 0.7972314357757568\n",
            "200 0.7555341720581055\n",
            "300 0.6920290589332581\n",
            "Epoch 5\n",
            "0 0.5378790497779846\n",
            "100 0.6075716614723206\n",
            "200 0.5315659642219543\n",
            "300 0.567392885684967\n",
            "Epoch 6\n",
            "0 0.3093158006668091\n",
            "100 0.5584964156150818\n",
            "200 0.42723122239112854\n",
            "300 0.6376588940620422\n",
            "Epoch 7\n",
            "0 0.6233102679252625\n",
            "100 0.4441046118736267\n",
            "200 0.45132479071617126\n",
            "300 0.3998779356479645\n",
            "Epoch 8\n",
            "0 0.3561258912086487\n",
            "100 0.34176814556121826\n",
            "200 0.4397446811199188\n",
            "300 0.38712599873542786\n",
            "Epoch 9\n",
            "0 0.4071180820465088\n",
            "100 0.31907084584236145\n",
            "200 0.35876235365867615\n",
            "300 0.48967599868774414\n",
            "Epoch 10\n",
            "0 0.30951812863349915\n",
            "100 0.1842881590127945\n",
            "200 0.413853257894516\n",
            "300 0.45011642575263977\n",
            "Epoch 11\n",
            "0 0.36581239104270935\n",
            "100 0.25987911224365234\n",
            "200 0.41928789019584656\n",
            "300 0.3392609655857086\n",
            "Epoch 12\n",
            "0 0.22585061192512512\n",
            "100 0.16604965925216675\n",
            "200 0.14351625740528107\n",
            "300 0.2461140751838684\n",
            "Epoch 13\n",
            "0 0.2417263239622116\n",
            "100 0.18334338068962097\n",
            "200 0.14192363619804382\n",
            "300 0.21648116409778595\n",
            "Epoch 14\n",
            "0 0.11447172611951828\n",
            "100 0.13544850051403046\n",
            "200 0.11851038038730621\n",
            "300 0.16324634850025177\n",
            "Finished Training\n"
          ]
        }
      ],
      "source": [
        "resnet = ResNet(block=ResidualBlock, groups=[3, 3, 3]) # total number of residual blocks is 9\n",
        "train(model=resnet.train(), nr_epochs=15, optimizer=optim.SGD(resnet.parameters(), lr=0.01, momentum = 0.9), criterion=nn.CrossEntropyLoss())"
      ]
    },
    {
      "cell_type": "markdown",
      "metadata": {
        "id": "AULFeQN_A4R5"
      },
      "source": [
        "Let's evaluate the ResNet on the test set. We can compare the performance to the previous CNN we coded."
      ]
    },
    {
      "cell_type": "code",
      "execution_count": 22,
      "metadata": {
        "id": "CuDYubul2fRJ"
      },
      "outputs": [
        {
          "name": "stdout",
          "output_type": "stream",
          "text": [
            "Accuracy of the network on the test images: 73 %\n"
          ]
        }
      ],
      "source": [
        "accuracy(resnet.eval())"
      ]
    },
    {
      "cell_type": "markdown",
      "metadata": {
        "id": "3M7JiLpzEMzV"
      },
      "source": [
        "# Task: implement Pre-Activation Residual Blocks\n",
        "\n",
        "One of the variants of ResNet involves using Residual Blocks with a different architecture. Let's look at Pre-Activation Residual Blocks. In the original model, the activation function (in our case the ReLU function) is applied after the skip connection. In the pre-activation variant, the batchnorm and ReLU function are applied **at the beginning of the residual block**:\n",
        "\n",
        "input -> batchnorm -> ReLU -> convolutional layer 1 -> batchnorm -> ReLU -> convolutional layer 2 + input\n",
        "\n",
        "Note that the input layers of ResNet will have to be modified: the batchnorm and ReLU in the input layers will have to be removed in order to not be applied twice."
      ]
    },
    {
      "cell_type": "code",
      "execution_count": 23,
      "metadata": {
        "id": "PkyhcHfWLb0n"
      },
      "outputs": [],
      "source": [
        "class PreActivationResidualBlock(nn.Module):\n",
        "    def __init__(self, in_channels, out_channels, stride=1, reduce_dim=False):\n",
        "        super(PreActivationResidualBlock, self).__init__()\n",
        "        self.conv1 = nn.Conv2d(in_channels, out_channels, kernel_size = 3, stride = stride, padding = 1) # first convolutional layer\n",
        "        # size after convolution: n_out = floor((n_in + 2*1 - 3)/stride) + 1\n",
        "        # check that when stride=1 n_out=n_in, when stride=2 n_out=floor(n_out/2)+1\n",
        "\n",
        "        self.conv2 = nn.Conv2d(out_channels, out_channels, kernel_size = 3, stride = 1, padding = 1) # second convolutional layer\n",
        "        # size after convolution: n_out = floor((n_in + 2*1 - 3)/1) + 1 = n_in so size is preserved\n",
        "\n",
        "        self.reduce_dim = reduce_dim\n",
        "        self.downsample = nn.Conv2d(in_channels, out_channels, kernel_size = 1, stride = 2, padding = 0) # convolutional layer to reduce dimensionality of the input\n",
        "        # size after convolution: n_out = floor((n_in - 1)/2) + 1 = floor(n_out/2) + 1\n",
        "        # check that this is the same dimensionality as after applying conv1 with stride=2 and conv2\n",
        "\n",
        "        self.bn1 = nn.BatchNorm2d(in_channels)\n",
        "        self.bn2 = nn.BatchNorm2d(out_channels)\n",
        "        self.relu = nn.ReLU()\n",
        "        self.out_channels = out_channels\n",
        "\n",
        "    def forward(self, x):\n",
        "        residual = x\n",
        "        out = self.relu(self.bn1(x))\n",
        "        out = self.relu(self.bn2(self.conv1(out)))\n",
        "        out = self.conv2(out)\n",
        "        if self.reduce_dim: # if after conv1 the dimensionality is changed, we apply downsample in order for dim(residual) and dim(out) to match\n",
        "            residual = self.downsample(x)\n",
        "        out += residual # add input (this is the skip connection)\n",
        "        return out"
      ]
    },
    {
      "cell_type": "code",
      "execution_count": 24,
      "metadata": {
        "id": "uL7l3OXTLoBw"
      },
      "outputs": [
        {
          "name": "stdout",
          "output_type": "stream",
          "text": [
            "Epoch 0\n",
            "0 2.3860740661621094\n",
            "100 1.5313910245895386\n",
            "200 1.3736987113952637\n",
            "300 1.2616029977798462\n",
            "Epoch 1\n",
            "0 1.0071972608566284\n",
            "100 1.0641313791275024\n",
            "200 1.101170301437378\n",
            "300 1.0925686359405518\n",
            "Epoch 2\n",
            "0 0.827619194984436\n",
            "100 0.7782801389694214\n",
            "200 0.8664402961730957\n",
            "300 0.7606693506240845\n",
            "Epoch 3\n",
            "0 0.7622087001800537\n",
            "100 0.6166249513626099\n",
            "200 0.656333863735199\n",
            "300 0.7050131559371948\n",
            "Epoch 4\n",
            "0 0.5533624887466431\n",
            "100 0.49072137475013733\n",
            "200 0.6036584377288818\n",
            "300 0.467928022146225\n",
            "Epoch 5\n",
            "0 0.5426676273345947\n",
            "100 0.47110608220100403\n",
            "200 0.5499913692474365\n",
            "300 0.47029247879981995\n",
            "Epoch 6\n",
            "0 0.34627875685691833\n",
            "100 0.3555895686149597\n",
            "200 0.3442757725715637\n",
            "300 0.4884730577468872\n",
            "Epoch 7\n",
            "0 0.266757994890213\n",
            "100 0.23399610817432404\n",
            "200 0.2866652011871338\n",
            "300 0.3576798737049103\n",
            "Epoch 8\n",
            "0 0.22245347499847412\n",
            "100 0.388348251581192\n",
            "200 0.2621714174747467\n",
            "300 0.42533648014068604\n",
            "Epoch 9\n",
            "0 0.18853971362113953\n",
            "100 0.13918140530586243\n",
            "200 0.2980141341686249\n",
            "300 0.2953748404979706\n",
            "Epoch 10\n",
            "0 0.22444462776184082\n",
            "100 0.1842542290687561\n",
            "200 0.16519767045974731\n",
            "300 0.39737027883529663\n",
            "Epoch 11\n",
            "0 0.14668861031532288\n",
            "100 0.17377203702926636\n",
            "200 0.09980607032775879\n",
            "300 0.296282559633255\n",
            "Epoch 12\n",
            "0 0.10737641155719757\n",
            "100 0.10813243687152863\n",
            "200 0.1913568377494812\n",
            "300 0.13983303308486938\n",
            "Epoch 13\n",
            "0 0.1348855346441269\n",
            "100 0.14060349762439728\n",
            "200 0.07463545352220535\n",
            "300 0.08784312009811401\n",
            "Epoch 14\n",
            "0 0.09810924530029297\n",
            "100 0.07107651978731155\n",
            "200 0.069081611931324\n",
            "300 0.16038455069065094\n",
            "Finished Training\n"
          ]
        }
      ],
      "source": [
        "pre_act_resnet = ResNet(block=PreActivationResidualBlock, groups=[3, 3, 3])\n",
        "train(model=pre_act_resnet.train(), nr_epochs=15, optimizer=optim.SGD(pre_act_resnet.parameters(), lr=0.01, momentum = 0.9), criterion=nn.CrossEntropyLoss())"
      ]
    },
    {
      "cell_type": "code",
      "execution_count": null,
      "metadata": {
        "id": "5_Lq8kVlL-eZ"
      },
      "outputs": [],
      "source": [
        "accuracy(pre_act_resnet.eval())"
      ]
    },
    {
      "cell_type": "markdown",
      "metadata": {
        "id": "M1_qlA_PQk-x"
      },
      "source": [
        "The Pre-activation ResNet has been shown to perform better than the original ResNet for very deep networks. Is the same true in our shallow setting?\n",
        "\n",
        "Feel free to experiment with other structures of residual blocks (see Figure 4 in https://arxiv.org/pdf/1603.05027.pdf)."
      ]
    },
    {
      "cell_type": "markdown",
      "metadata": {
        "id": "iQjnLorgZ80R"
      },
      "source": [
        "# References\n",
        "\n",
        "\n",
        "\n",
        "*   Aravindh Mahendran and Andrea Vedaldi (2014). Understanding deep image representations by inverting them. Arxiv: https://arxiv.org/abs/1412.0035\n",
        "*   Kaiming He, Xiangyu Zhang, Shaoqing Ren and Jian SunDeep (2015). Residual Learning for Image Recognition. Arxiv: https://arxiv.org/pdf/1512.03385.pdf\n",
        "*   Kaiming He, Xiangyu Zhang, Shaoqing Ren, and Jian Sun (2016). Identity Mappings in Deep Residual Networks. Arxiv: https://arxiv.org/pdf/1603.05027.pdf\n",
        "*   https://blog.paperspace.com/writing-resnet-from-scratch-in-pytorch/\n",
        "*   https://uvadlc-notebooks.readthedocs.io/en/latest/tutorial_notebooks/tutorial5/Inception_ResNet_DenseNet.html#ResNet\n",
        "\n"
      ]
    }
  ],
  "metadata": {
    "colab": {
      "provenance": [],
      "toc_visible": true
    },
    "kernelspec": {
      "display_name": "Python 3",
      "name": "python3"
    },
    "language_info": {
      "codemirror_mode": {
        "name": "ipython",
        "version": 3
      },
      "file_extension": ".py",
      "mimetype": "text/x-python",
      "name": "python",
      "nbconvert_exporter": "python",
      "pygments_lexer": "ipython3",
      "version": "3.11.5"
    }
  },
  "nbformat": 4,
  "nbformat_minor": 0
}
