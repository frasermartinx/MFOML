{
  "nbformat": 4,
  "nbformat_minor": 0,
  "metadata": {
    "colab": {
      "provenance": [],
      "gpuType": "T4"
    },
    "kernelspec": {
      "name": "python3",
      "display_name": "Python 3"
    },
    "language_info": {
      "name": "python"
    },
    "accelerator": "GPU"
  },
  "cells": [
    {
      "cell_type": "markdown",
      "metadata": {
        "id": "idfDbdst8Tnq"
      },
      "source": [
        "# Goal of the tutorial\n",
        "\n",
        "*   Understand convolutional layers\n",
        "*   Implement a convolutional neural network using Pytorch\n",
        "*   Understand what a network leanrs through data reconstruction\n",
        "*   Understand residual blocks and implement a residual neural network (ResNet)"
      ]
    },
    {
      "cell_type": "markdown",
      "metadata": {
        "id": "2ffb8600"
      },
      "source": [
        "# Loading the libraries and dataset"
      ]
    },
    {
      "cell_type": "code",
      "execution_count": null,
      "metadata": {
        "id": "f35648e3"
      },
      "outputs": [],
      "source": [
        "# Let's load the usual libraries\n",
        "import numpy as np\n",
        "import torch\n",
        "import torchvision\n",
        "import torchvision.transforms as transforms\n",
        "import matplotlib.pyplot as plt\n",
        "import torch.nn as nn\n",
        "import torch.nn.functional as F\n",
        "import torch.optim as optim"
      ]
    },
    {
      "cell_type": "markdown",
      "metadata": {
        "id": "ba2c32e2"
      },
      "source": [
        "For this tutorial, we will use the CIFAR10 dataset. It has the classes: ‘airplane’, ‘automobile’, ‘bird’, ‘cat’, ‘deer’, ‘dog’, ‘frog’, ‘horse’, ‘ship’, ‘truck’. Each class is of size 6000. The images in CIFAR-10 are of size 3x32x32, i.e. 3-channel color images (red, green and blue) of 32x32 pixels in size. Let's load it."
      ]
    },
    {
      "cell_type": "code",
      "execution_count": null,
      "metadata": {
        "colab": {
          "base_uri": "https://localhost:8080/"
        },
        "id": "0200f8ca",
        "outputId": "9b622821-f48f-4ba3-ffd9-368134271dc1"
      },
      "outputs": [
        {
          "output_type": "stream",
          "name": "stdout",
          "text": [
            "Files already downloaded and verified\n",
            "Files already downloaded and verified\n"
          ]
        }
      ],
      "source": [
        "transform = transforms.Compose(\n",
        "    [transforms.ToTensor(),\n",
        "     transforms.Normalize((0.5, 0.5, 0.5), (0.5, 0.5, 0.5))])\n",
        "\n",
        "batch_size = 128\n",
        "\n",
        "trainset = torchvision.datasets.CIFAR10(root='./data', train=True,\n",
        "                                        download=True, transform=transform)\n",
        "trainloader = torch.utils.data.DataLoader(trainset, batch_size=batch_size,\n",
        "                                          shuffle=True, num_workers=2)\n",
        "\n",
        "testset = torchvision.datasets.CIFAR10(root='./data', train=False,\n",
        "                                       download=True, transform=transform)\n",
        "testloader = torch.utils.data.DataLoader(testset, batch_size=batch_size,\n",
        "                                         shuffle=False, num_workers=2)\n",
        "\n",
        "classes = ('plane', 'car', 'bird', 'cat',\n",
        "           'deer', 'dog', 'frog', 'horse', 'ship', 'truck')"
      ]
    },
    {
      "cell_type": "markdown",
      "metadata": {
        "id": "q02iGheK-FDx"
      },
      "source": [
        "Let's visualise one of the images in the dataset."
      ]
    },
    {
      "cell_type": "code",
      "execution_count": null,
      "metadata": {
        "colab": {
          "base_uri": "https://localhost:8080/",
          "height": 452
        },
        "outputId": "38d0320e-3a1f-4f2c-c7eb-0aa453ec07a1",
        "id": "LuTUIFjF1D9A"
      },
      "outputs": [
        {
          "output_type": "display_data",
          "data": {
            "text/plain": [
              "<Figure size 640x480 with 1 Axes>"
            ],
            "image/png": "[encoded data removed]"
          },
          "metadata": {}
        }
      ],
      "source": [
        "# get some random training images; this will load a set of images of size batchsize\n",
        "dataiter = iter(trainloader)\n",
        "images, labels = next(dataiter)\n",
        "img = images[0] # take just the first image; the above thing is an array of images of size batchsize\n",
        "img = img / 2 + 0.5     # unnormalize\n",
        "\n",
        "# Print the original image\n",
        "npimg = img.numpy() # translate to numpy\n",
        "npimg_t = np.transpose(npimg, (1, 2, 0))\n",
        "plt.imshow(npimg_t)\n",
        "plt.title(str(classes[labels[0]]))\n",
        "plt.show()"
      ]
    },
    {
      "cell_type": "markdown",
      "metadata": {
        "id": "0fec32da"
      },
      "source": [
        "# Implementing a Convolutional Neural Network"
      ]
    },
    {
      "cell_type": "markdown",
      "metadata": {
        "id": "mZx9h8xuB2mx"
      },
      "source": [
        "Let's begin by understanding convolutional layers. We will use the Pytorch conv2d function (https://pytorch.org/docs/stable/generated/torch.nn.Conv2d.html) to implement these. It has the following arguments:\n",
        "- in_channels: the number of channels of the input\n",
        "- out_channels: the number of channels we want the output to have (i.e. how many times we apply different kernels)\n",
        "- kernel_size: the size of the filter\n",
        "- stride: number of rows/columns traversed every time the filter is applied\n",
        "- padding: size of extra pixels added at edge of image\n",
        "\n",
        "It has some other parameters of which we will use the default modes (and hence we don't specify them):\n",
        "bias = True, dilation = 1.\n",
        "\n",
        "Remember the following:\n",
        "\n",
        "If we have an input $I$ of size $[N, C_{in}, H, W]$, where $N$ is the number of images passed through the layer, $C_{in}$ is the number of channels each image has, and $H$ and $W$ are the height and width of the image, respectively.\n",
        "The output is then computed as,\n",
        "$$\n",
        "O[N_n, C_{out_j}, :, :] = b[C_{out_j}] + \\sum_{i=0}^{C_{in}-1} w[C_{out_j},i]*I[N_n, i, :, :].\n",
        "$$\n",
        "\n",
        "When implementing convolutional layers, it is useful to keep track of the size (height and width) of the images outputted in each layer. In the CIFAR10 dataset we use square images, so height=width.\n",
        "\n",
        "Let us define the following:\n",
        "\n",
        "\n",
        "*   $n_{in}$: height (or width) of input image\n",
        "*   $k$: size of kernel\n",
        "*   $p$: size of padding\n",
        "*   $s$: size of stride\n",
        "\n",
        "\n",
        "The height of the output image will be given by\n",
        "$$\n",
        "n_{out} = \\left \\lfloor \\frac{n_{in} + 2p - k}{s} \\right \\rfloor + 1,\n",
        "$$\n",
        "\n",
        "where $\\lfloor \\cdot \\rfloor$ is the floor function.\n",
        "\n",
        "In-between conv2d layers we can apply an activation function (e.g. ReLU), batchnorm and pooling layers. Pooling layers apply an operation within a window of pixels defined by a size and a stride.\n",
        "\n",
        "We can now define the structure of our convolutional neural network. The first part of the network will involve convolutional layers, and the second part will be made up of fully connected layers. Assume we have an input image $x$ of size $3 \\times 32 \\times 32$ (number of channels and image dimensions). We will use the following:\n",
        "1. The input goes into a convolutional layer (3 input channels, 6 output channels, kernel of size 5x5, stride 1, padding 1), followed by a ReLU activation and maxpool layer (size 2, stride 2)\n",
        "2. The output from the previous operation goes into another convolutional layer (6 input channels, 16 output channels, kernel of size 5x5, stride 2, padding 1) followed by ReLU\n",
        "3. Then there will be two linear layer + ReLU's and a final linear layer.\n",
        "\n",
        "\n",
        "\n"
      ]
    },
    {
      "cell_type": "code",
      "execution_count": null,
      "metadata": {
        "id": "IseWyw_BbaTu"
      },
      "outputs": [],
      "source": [
        "class Net(nn.Module):\n",
        "    # in the init function we will just define several layers that we can later use\n",
        "    def __init__(self):\n",
        "        super().__init__()\n",
        "\n",
        "        self.conv1 = nn.Conv2d(in_channels=3, out_channels=6, kernel_size=5, stride=1, padding=1) # convolutional layer\n",
        "        # what is the size of the object after the above convolution? original image is 32x32; after convolution\n",
        "        # it will be floor((32 + 2*1 - 5)/1) + 1 = 30 -> 30x30\n",
        "\n",
        "        # a pooling layer: it 'pools' together 2x2 of the inputs by keeping only the maximum value\n",
        "        # and uses a stride of 2\n",
        "        self.pool = nn.MaxPool2d(2, stride=2)\n",
        "        # after pooling size is 15x15 (see: https://pytorch.org/docs/stable/generated/torch.nn.MaxPool2d.html)\n",
        "\n",
        "        self.conv2 = nn.Conv2d(in_channels=6, out_channels=16, kernel_size=5, stride=2, padding=1) # convolutional layer\n",
        "        # size after convolution: floor((15 + 2*1 - 5)/2) + 1 = 7 -> 7x7\n",
        "\n",
        "        self.fc1 = nn.Linear(16 * 7 * 7, 512)\n",
        "        self.fc2 = nn.Linear(512, 128)\n",
        "        self.fc3 = nn.Linear(128, 10)\n",
        "\n",
        "    # here we define the forward pass, i.e. how our input x is modified as it moves through the network\n",
        "    def forward(self, x):\n",
        "        x = self.pool(F.relu(self.conv1(x))) # size after operation: 15x15\n",
        "        x = F.relu(self.conv2(x)) # size after operation: 7x7\n",
        "        x = torch.flatten(x, 1) # flatten all dimensions except batch; size is 16*7*7\n",
        "        x = F.relu(self.fc1(x))\n",
        "        x = F.relu(self.fc2(x))\n",
        "        x = self.fc3(x)\n",
        "        return x\n",
        "\n",
        "net = Net()"
      ]
    },
    {
      "cell_type": "markdown",
      "source": [
        "Let's write a training function:"
      ],
      "metadata": {
        "id": "LrhLaaJNpVJd"
      }
    },
    {
      "cell_type": "code",
      "source": [
        "def train(model, nr_epochs, optimizer, criterion):\n",
        "    losses = [] # store the losses\n",
        "\n",
        "    for epoch in range(0, nr_epochs):\n",
        "        print(f'Epoch {epoch}')\n",
        "        for i, data in enumerate(trainloader, 0):\n",
        "            # get the inputs; data is a list of [inputs, labels]\n",
        "            images, labels = data\n",
        "            # zero the parameter gradients\n",
        "            optimizer.zero_grad()\n",
        "            # Compute the output for all the images in the batch_size; remember we set a batch_size of 10 in the beginning!\n",
        "            outputs = model(images)\n",
        "            # Compute the loss value\n",
        "            loss = criterion(outputs, labels)\n",
        "            # Compute the gradients\n",
        "            loss.backward()\n",
        "            # Take the optimisation step\n",
        "            optimizer.step()\n",
        "\n",
        "            # print statistics\n",
        "            losses += [loss.item()]\n",
        "            if i % 100 == 0:    # print every 1000 iterations\n",
        "                print(i, loss.item())\n",
        "\n",
        "    print('Finished Training')"
      ],
      "metadata": {
        "id": "k9GyXliLpYLD"
      },
      "execution_count": null,
      "outputs": []
    },
    {
      "cell_type": "code",
      "source": [
        "train(model=net, nr_epochs=20, optimizer=optim.SGD(net.parameters(), lr=0.01, momentum=0.9), criterion=nn.CrossEntropyLoss())"
      ],
      "metadata": {
        "colab": {
          "base_uri": "https://localhost:8080/"
        },
        "id": "iOJzLfIRp1gb",
        "outputId": "39d532a2-544d-449a-8b70-5f586f77ff08"
      },
      "execution_count": null,
      "outputs": [
        {
          "output_type": "stream",
          "name": "stdout",
          "text": [
            "Epoch 0\n",
            "0 2.3142762184143066\n",
            "100 2.296750783920288\n",
            "200 2.1375272274017334\n",
            "300 1.8368284702301025\n",
            "Epoch 1\n",
            "0 1.7357410192489624\n",
            "100 1.4649178981781006\n",
            "200 1.524221420288086\n",
            "300 1.5408951044082642\n",
            "Epoch 2\n",
            "0 1.217059850692749\n",
            "100 1.3625704050064087\n",
            "200 1.255933165550232\n",
            "300 1.267778754234314\n",
            "Epoch 3\n",
            "0 1.2829068899154663\n",
            "100 1.0959336757659912\n",
            "200 1.1983723640441895\n",
            "300 1.2289085388183594\n",
            "Epoch 4\n",
            "0 1.0828533172607422\n",
            "100 0.9859827756881714\n",
            "200 1.0483819246292114\n",
            "300 0.9578251838684082\n",
            "Epoch 5\n",
            "0 0.9562321901321411\n",
            "100 0.7473869919776917\n",
            "200 1.0414830446243286\n",
            "300 0.9195214509963989\n",
            "Epoch 6\n",
            "0 0.7300156354904175\n",
            "100 0.8798450231552124\n",
            "200 0.8032562732696533\n",
            "300 0.925108790397644\n",
            "Epoch 7\n",
            "0 0.6963276863098145\n",
            "100 0.8076794147491455\n",
            "200 0.8209925293922424\n",
            "300 0.6361995935440063\n",
            "Epoch 8\n",
            "0 0.6255615949630737\n",
            "100 0.548670768737793\n",
            "200 0.8763428926467896\n",
            "300 0.531999945640564\n",
            "Epoch 9\n",
            "0 0.5377205610275269\n",
            "100 0.44269779324531555\n",
            "200 0.6415829658508301\n",
            "300 0.62213134765625\n",
            "Epoch 10\n",
            "0 0.4175812304019928\n",
            "100 0.5495494604110718\n",
            "200 0.43427208065986633\n",
            "300 0.6267217993736267\n",
            "Epoch 11\n",
            "0 0.3546465039253235\n",
            "100 0.2922792434692383\n",
            "200 0.4174160659313202\n",
            "300 0.46662637591362\n",
            "Epoch 12\n",
            "0 0.4172227680683136\n",
            "100 0.3523162603378296\n",
            "200 0.3633766770362854\n",
            "300 0.3178965151309967\n",
            "Epoch 13\n",
            "0 0.27955180406570435\n",
            "100 0.27480167150497437\n",
            "200 0.3196725845336914\n",
            "300 0.2986389994621277\n",
            "Epoch 14\n",
            "0 0.11394159495830536\n",
            "100 0.10263495147228241\n",
            "200 0.40655606985092163\n",
            "300 0.14631152153015137\n",
            "Epoch 15\n",
            "0 0.2362862378358841\n",
            "100 0.16372841596603394\n",
            "200 0.24185845255851746\n",
            "300 0.17935951054096222\n",
            "Epoch 16\n",
            "0 0.08722013235092163\n",
            "100 0.12085279822349548\n",
            "200 0.2201167792081833\n",
            "300 0.12671001255512238\n",
            "Epoch 17\n",
            "0 0.12340610474348068\n",
            "100 0.11079149693250656\n",
            "200 0.16769979894161224\n",
            "300 0.16975152492523193\n",
            "Epoch 18\n",
            "0 0.13767917454242706\n",
            "100 0.10781796276569366\n",
            "200 0.032963916659355164\n",
            "300 0.055267468094825745\n",
            "Epoch 19\n",
            "0 0.021235575899481773\n",
            "100 0.05330716073513031\n",
            "200 0.10427911579608917\n",
            "300 0.21676066517829895\n",
            "Finished Training\n"
          ]
        }
      ]
    },
    {
      "cell_type": "markdown",
      "metadata": {
        "id": "7W4rg89wknhD"
      },
      "source": [
        "We can now evaluate the model on test data."
      ]
    },
    {
      "cell_type": "code",
      "source": [
        "def accuracy(model):\n",
        "    correct = 0\n",
        "    total = 0\n",
        "    # since we're not training, we don't need to calculate the gradients for our outputs; therefore there\n",
        "    # is no need to store the computational graph in between\n",
        "    with torch.no_grad():\n",
        "        for data in testloader: #iterate over all the test images\n",
        "            images, labels = data\n",
        "            # calculate outputs by running images through the network\n",
        "            outputs = model(images)\n",
        "            # the class with the highest energy is what we choose as prediction\n",
        "            _, predicted = torch.max(outputs.data, 1)\n",
        "            # compute the total number of images processed by adding the number of images in each batch\n",
        "            total += labels.size(0)\n",
        "            correct += (predicted == labels).sum().item()\n",
        "\n",
        "    print(f'Accuracy of the network on the test images: {100 * correct // total} %')"
      ],
      "metadata": {
        "id": "UZK0ly3PtP99"
      },
      "execution_count": null,
      "outputs": []
    },
    {
      "cell_type": "code",
      "source": [
        "accuracy(net)"
      ],
      "metadata": {
        "colab": {
          "base_uri": "https://localhost:8080/"
        },
        "id": "0qTe30HUt071",
        "outputId": "134e0107-e370-454c-8816-087ca65aab5a"
      },
      "execution_count": null,
      "outputs": [
        {
          "output_type": "stream",
          "name": "stdout",
          "text": [
            "Accuracy of the network on the test images: 64 %\n"
          ]
        }
      ]
    },
    {
      "cell_type": "markdown",
      "source": [
        "## Task: implement your own Convolutional Neural Network\n",
        "\n",
        "Change the architecture, number of batches (we defined this when we loaded the data in one of the first cells) and number of epochs to see how this changes what the network has learned.\n",
        "\n",
        "Remember: machine learning is quite tricky with lots of hyperparameter tuning required. A large part of the job is trying to find the right combinations of parameters that work."
      ],
      "metadata": {
        "id": "TgDbosl6qkI0"
      }
    },
    {
      "cell_type": "markdown",
      "metadata": {
        "id": "bc94f610"
      },
      "source": [
        "# Understanding what our network has learned"
      ]
    },
    {
      "cell_type": "markdown",
      "source": [
        "For this part, we will use the following larger model:"
      ],
      "metadata": {
        "id": "ZeW1gH-U9BwC"
      }
    },
    {
      "cell_type": "code",
      "source": [
        "class Net(nn.Module):\n",
        "    # in the init function we will just define several layers that we can later use\n",
        "    def __init__(self):\n",
        "        super().__init__()\n",
        "        #parameters: in_channels, out_channels, kernel_size\n",
        "        self.conv1 = nn.Conv2d(3, 64, 3)\n",
        "        self.conv2 = nn.Conv2d(64, 128, 3)\n",
        "        self.conv3 = nn.Conv2d(128, 256, 3)\n",
        "        self.conv4 = nn.Conv2d(256, 256, 3)\n",
        "        self.pool = nn.MaxPool2d(2, stride=2)\n",
        "        self.fc1 = nn.Linear(1024, 120)\n",
        "        self.fc2 = nn.Linear(120, 84)\n",
        "        self.fc3 = nn.Linear(84, 10)\n",
        "\n",
        "    # here we define the forward pass, i.e. how our input x is modified as it moves through the network\n",
        "    def forward(self, x):\n",
        "        x = self.pool(F.relu(self.conv1(x)))\n",
        "        x = self.pool(F.relu(self.conv2(x)))\n",
        "        x = F.relu(self.conv3(x))\n",
        "        x = F.relu(self.conv4(x))\n",
        "        x = torch.flatten(x, 1)\n",
        "        x = F.relu(self.fc1(x))\n",
        "        x = F.relu(self.fc2(x))\n",
        "        x = self.fc3(x)\n",
        "        return x\n",
        "\n",
        "    # let's also define a method to access a layer of choice's output; we will use this later\n",
        "    def forward_partial(self, x):\n",
        "        x = self.pool(F.relu(self.conv1(x)))\n",
        "        x = self.pool(F.relu(self.conv2(x)))\n",
        "        return x # you can change the partial forward pass to obtain arbitrary layers' output"
      ],
      "metadata": {
        "id": "y5bLsFLl9I6B"
      },
      "execution_count": null,
      "outputs": []
    },
    {
      "cell_type": "markdown",
      "source": [
        "Let's train the model."
      ],
      "metadata": {
        "id": "W-wUIQO-Q35Z"
      }
    },
    {
      "cell_type": "code",
      "source": [
        "net = Net()\n",
        "train(model=net, nr_epochs=5, optimizer=optim.SGD(net.parameters(), lr=0.01, momentum=0.9), criterion=nn.CrossEntropyLoss())"
      ],
      "metadata": {
        "colab": {
          "base_uri": "https://localhost:8080/"
        },
        "id": "BgOWacMG9kkZ",
        "outputId": "4a579756-363e-4dc7-b743-0ae601e55e89"
      },
      "execution_count": null,
      "outputs": [
        {
          "output_type": "stream",
          "name": "stdout",
          "text": [
            "Epoch 0\n",
            "0 2.310192346572876\n",
            "100 2.3036625385284424\n",
            "200 2.3010897636413574\n",
            "300 2.2942724227905273\n",
            "Epoch 1\n",
            "0 2.126641273498535\n",
            "100 1.9078365564346313\n",
            "200 1.6684809923171997\n",
            "300 1.6572669744491577\n",
            "Epoch 2\n",
            "0 1.6440539360046387\n",
            "100 1.5038261413574219\n",
            "200 1.3890857696533203\n",
            "300 1.4128164052963257\n",
            "Epoch 3\n",
            "0 1.5087521076202393\n",
            "100 1.2315822839736938\n",
            "200 1.06552255153656\n",
            "300 1.2389559745788574\n",
            "Epoch 4\n",
            "0 1.1747833490371704\n",
            "100 1.0325393676757812\n",
            "200 0.9420652389526367\n",
            "300 1.130104660987854\n",
            "Finished Training\n"
          ]
        }
      ]
    },
    {
      "cell_type": "code",
      "source": [
        "accuracy(net)"
      ],
      "metadata": {
        "colab": {
          "base_uri": "https://localhost:8080/"
        },
        "id": "_rNs48GRBJJk",
        "outputId": "689d037d-2f6f-4b10-cd4e-0302e51ea495"
      },
      "execution_count": null,
      "outputs": [
        {
          "output_type": "stream",
          "name": "stdout",
          "text": [
            "Accuracy of the network on the test images: 62 %\n"
          ]
        }
      ]
    },
    {
      "cell_type": "markdown",
      "metadata": {
        "id": "abec05a6"
      },
      "source": [
        "Now, we would like to understand what the network has actually learned. The work in: https://ai.googleblog.com/2015/06/inceptionism-going-deeper-into-neural.html does something similar, so check it out if you're interested.\n",
        "\n",
        "Consider that we pass a certain image $\\tilde x$ through the network and get the output $z^n$ from the neural network.\n",
        "\n",
        "Based on that output we would like to reconstruct the input to better understand how well our neural network has learned the original image. Denote with $\\hat z^n$ the output from the same layer for some input $x$.\n",
        "\n",
        "Consider then the squared error loss\n",
        "$$\n",
        "\\mathcal{L}(z^n, \\hat z^n) = ||z^n-\\hat z^n||_2^2,\n",
        "$$\n",
        "\n",
        "We will give the network a certain input image $\\tilde x$ and obtain the layer values for that image $z^n$. We assume we only observe $z^n$, but want to *reconstruct* $\\tilde x$. To do that we will optimise over the $x$ that gets us as close as possible to that layer output:\n",
        "$$\n",
        "x^* = \\arg\\min_{x} \\mathcal{L}(z^n, \\hat z^n).\n",
        "$$\n",
        "\n",
        "We will further follow the work of https://arxiv.org/pdf/1412.0035v1.pdf\n",
        "\n",
        "It can be useful to restrict the reconstruction to the subset of natural images - in order to make the above reconstruction better (and easier to interpret). In order to do so, we need to define the properties that natural images have. A proxy used in the above paper is to incorporate in the reconstruction an appropriate image prior. As in the paper, we will try two things:\n",
        "\n",
        "1. the $\\alpha$-norm: $R(x) = ||x||_{\\alpha}^{\\alpha}$ where $x$ is the vectorised and meansubtracted image. With this regularisation we force the image values to stay within a certain range.\n",
        "\n",
        "2. the total variation encouraging images to consist of piece-wise constant patches: $R(x) = \\sum_{i,j} \\left((x_{i,j+1}-x_{ij})^2 + (x_{i+1,j}-x_{ij})^2\\right)^{\\frac{\\beta}{2}}$ where $x\\in\\mathbb{R}^{H\\times W}$ with $H$ the height and $W$ the width.\n",
        "\n",
        "We will add the above terms as regularisers to our loss function."
      ]
    },
    {
      "cell_type": "code",
      "execution_count": null,
      "metadata": {
        "id": "645a029f"
      },
      "outputs": [],
      "source": [
        "# Define our new criteria:\n",
        "def R_1(img, alpha):\n",
        "    img = torch.flatten(img)\n",
        "    R1 = torch.linalg.norm(img, ord=alpha)\n",
        "    return R1\n",
        "\n",
        "def R_2(img, beta):\n",
        "    R2 = torch.sum(torch.pow(torch.flatten(torch.pow(img[:,:,:,1:] - img[:,:,:,:-1], 2)) \\\n",
        "                                + torch.flatten(torch.pow(img[:,:,1:,:] - img[:,:,:-1,:], 2)), beta/2))\n",
        "    return R2\n",
        "\n",
        "# Load a new batch of data\n",
        "dataiter = iter(trainloader)"
      ]
    },
    {
      "cell_type": "markdown",
      "metadata": {
        "id": "e3e44171"
      },
      "source": [
        "Let us now implement the optimisation scheme. We will begin by initialising a random image, then minimising the loss criterion that we discussed above."
      ]
    },
    {
      "cell_type": "code",
      "execution_count": null,
      "metadata": {
        "colab": {
          "base_uri": "https://localhost:8080/",
          "height": 1000
        },
        "id": "9d33b2e0",
        "outputId": "c1953510-2ca4-42f7-e747-dee2def7274c"
      },
      "outputs": [
        {
          "output_type": "display_data",
          "data": {
            "text/plain": [
              "<Figure size 640x480 with 1 Axes>"
            ],
            "image/png": "[encoded data removed]"
          },
          "metadata": {}
        },
        {
          "output_type": "stream",
          "name": "stdout",
          "text": [
            "278.6651611328125\n",
            "149.21713256835938\n",
            "148.38604736328125\n",
            "144.08413696289062\n",
            "143.45436096191406\n",
            "145.68783569335938\n",
            "142.61895751953125\n",
            "138.80938720703125\n",
            "143.99896240234375\n",
            "148.76458740234375\n",
            "143.81788635253906\n",
            "146.4933624267578\n",
            "143.70599365234375\n",
            "148.2956085205078\n",
            "148.1767120361328\n",
            "145.30648803710938\n",
            "144.6696014404297\n",
            "145.7045440673828\n",
            "144.6616668701172\n",
            "145.41616821289062\n"
          ]
        },
        {
          "output_type": "display_data",
          "data": {
            "text/plain": [
              "<Figure size 640x480 with 1 Axes>"
            ],
            "image/png": "[encoded data removed]"
          },
          "metadata": {}
        }
      ],
      "source": [
        "# Get some image\n",
        "images, labels = next(dataiter)\n",
        "img = images[0] # take just the first image; the above thing is an array of images of size batchsize\n",
        "img = img / 2 + 0.5     # unnormalize\n",
        "\n",
        "# Print the original image\n",
        "npimg = img.numpy() # translate to numpy\n",
        "npimg_t = np.transpose(npimg, (1, 2, 0)) # transpose things\n",
        "plt.imshow(npimg_t)\n",
        "plt.title(str(classes[labels[0]]))\n",
        "plt.show()\n",
        "\n",
        "# Pas the image through the network and get the layer output\n",
        "true_out = net.forward_partial(images[0:1,:,:,:])\n",
        "\n",
        "# Optimize the output from the layer for some random input to get close to the output for the original image\n",
        "sample_image = torch.rand(1, 3, 32, 32)\n",
        "sample_image.requires_grad = True\n",
        "nr_its_in = 100000\n",
        "lr = 0.0001\n",
        "for it in range(nr_its_in):\n",
        "    sample_out = net.forward_partial(sample_image)\n",
        "    sample_loss = torch.sum(torch.pow(true_out.detach() - sample_out, 2)) \\\n",
        "            + 0.05 * R_1(sample_image, 6) + 0.1 * R_2(sample_image, beta=2)\n",
        "    sample_loss.backward()\n",
        "    # Perform the gradient step to improve the sample_image\n",
        "    with torch.no_grad():\n",
        "        sample_image -= lr*sample_image.grad #+ 0.001*torch.rand(sample_image.shape)\n",
        "    if it%5000==0:\n",
        "        print(sample_loss.item())\n",
        "\n",
        "# Print reconstructed image\n",
        "numpy_image = sample_image.detach().numpy()\n",
        "# Constrain to the right range\n",
        "numpy_image += np.abs(numpy_image.min())\n",
        "numpy_image /= numpy_image.max()\n",
        "numpy_image = np.transpose(numpy_image[0,:,:,:], (1, 2, 0))\n",
        "plt.imshow(numpy_image)\n",
        "plt.title(classes[labels[0]])\n",
        "plt.show()"
      ]
    },
    {
      "cell_type": "markdown",
      "metadata": {
        "id": "7c74dbc8"
      },
      "source": [
        "Run the above code multiple times - for certain images the reconstruction works better than for others.\n",
        "\n",
        "## Task:\n",
        "Try to change the layer whose output we use. You can do this by modifying the forward_partial function we defined in the neural network class. Are any particular layers better at reconstructing the image? The later the layer you choose, the worse the reconstruction typically as later layers contain more high-level information.\n",
        "\n",
        "Also try to add or remove the noise - is there any difference in training with noise? Try also changing the parameters to see if you can find a configuration which obtains better results than what I managed to obtain.\n",
        "\n",
        "What do you think of the above? We can in general reconstruct something even with our relatively simple model (compared to the architectures Google and so on use). What if the input image contained sensitive information? Can you think that the above is a privacy or security risk?"
      ]
    },
    {
      "cell_type": "markdown",
      "source": [
        "# ResNet\n",
        "\n",
        "Let's now try to code a different model. We will follow the architecture of ResNet (see https://arxiv.org/pdf/1512.03385.pdf), which has had a significant impact on the architectures we use in many models due to introducing the idea of skip connections.\n",
        "\n",
        "ResNet is divided into building blocks called Residual blocks, which are made up of convolutional layers. Let $F$ define a non-linear mapping (such as a sequence of convolutional layers, activation functions, etc.). CNNs such as the previous one we coded would typically model the output of a collection of convolutional layers as\n",
        "$$\n",
        "x_{l+1} = F(x_l).\n",
        "$$\n",
        "ResNet adds the input to the output of the block, so that\n",
        "$$\n",
        "x_{l+1} = x_l + F(x_l).\n",
        "$$\n",
        "This identity addition is what we call a **skip connection**. Note that it does not add computational complexity to $F$. When we apply backpropagation on the Residual block, we obtain\n",
        "$$\n",
        "\\frac{\\partial x_{l+1}}{\\partial x_l} = I + \\frac{\\partial F}{\\partial x_l},\n",
        "$$\n",
        "where $I$ is the identity matrix, instead of\n",
        "$$\n",
        "\\frac{\\partial x_{l+1}}{\\partial x_l} = \\frac{\\partial F}{\\partial x_l}.\n",
        "$$\n",
        "\n"
      ],
      "metadata": {
        "id": "eI5ObDDlyUme"
      }
    },
    {
      "cell_type": "markdown",
      "source": [
        "##Residual Blocks\n",
        "\n",
        "Let's begin by coding a residual block. Let $x$ be the input to the residual block. The structure of the residual blocks will be:\n",
        "\n",
        " input -> convolutional layer 1 -> batchnorm -> ReLU -> convolutional layer 2 -> batchnorm + input -> ReLU.\n",
        "\n",
        "Before applying the ReLU activation function after the second convolutional layer, we add the input of the block to the output (we call this the residual). **The parameters of the residual blocks are defined in order to either preserve or decrease the dimensions (height and width) of the input.** If the dimensions are preserved, then we can simply add the input at the end of the residual block, if the dimensions are decreased, we also downsample the input so that the dimensions match.\n",
        "\n",
        "Parameters:\n",
        "*   in_channels: number of input channels into residual block\n",
        "*   out_channels: number of output channels out of residual block\n",
        "*   stride: size of stride of **first convolutional layer** (this layer will determine if the output of the residual block has the same dimensionality or different to the input)\n",
        "*   reduce_dim: this is a boolean to define if we want to reduce the dimensionality of the input or not. If so, we will apply a 1x1 convolution with stride 2"
      ],
      "metadata": {
        "id": "KmBytbPF33zl"
      }
    },
    {
      "cell_type": "code",
      "source": [
        "class ResidualBlock(nn.Module):\n",
        "    def __init__(self, in_channels, out_channels, stride=1, reduce_dim=False):\n",
        "        super(ResidualBlock, self).__init__()\n",
        "        self.conv1 = nn.Conv2d(in_channels, out_channels, kernel_size = 3, stride = stride, padding = 1) # first convolutional layer\n",
        "        # size after convolution: n_out = floor((n_in + 2*1 - 3)/stride) + 1\n",
        "        # check that when stride=1 n_out = n_in, when stride=2 n_out = floor((n_in - 1)/2) + 1\n",
        "\n",
        "        self.conv2 = nn.Conv2d(out_channels, out_channels, kernel_size = 3, stride = 1, padding = 1) # second convolutional layer\n",
        "        # size after convolution: n_out = floor((n_in + 2*1 - 3)/1) + 1 = n_in so size is preserved\n",
        "\n",
        "        self.reduce_dim = reduce_dim\n",
        "        self.downsample = nn.Conv2d(in_channels, out_channels, kernel_size = 1, stride = 2, padding = 0) # convolutional layer to reduce dimensionality of the input\n",
        "        # size after convolution: n_out = floor((n_in - 1)/2) + 1\n",
        "        # this is the same dimensionality as what we obtain after applying conv1 with stride=2 followed by conv2\n",
        "\n",
        "        self.bn1 = nn.BatchNorm2d(out_channels)\n",
        "        self.bn2 = nn.BatchNorm2d(out_channels)\n",
        "        self.relu = nn.ReLU()\n",
        "        self.out_channels = out_channels\n",
        "\n",
        "    def forward(self, x):\n",
        "        residual = x\n",
        "        out = self.relu(self.bn1(self.conv1(x)))\n",
        "        out = self.bn2(self.conv2(out))\n",
        "        if self.reduce_dim: # if after conv1 the dimensionality is changed, we apply downsample in order for dim(residual) and dim(out) to match\n",
        "            residual = self.downsample(x)\n",
        "        out += residual # add input (this is the skip connection)\n",
        "        out = self.relu(out)\n",
        "        return out"
      ],
      "metadata": {
        "id": "DpGCKhyr84FY"
      },
      "execution_count": null,
      "outputs": []
    },
    {
      "cell_type": "markdown",
      "source": [
        "## Architecture\n",
        "\n",
        "The ResNet architecture consists of input convolutional layers, groups of Residual Blocks and some output linear layers.\n",
        "\n",
        "Input layers -> Residual blocks -> Output layers\n",
        "\n",
        "Of all the Residual Blocks, only some of them will reduce the dimensionality of the input. For example, if ResNet has [3, 3, 3] blocks, then we have 3 times a group of 3 blocks. **Dimensionality reduction will occur in the first residual block of each group, excluding the first group.** In the case of [3, 3, 3] dimensionality reduction occurs in the fourth and seventh residual blocks. ResNets are usually implemented with more residual blocks (that show a better performance), however we will code a smaller version with the structure [3, 3, 3].\n",
        "\n",
        "Structure of input layers:\n",
        "\n",
        "1.   Convolutional layer (3 input channels, 32 output channels, kernel of size 7x7, stride 2, padding 3), followed by batchnorm and a ReLU activation\n",
        "2.   Maxpool (kernel of size 3x3, stride 2, padding 1)\n",
        "\n",
        "Structure of output layers:\n",
        "\n",
        "1.   Averagepool (kernel of size 2x2, , stride 1, padding 0)\n",
        "2.   Linear layer\n",
        "\n",
        "We will use the function _make_group to add the groups of residual blocks described above."
      ],
      "metadata": {
        "id": "1XuZSBgMFJJj"
      }
    },
    {
      "cell_type": "code",
      "source": [
        "class ResNet(nn.Module):\n",
        "    def __init__(self, block, groups, num_classes = 10):\n",
        "        super(ResNet, self).__init__()\n",
        "        self.block = block\n",
        "\n",
        "        self.conv1 = nn.Conv2d(in_channels=3, out_channels=32, kernel_size=7, stride=2, padding=3)\n",
        "        self.bn = nn.BatchNorm2d(32)\n",
        "        self.relu = nn.ReLU()\n",
        "        self.maxpool = nn.MaxPool2d(kernel_size = 3, stride = 2, padding = 1)\n",
        "\n",
        "        self.inplanes = 32 # define the number of channels of the input of the first residual block (this will be updated as the residual blocks are added to the network)\n",
        "\n",
        "        # groups of residual blocks\n",
        "        self.group0 = self._make_group(block, 32, groups[0], stride = 1)\n",
        "        self.group1 = self._make_group(block, 64, groups[1], stride = 2)\n",
        "        self.group2 = self._make_group(block, 128, groups[2], stride = 2)\n",
        "\n",
        "        self.avgpool = nn.AvgPool2d(2, stride=1)\n",
        "        self.fc = nn.Linear(128, num_classes)\n",
        "\n",
        "    def _make_group(self, block, planes, blocks, stride=1):\n",
        "        '''\n",
        "        block: residual block used in model\n",
        "        planes: int, number of channels the output of group should have\n",
        "        stride: int, size of stride of first convolutional layer of first residual block in group\n",
        "        '''\n",
        "        reduce_dim=False\n",
        "\n",
        "        # first residual block in group\n",
        "        if stride != 1 or self.inplanes != planes: # we reduce dimensionality when stride=2 or if the input and output channels into the residual block do not match\n",
        "            reduce_dim=True\n",
        "        group = []\n",
        "        group.append(block(self.inplanes, planes, stride, reduce_dim)) # add residual block to list\n",
        "        self.inplanes = planes # update number of channels of input to next residual block (according to output of current residual block)\n",
        "\n",
        "        # remaining residual blocks in group\n",
        "        for i in range(1, blocks):\n",
        "            group.append(block(self.inplanes, planes))\n",
        "\n",
        "        return nn.Sequential(*group)\n",
        "\n",
        "\n",
        "    def forward(self, x):\n",
        "        # input layers\n",
        "        x = self.conv1(x)\n",
        "        if self.block.__class__.__name__ == 'ResidualBlock':\n",
        "            x = self.relu(self.bn(x))\n",
        "        x = self.maxpool(x)\n",
        "\n",
        "        # groups of residual blocks\n",
        "        x = self.group0(x)\n",
        "        x = self.group1(x)\n",
        "        x = self.group2(x)\n",
        "\n",
        "        # output layers\n",
        "        x = self.avgpool(x)\n",
        "        x = x.view(x.size(0), -1) # flatten all dimensions except batch\n",
        "        x = self.fc(x)\n",
        "\n",
        "        return x"
      ],
      "metadata": {
        "id": "iEtswIC6u5ya"
      },
      "execution_count": null,
      "outputs": []
    },
    {
      "cell_type": "markdown",
      "source": [
        "Let's train the model. You can also compare different architectures (instead of [3, 3, 3]) to see what produces the best accuracy."
      ],
      "metadata": {
        "id": "8VzB06TU_8qA"
      }
    },
    {
      "cell_type": "code",
      "source": [
        "resnet = ResNet(block=ResidualBlock, groups=[3, 3, 3]) # total number of residual blocks is 9\n",
        "train(model=resnet.train(), nr_epochs=15, optimizer=optim.SGD(resnet.parameters(), lr=0.01, momentum = 0.9), criterion=nn.CrossEntropyLoss())"
      ],
      "metadata": {
        "colab": {
          "base_uri": "https://localhost:8080/"
        },
        "id": "OIPOGZz_AAZg",
        "outputId": "4638177d-cb99-4c57-dd70-b9e26e4aaba5"
      },
      "execution_count": null,
      "outputs": [
        {
          "output_type": "stream",
          "name": "stdout",
          "text": [
            "Epoch 0\n",
            "0 2.7006585597991943\n",
            "100 1.646323561668396\n",
            "200 1.6925228834152222\n",
            "300 1.4686644077301025\n",
            "Epoch 1\n",
            "0 1.007996678352356\n",
            "100 1.1722428798675537\n",
            "200 1.057021975517273\n",
            "300 1.157109022140503\n",
            "Epoch 2\n",
            "0 0.8787276744842529\n",
            "100 0.841263473033905\n",
            "200 1.0776599645614624\n",
            "300 1.0899314880371094\n",
            "Epoch 3\n",
            "0 0.8290098905563354\n",
            "100 0.7413892149925232\n",
            "200 0.8711803555488586\n",
            "300 0.815237283706665\n",
            "Epoch 4\n",
            "0 0.779363214969635\n",
            "100 0.6569690704345703\n",
            "200 0.7452593445777893\n",
            "300 0.6180649399757385\n",
            "Epoch 5\n",
            "0 0.6159049868583679\n",
            "100 0.6607245206832886\n",
            "200 0.5232887268066406\n",
            "300 0.7348923683166504\n",
            "Epoch 6\n",
            "0 0.6929875016212463\n",
            "100 0.4223068058490753\n",
            "200 0.539080798625946\n",
            "300 0.5289671421051025\n",
            "Epoch 7\n",
            "0 0.4681061804294586\n",
            "100 0.5725924968719482\n",
            "200 0.5854639410972595\n",
            "300 0.6109017133712769\n",
            "Epoch 8\n",
            "0 0.34027671813964844\n",
            "100 0.5185897946357727\n",
            "200 0.5975741744041443\n",
            "300 0.3710200786590576\n",
            "Epoch 9\n",
            "0 0.4726373553276062\n",
            "100 0.4898390471935272\n",
            "200 0.41906842589378357\n",
            "300 0.4875931143760681\n",
            "Epoch 10\n",
            "0 0.30568334460258484\n",
            "100 0.22944840788841248\n",
            "200 0.38591670989990234\n",
            "300 0.3160565197467804\n",
            "Epoch 11\n",
            "0 0.2986237704753876\n",
            "100 0.269340842962265\n",
            "200 0.3128288984298706\n",
            "300 0.2863476574420929\n",
            "Epoch 12\n",
            "0 0.21292053163051605\n",
            "100 0.2201654314994812\n",
            "200 0.18151803314685822\n",
            "300 0.26266393065452576\n",
            "Epoch 13\n",
            "0 0.18600445985794067\n",
            "100 0.1635473519563675\n",
            "200 0.28042730689048767\n",
            "300 0.22033469378948212\n",
            "Epoch 14\n",
            "0 0.17074789106845856\n",
            "100 0.19862087070941925\n",
            "200 0.1834641844034195\n",
            "300 0.21113654971122742\n",
            "Finished Training\n"
          ]
        }
      ]
    },
    {
      "cell_type": "markdown",
      "source": [
        "Let's evaluate the ResNet on the test set. We can compare the performance to the previous CNN we coded."
      ],
      "metadata": {
        "id": "AULFeQN_A4R5"
      }
    },
    {
      "cell_type": "code",
      "source": [
        "accuracy(resnet.eval())"
      ],
      "metadata": {
        "colab": {
          "base_uri": "https://localhost:8080/"
        },
        "id": "P7PEBgwRBDYR",
        "outputId": "ec8c7463-20aa-4ae0-90f0-bb2517965305"
      },
      "execution_count": null,
      "outputs": [
        {
          "output_type": "stream",
          "name": "stdout",
          "text": [
            "Accuracy of the network on the test images: 72 %\n"
          ]
        }
      ]
    },
    {
      "cell_type": "markdown",
      "source": [
        "## Task: implement Pre-Activation Residual Blocks\n",
        "\n",
        "One of the variants of ResNet involves using Residual Blocks with a different architecture. Let's look at Pre-Activation Residual Blocks. In the original model, the activation function (in our case the ReLU function) is applied after the skip connection. In the pre-activation variant, the batchnorm and ReLU function are applied **at the beginning of the residual block**:\n",
        "\n",
        "input -> batchnorm -> ReLU -> convolutional layer 1 -> batchnorm -> ReLU -> convolutional layer 2 + input\n",
        "\n",
        "Note that the input layers of ResNet will have to be modified: the batchnorm and ReLU in the input layers will have to be removed in order to not be applied twice."
      ],
      "metadata": {
        "id": "3M7JiLpzEMzV"
      }
    },
    {
      "cell_type": "code",
      "source": [
        "class PreActivationResidualBlock(nn.Module):\n",
        "    def __init__(self, in_channels, out_channels, stride=1, reduce_dim=False):\n",
        "        super(PreActivationResidualBlock, self).__init__()\n",
        "        self.conv1 = nn.Conv2d(in_channels, out_channels, kernel_size = 3, stride = stride, padding = 1) # first convolutional layer\n",
        "        # size after convolution: n_out = floor((n_in + 2*1 - 3)/stride) + 1\n",
        "        # check that when stride=1 n_out=n_in, when stride=2 n_out=floor(n_out/2)+1\n",
        "\n",
        "        self.conv2 = nn.Conv2d(out_channels, out_channels, kernel_size = 3, stride = 1, padding = 1) # second convolutional layer\n",
        "        # size after convolution: n_out = floor((n_in + 2*1 - 3)/1) + 1 = n_in so size is preserved\n",
        "\n",
        "        self.reduce_dim = reduce_dim\n",
        "        self.downsample = nn.Conv2d(in_channels, out_channels, kernel_size = 1, stride = 2, padding = 0) # convolutional layer to reduce dimensionality of the input\n",
        "        # size after convolution: n_out = floor((n_in - 1)/2) + 1 = floor(n_out/2) + 1\n",
        "        # check that this is the same dimensionality as after applying conv1 with stride=2 and conv2\n",
        "\n",
        "        self.bn1 = nn.BatchNorm2d(in_channels)\n",
        "        self.bn2 = nn.BatchNorm2d(out_channels)\n",
        "        self.relu = nn.ReLU()\n",
        "        self.out_channels = out_channels\n",
        "\n",
        "    def forward(self, x):\n",
        "        residual = x\n",
        "        out = self.relu(self.bn1(x))\n",
        "        out = self.relu(self.bn2(self.conv1(out)))\n",
        "        out = self.conv2(out)\n",
        "        if self.reduce_dim: # if after conv1 the dimensionality is changed, we apply downsample in order for dim(residual) and dim(out) to match\n",
        "            residual = self.downsample(x)\n",
        "        out += residual # add input (this is the skip connection)\n",
        "        return out"
      ],
      "metadata": {
        "id": "PkyhcHfWLb0n"
      },
      "execution_count": null,
      "outputs": []
    },
    {
      "cell_type": "code",
      "source": [
        "pre_act_resnet = ResNet(block=PreActivationResidualBlock, groups=[3, 3, 3])\n",
        "train(model=pre_act_resnet.train(), nr_epochs=15, optimizer=optim.SGD(pre_act_resnet.parameters(), lr=0.01, momentum = 0.9), criterion=nn.CrossEntropyLoss())"
      ],
      "metadata": {
        "colab": {
          "base_uri": "https://localhost:8080/"
        },
        "id": "uL7l3OXTLoBw",
        "outputId": "bd7a0311-aaec-478f-dd06-bc91778e8290"
      },
      "execution_count": null,
      "outputs": [
        {
          "output_type": "stream",
          "name": "stdout",
          "text": [
            "Epoch 0\n",
            "0 2.343829393386841\n",
            "100 1.4880532026290894\n",
            "200 1.5343586206436157\n",
            "300 1.1441653966903687\n",
            "Epoch 1\n",
            "0 1.088971734046936\n",
            "100 1.0153623819351196\n",
            "200 0.9611711502075195\n",
            "300 1.0070812702178955\n",
            "Epoch 2\n",
            "0 0.8358744978904724\n",
            "100 0.8633841276168823\n",
            "200 0.9226250052452087\n",
            "300 0.947117030620575\n",
            "Epoch 3\n",
            "0 0.5879146456718445\n",
            "100 0.847430944442749\n",
            "200 0.720920205116272\n",
            "300 0.8318880796432495\n",
            "Epoch 4\n",
            "0 0.6074342727661133\n",
            "100 0.8225787878036499\n",
            "200 0.5630785822868347\n",
            "300 0.7273276448249817\n",
            "Epoch 5\n",
            "0 0.4659854471683502\n",
            "100 0.3952975571155548\n",
            "200 0.634455680847168\n",
            "300 0.5734705924987793\n",
            "Epoch 6\n",
            "0 0.41432467103004456\n",
            "100 0.6378262042999268\n",
            "200 0.49673882126808167\n",
            "300 0.4218764305114746\n",
            "Epoch 7\n",
            "0 0.4052400588989258\n",
            "100 0.3124157786369324\n",
            "200 0.4832579493522644\n",
            "300 0.41669490933418274\n",
            "Epoch 8\n",
            "0 0.3399214744567871\n",
            "100 0.32855021953582764\n",
            "200 0.39077067375183105\n",
            "300 0.3357105851173401\n",
            "Epoch 9\n",
            "0 0.18790952861309052\n",
            "100 0.1836286038160324\n",
            "200 0.3811541795730591\n",
            "300 0.4694831073284149\n",
            "Epoch 10\n",
            "0 0.2458101361989975\n",
            "100 0.21223638951778412\n",
            "200 0.30804988741874695\n",
            "300 0.33299171924591064\n",
            "Epoch 11\n",
            "0 0.136888325214386\n",
            "100 0.11083219200372696\n",
            "200 0.12845444679260254\n",
            "300 0.19000212848186493\n",
            "Epoch 12\n",
            "0 0.16062259674072266\n",
            "100 0.12725499272346497\n",
            "200 0.20708203315734863\n",
            "300 0.15147729218006134\n",
            "Epoch 13\n",
            "0 0.15162639319896698\n",
            "100 0.09710607677698135\n",
            "200 0.14319904148578644\n",
            "300 0.1459551751613617\n",
            "Epoch 14\n",
            "0 0.10429824888706207\n",
            "100 0.07410503178834915\n",
            "200 0.10341374576091766\n",
            "300 0.1386415958404541\n",
            "Finished Training\n"
          ]
        }
      ]
    },
    {
      "cell_type": "code",
      "source": [
        "accuracy(pre_act_resnet.eval())"
      ],
      "metadata": {
        "colab": {
          "base_uri": "https://localhost:8080/"
        },
        "id": "5_Lq8kVlL-eZ",
        "outputId": "667e2017-f746-4402-b349-ce734168ec85"
      },
      "execution_count": null,
      "outputs": [
        {
          "output_type": "stream",
          "name": "stdout",
          "text": [
            "Accuracy of the network on the test images: 71 %\n"
          ]
        }
      ]
    },
    {
      "cell_type": "markdown",
      "source": [
        "The Pre-activation ResNet has been shown to perform better than the original ResNet for very deep networks. Is the same true in our shallow setting?\n",
        "\n",
        "Feel free to experiment with other structures of residual blocks (see Figure 4 in https://arxiv.org/pdf/1603.05027.pdf)."
      ],
      "metadata": {
        "id": "M1_qlA_PQk-x"
      }
    },
    {
      "cell_type": "markdown",
      "source": [
        "# References\n",
        "\n",
        "\n",
        "\n",
        "*   Aravindh Mahendran and Andrea Vedaldi (2014). Understanding deep image representations by inverting them. Arxiv: https://arxiv.org/abs/1412.0035\n",
        "*   Kaiming He, Xiangyu Zhang, Shaoqing Ren and Jian SunDeep (2015). Residual Learning for Image Recognition. Arxiv: https://arxiv.org/pdf/1512.03385.pdf\n",
        "*   Kaiming He, Xiangyu Zhang, Shaoqing Ren, and Jian Sun (2016). Identity Mappings in Deep Residual Networks. Arxiv: https://arxiv.org/pdf/1603.05027.pdf\n",
        "*   https://blog.paperspace.com/writing-resnet-from-scratch-in-pytorch/\n",
        "*   https://uvadlc-notebooks.readthedocs.io/en/latest/tutorial_notebooks/tutorial5/Inception_ResNet_DenseNet.html#ResNet\n",
        "\n"
      ],
      "metadata": {
        "id": "iQjnLorgZ80R"
      }
    }
  ]
}