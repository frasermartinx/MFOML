{
  "nbformat": 4,
  "nbformat_minor": 0,
  "metadata": {
    "colab": {
      "provenance": [],
      "gpuType": "T4"
    },
    "kernelspec": {
      "name": "python3",
      "display_name": "Python 3"
    },
    "language_info": {
      "name": "python"
    },
    "accelerator": "GPU"
  },
  "cells": [
    {
      "cell_type": "markdown",
      "source": [
        "In this week's tutorial we will look into vision transformers. At the end of this tutorial you should be able to:\n",
        "- Build a vision transformer\n",
        "- Use it to classify images\n",
        "- Understand attention\n",
        "\n",
        "**If possible, use a GPU to train the model (if you don't have a GPU you can try to run on Google Colab).**"
      ],
      "metadata": {
        "id": "AnjBZ2VrXl7_"
      }
    },
    {
      "cell_type": "markdown",
      "source": [
        "# Building a Vision Transformer (ViT)"
      ],
      "metadata": {
        "id": "z7ldEhr3X5qv"
      }
    },
    {
      "cell_type": "code",
      "source": [
        "import torch\n",
        "import torch.nn as nn\n",
        "import numpy as np\n",
        "import torchvision\n",
        "import torchvision.transforms as transforms\n",
        "from tqdm import tqdm\n",
        "import matplotlib.pyplot as plt"
      ],
      "metadata": {
        "id": "yd7N8HBjZCvk"
      },
      "execution_count": 2,
      "outputs": []
    },
    {
      "cell_type": "code",
      "source": [
        "device = torch.device('cuda' if torch.cuda.is_available() else 'cpu')\n",
        "print(f\"Using device {device.type}.\")"
      ],
      "metadata": {
        "id": "TBdNtnLMkwQf"
      },
      "execution_count": null,
      "outputs": []
    },
    {
      "cell_type": "markdown",
      "source": [
        "## Loading the data"
      ],
      "metadata": {
        "id": "WeuHmOUYfcq9"
      }
    },
    {
      "cell_type": "markdown",
      "source": [
        "We will work with the FashionMNIST dataset. Let's load the data."
      ],
      "metadata": {
        "id": "jZD4QC1wYJtc"
      }
    },
    {
      "cell_type": "code",
      "source": [
        "transform = transforms.Compose(\n",
        "    [transforms.ToTensor(),\n",
        "     transforms.Resize((120, 120), antialias=True)\n",
        "     ]\n",
        "    )\n",
        "\n",
        "batch_size = 2048\n",
        "\n",
        "trainset = torchvision.datasets.FashionMNIST(\n",
        "    root='./data',\n",
        "    train=True,\n",
        "    download=True,\n",
        "    transform=transform\n",
        "    )\n",
        "\n",
        "classes = ('T-shirt/top', 'Trouser', 'Pullover', 'Dress', 'Coat', 'Sandal', 'Shirt', 'Sneaker', 'Bag', 'Ankle boot')"
      ],
      "metadata": {
        "id": "2joMbW-7afsb",
        "colab": {
          "base_uri": "https://localhost:8080/"
        },
        "outputId": "a21fa50e-6286-49de-ef72-6a641db7ab96"
      },
      "execution_count": null,
      "outputs": [
        {
          "output_type": "stream",
          "name": "stdout",
          "text": [
            "Downloading http://fashion-mnist.s3-website.eu-central-1.amazonaws.com/train-images-idx3-ubyte.gz\n",
            "Downloading http://fashion-mnist.s3-website.eu-central-1.amazonaws.com/train-images-idx3-ubyte.gz to ./data/FashionMNIST/raw/train-images-idx3-ubyte.gz\n"
          ]
        },
        {
          "output_type": "stream",
          "name": "stderr",
          "text": [
            "100%|██████████| 26421880/26421880 [00:01<00:00, 15196146.98it/s]\n"
          ]
        },
        {
          "output_type": "stream",
          "name": "stdout",
          "text": [
            "Extracting ./data/FashionMNIST/raw/train-images-idx3-ubyte.gz to ./data/FashionMNIST/raw\n",
            "\n",
            "Downloading http://fashion-mnist.s3-website.eu-central-1.amazonaws.com/train-labels-idx1-ubyte.gz\n",
            "Downloading http://fashion-mnist.s3-website.eu-central-1.amazonaws.com/train-labels-idx1-ubyte.gz to ./data/FashionMNIST/raw/train-labels-idx1-ubyte.gz\n"
          ]
        },
        {
          "output_type": "stream",
          "name": "stderr",
          "text": [
            "100%|██████████| 29515/29515 [00:00<00:00, 273350.90it/s]\n"
          ]
        },
        {
          "output_type": "stream",
          "name": "stdout",
          "text": [
            "Extracting ./data/FashionMNIST/raw/train-labels-idx1-ubyte.gz to ./data/FashionMNIST/raw\n",
            "\n",
            "Downloading http://fashion-mnist.s3-website.eu-central-1.amazonaws.com/t10k-images-idx3-ubyte.gz\n",
            "Downloading http://fashion-mnist.s3-website.eu-central-1.amazonaws.com/t10k-images-idx3-ubyte.gz to ./data/FashionMNIST/raw/t10k-images-idx3-ubyte.gz\n"
          ]
        },
        {
          "output_type": "stream",
          "name": "stderr",
          "text": [
            "100%|██████████| 4422102/4422102 [00:00<00:00, 4975764.57it/s]\n"
          ]
        },
        {
          "output_type": "stream",
          "name": "stdout",
          "text": [
            "Extracting ./data/FashionMNIST/raw/t10k-images-idx3-ubyte.gz to ./data/FashionMNIST/raw\n",
            "\n",
            "Downloading http://fashion-mnist.s3-website.eu-central-1.amazonaws.com/t10k-labels-idx1-ubyte.gz\n",
            "Downloading http://fashion-mnist.s3-website.eu-central-1.amazonaws.com/t10k-labels-idx1-ubyte.gz to ./data/FashionMNIST/raw/t10k-labels-idx1-ubyte.gz\n"
          ]
        },
        {
          "output_type": "stream",
          "name": "stderr",
          "text": [
            "100%|██████████| 5148/5148 [00:00<00:00, 20389307.83it/s]"
          ]
        },
        {
          "output_type": "stream",
          "name": "stdout",
          "text": [
            "Extracting ./data/FashionMNIST/raw/t10k-labels-idx1-ubyte.gz to ./data/FashionMNIST/raw\n",
            "\n"
          ]
        },
        {
          "output_type": "stream",
          "name": "stderr",
          "text": [
            "\n"
          ]
        }
      ]
    },
    {
      "cell_type": "markdown",
      "source": [
        "We can visualise one of the images in the dataset. Note that we have resized the images to be of size 120x120."
      ],
      "metadata": {
        "id": "mzYEnKNMYQhV"
      }
    },
    {
      "cell_type": "code",
      "source": [
        "def view_tensor_image(img, label=None):\n",
        "    img = img.permute(1,2,0)\n",
        "    plt.figure(figsize=(5,5))\n",
        "    plt.imshow(img, cmap='gray')\n",
        "    plt.axis('off')\n",
        "    if label:\n",
        "      plt.title(classes[label])\n",
        "    plt.show()"
      ],
      "metadata": {
        "id": "i6MPoDUImbqY"
      },
      "execution_count": null,
      "outputs": []
    },
    {
      "cell_type": "code",
      "source": [
        "view_tensor_image(img=trainset[42][0], label=trainset[42][1])"
      ],
      "metadata": {
        "colab": {
          "base_uri": "https://localhost:8080/",
          "height": 444
        },
        "id": "kHywqdvrmPYJ",
        "outputId": "b4cbb453-5843-436b-d99e-21f456b61047"
      },
      "execution_count": null,
      "outputs": [
        {
          "output_type": "display_data",
          "data": {
            "text/plain": [
              "<Figure size 500x500 with 1 Axes>"
            ],
            "image/png": "[encoded data removed]"
          },
          "metadata": {}
        }
      ]
    },
    {
      "cell_type": "markdown",
      "source": [
        "The first step will be to split the data into the required dimenions. We want to partition each image into a square grid with size of side num_patches_per_row. Each patch or square in our grid will be inputted as a component to the images in the batch.\n",
        "\n",
        "Let's define a function that partitions an image into num_patches_per_row x num_patches_per_row different images and returns them as a batch of flattened tensors. For example, if we split one image of size 120x120 into 9 patches (3 per row), we want to obtain a tensor of size (9x1600) - 9 patches of size 40x40 flattened into 1-dimensional tensors of size 1600."
      ],
      "metadata": {
        "id": "AmXesLzWYXCT"
      }
    },
    {
      "cell_type": "code",
      "source": [
        "class Patches(object):\n",
        "  def __init__(self, num_patches_per_row):\n",
        "    self.num_patches_per_row = num_patches_per_row\n",
        "\n",
        "  def __call__(self, image):\n",
        "    # Fill in steps\n",
        "    # compute patch size\n",
        "    patch_size =\n",
        "    # compute patches (hint: use .unfold) - should get a tensor of dimension (num_patches, patch_size, patch_size)\n",
        "    patches =\n",
        "    # flatten patches\n",
        "    patches_flat = patches.contiguous().view(self.num_patches_per_row**2, -1)\n",
        "    return patches_flat"
      ],
      "metadata": {
        "id": "mMJQ00oermiP"
      },
      "execution_count": null,
      "outputs": []
    },
    {
      "cell_type": "markdown",
      "source": [
        "We will apply the transformation when we load the data, so that we obtain our dataset in the desired format."
      ],
      "metadata": {
        "id": "IllR9NVhaTMl"
      }
    },
    {
      "cell_type": "code",
      "source": [
        "num_patches_per_row=3\n",
        "\n",
        "transform_patches = transforms.Compose(\n",
        "    [transforms.ToTensor(),\n",
        "     transforms.Resize((120, 120), antialias=True),\n",
        "     Patches(num_patches_per_row)\n",
        "     ]\n",
        "    )\n",
        "\n",
        "trainset = torchvision.datasets.FashionMNIST(root='./data', train=True, download=True, transform=transform_patches)\n",
        "trainloader = torch.utils.data.DataLoader(trainset, batch_size=batch_size, shuffle=True, num_workers=2)\n",
        "\n",
        "testset = torchvision.datasets.FashionMNIST(root='./data', train=False, download=True, transform=transform_patches)\n",
        "testloader = torch.utils.data.DataLoader(testset, batch_size=batch_size, shuffle=False, num_workers=2)"
      ],
      "metadata": {
        "id": "TCUFLDm3uoIa"
      },
      "execution_count": null,
      "outputs": []
    },
    {
      "cell_type": "markdown",
      "source": [
        "Let's check the dimension of an image in our dataset."
      ],
      "metadata": {
        "id": "vAPgE4zaaasK"
      }
    },
    {
      "cell_type": "code",
      "source": [
        "print(trainset[42][0].size())"
      ],
      "metadata": {
        "id": "_F0CC6UyrPvd"
      },
      "execution_count": null,
      "outputs": []
    },
    {
      "cell_type": "markdown",
      "source": [
        "We can also visualise each of the patches separately to confirm that they make up the images in our train set."
      ],
      "metadata": {
        "id": "wU97pw21akQM"
      }
    },
    {
      "cell_type": "code",
      "source": [
        "def view_image_patches(img, label=None):\n",
        "  image_list = []\n",
        "  # get length of side of patch\n",
        "  img_size = int(np.sqrt(img.shape[1]))\n",
        "  # iterate through each patch in img\n",
        "  for i in range(img.shape[0]):\n",
        "    # reshape image\n",
        "    reshaped_img = img[i].view(1, img_size, img_size)\n",
        "    # add to list\n",
        "    image_list.append(reshaped_img)\n",
        "\n",
        "  # display in grid\n",
        "  num_rows = int(np.sqrt(img.shape[0]))\n",
        "  img_grid = torchvision.utils.make_grid(image_list, nrow=num_rows, normalize=True, pad_value=0.9)\n",
        "  img_grid = img_grid.permute(1, 2, 0)\n",
        "\n",
        "  # plot images\n",
        "  plt.figure(figsize=(5, 5))\n",
        "  plt.title(f\"{classes[label]} - patches\")\n",
        "  plt.imshow(img_grid)\n",
        "  plt.axis(\"off\")\n",
        "  plt.show()\n",
        "\n",
        "# visualise image\n",
        "view_image_patches(trainset[42][0], label=trainset[42][1])"
      ],
      "metadata": {
        "id": "Ckabh_LXnqE8"
      },
      "execution_count": null,
      "outputs": []
    },
    {
      "cell_type": "markdown",
      "source": [
        "## Implementing a Vision Transformer\n",
        "\n",
        "Let's begin the code for the Vision Transformer. We follow the ideas from https://arxiv.org/pdf/2010.11929.pdf."
      ],
      "metadata": {
        "id": "gH6qubrWfjQv"
      }
    },
    {
      "cell_type": "markdown",
      "source": [
        "### Positional embeddings\n",
        "\n",
        "Each initial tensor containing the pixel values of the flattened patches will be encoded into a smaller dimension which we call the model dimension. We will denote this as d_model. Hence, if we denote length as the number of patches, w will end up with a tensor of size length x d_model for each train image in our batch.\n",
        "\n",
        "It is important to make sure that the model is aware of the position of each of the patches within the image (that is, the patches are not just randomly placed together, they are placed in a certain order that is important in order for the image to make sense). To do this, we will use a positional embedding of the image. We will add the position number (e.g., if we have 9 patches, 0 to 8) to the encoded values of the corresponding patch.\n",
        "\n",
        "For now, let's define an object that returns a tensor of the same size as length x d_model. Each entry will contain the positional embedding of the patch it would belong to if we were considering the values of the entries for each patch instead."
      ],
      "metadata": {
        "id": "z7c9xGBVcl74"
      }
    },
    {
      "cell_type": "code",
      "source": [
        "class PositionalEncoding(nn.Module):\n",
        "    \"\"\"\n",
        "    compute trivial positional encoding\n",
        "    \"\"\"\n",
        "    def __init__(self, length, d_model, device):\n",
        "        \"\"\"\n",
        "        constructor of positional encoding class\n",
        "        :param length: first dimension of input (number of patches)\n",
        "        :param d_model: dimension of input after mapping\n",
        "        \"\"\"\n",
        "        super(PositionalEncoding, self).__init__()\n",
        "\n",
        "        pos = torch.arange(0, length, device=device)\n",
        "        pos = pos.float().unsqueeze(dim=1)\n",
        "\n",
        "        self.encoding = pos.tile((1, d_model))\n",
        "        self.encoding.requires_grad = False\n",
        "\n",
        "    def forward(self, x):\n",
        "        return self.encoding"
      ],
      "metadata": {
        "id": "amzOECAZe4Tj"
      },
      "execution_count": null,
      "outputs": []
    },
    {
      "cell_type": "markdown",
      "source": [
        "### Task: explore what the above function does\n",
        "\n",
        "Copy out the steps of computation so you understand what the function is doing exactly and what the dimension of the output is."
      ],
      "metadata": {
        "id": "VnOEjfpwV53B"
      }
    },
    {
      "cell_type": "code",
      "source": [
        "bs = 2\n",
        "length = 5\n",
        "d_model = 10\n",
        "x = torch.randn((bs, length, d_model))\n",
        "\n",
        "# implement steps in forward function, first step is done below\n",
        "pos = torch.arange(0, length, device=device)\n",
        "\n",
        "print(pos)"
      ],
      "metadata": {
        "colab": {
          "base_uri": "https://localhost:8080/"
        },
        "id": "l8jm1SpqU9g4",
        "outputId": "bf2ac7c0-c72f-499e-aa9c-0dd520b7119c"
      },
      "execution_count": 6,
      "outputs": [
        {
          "output_type": "stream",
          "name": "stdout",
          "text": [
            "tensor([0, 1, 2, 3, 4])\n"
          ]
        }
      ]
    },
    {
      "cell_type": "markdown",
      "source": [
        "### Attention\n",
        "\n",
        "Our next step will be to define the multi-head attention layers. We first define an attention layer. Given our matrices $Q, K$ and $V$, the output will be given by\n",
        "$$\n",
        "\\text{output} = softmax \\left (\\frac{QK^T}{\\sqrt{d}}\\right ).\n",
        "$$\n",
        "\n",
        "Instead of using all our input directly in one attention layer, we will split it and apply attention on each of the parts separately. The number of attention heads determines how many chunks of our input we use. Our input will be split along the dimension of size d_model. Thus, if n_heads is the number of heads for our multi-attention layer, we will end up with tensors of size determined by the batch size, head number, length (number of patches) and d_model/n_heads. This is done for our $Q, K$ and $V$ tensors.\n",
        "\n",
        "Note that $d$ in the above fomula will be given by d_model/n_heads."
      ],
      "metadata": {
        "id": "927N5_tmfqZW"
      }
    },
    {
      "cell_type": "code",
      "source": [
        "class ScaleDotProductAttention(nn.Module):\n",
        "    def __init__(self):\n",
        "        super(ScaleDotProductAttention, self).__init__()\n",
        "        self.softmax = nn.Softmax(dim=-1)\n",
        "\n",
        "    def forward(self, q, k, v):\n",
        "        # input is of size (batch_size, n_heads, length, d_model/n_heads)\n",
        "        batch_size, head, length, d_tensor = k.size()\n",
        "        # fill in steps\n",
        "        # calculate Key^T\n",
        "        k_t =\n",
        "        # do dot-product between Query and Key^T\n",
        "        # score should be [batch_size, n_heads, length, length]\n",
        "        score =\n",
        "        # softmax\n",
        "        score =\n",
        "        # output is [batch_size, n_heads, length, d_model/n_heads]\n",
        "        output =\n",
        "        return output, score"
      ],
      "metadata": {
        "id": "5ifEPW-ZcQFx"
      },
      "execution_count": null,
      "outputs": []
    },
    {
      "cell_type": "markdown",
      "source": [
        "Next, we can define a class that applies the necessary transformations to our input to get it to the right dimensions, and then applies the attention layer.\n",
        "\n",
        "1.   Scale our input with the weight matrices $W^Q, W^K$ and $W^V$ to get $Q, K$ and $V$\n",
        "2.   Split $Q, K$ and $V$ into smaller parts\n",
        "3.   Pass through attention layer\n",
        "4.   Concatenate outputs from all attention heads into one final output\n",
        "\n"
      ],
      "metadata": {
        "id": "_GeMb1cOcXbh"
      }
    },
    {
      "cell_type": "code",
      "source": [
        "class MultiHeadAttention(nn.Module):\n",
        "\n",
        "    def __init__(self, d_model, n_head, device):\n",
        "        super(MultiHeadAttention, self).__init__()\n",
        "        self.n_head = n_head\n",
        "        self.attention = ScaleDotProductAttention()\n",
        "        # to get the q,v,k we do a linear multiplication\n",
        "        self.w_q = nn.Linear(d_model, d_model, device=device)\n",
        "        self.w_k = nn.Linear(d_model, d_model, device=device)\n",
        "        self.w_v = nn.Linear(d_model, d_model, device=device)\n",
        "        self.w_concat = nn.Linear(d_model, d_model, device=device)\n",
        "\n",
        "    def forward(self, q, k, v): # in our case q, k and v will be our input (three times)\n",
        "        # fill in steps\n",
        "        # take in Q,K,V and do dot product with big weight matrices\n",
        "        q, k, v =\n",
        "\n",
        "        # split tensor by number of heads\n",
        "        # (i.e. split big vector into smaller chunks = equivalent to multiplying each q,v,k with many smaller weight matrices)\n",
        "        q, k, v =\n",
        "\n",
        "        # do attention on each head\n",
        "        out, attention_score =\n",
        "\n",
        "        # concatenate and pass through a linear layer; output has size [batch_size, 1, length, d_model]\n",
        "        out = self.concat(out)\n",
        "        out = self.w_concat(out)\n",
        "\n",
        "        return out\n",
        "\n",
        "    def split(self, tensor):\n",
        "        batch_size, length, d_model = tensor.size()\n",
        "        if d_model % self.n_head != 0:\n",
        "            raise AssertionError('Model dimension d_model must be divisible by number of attention heads n_head.')\n",
        "        d_tensor = d_model // self.n_head\n",
        "        # this splits a big vector of size (batch_size, length, d_model) into (batch_size,length, n_head, d_model/n_head)\n",
        "        tensor = tensor.view(batch_size, length, self.n_head, d_tensor)\n",
        "        # transpose to (batch_size, n_head, length, d_model/n_head)\n",
        "        tensor = tensor.transpose(1, 2)\n",
        "        return tensor\n",
        "\n",
        "    @staticmethod\n",
        "    def concat(tensor):\n",
        "        # d_tensor is d_model / n_head\n",
        "        batch_size, head, length, d_tensor = tensor.size()\n",
        "        d_model = head * d_tensor\n",
        "        # contiguous is used to avoid error from view() as transpose makes tensor non-contiguous\n",
        "        tensor = tensor.transpose(1, 2).contiguous().view(batch_size, length, d_model)\n",
        "        return tensor"
      ],
      "metadata": {
        "id": "sTFrUhzkgLAj"
      },
      "execution_count": null,
      "outputs": []
    },
    {
      "cell_type": "markdown",
      "source": [
        "### Structure of layers\n",
        "\n",
        "The structure of the (group of) layers will be as follows:\n",
        "\n",
        "1.   Layer normalisation\n",
        "2.   Multihead attention layer + skip connection\n",
        "3.   Layer normalisation\n",
        "4.   Linear layer\n",
        "6.   ReLU\n",
        "5.   Linear layer + skip connection\n",
        "\n",
        "Let's first start with implementing LayerNorm. We want to normalise along the patches of each image in the batch."
      ],
      "metadata": {
        "id": "oWEgNE8-g632"
      }
    },
    {
      "cell_type": "code",
      "source": [
        "class LayerNorm(nn.Module):\n",
        "    def __init__(self, d_model, device, eps=1e-12):\n",
        "        super(LayerNorm, self).__init__()\n",
        "        self.gamma = nn.Parameter(torch.ones(d_model, device=device))\n",
        "        self.beta = nn.Parameter(torch.zeros(d_model, device=device))\n",
        "        self.eps = eps\n",
        "\n",
        "    def forward(self, x):\n",
        "        # mean is taken over last dimension; this is def of layernorm; so over d_model\n",
        "        mean = x.mean(-1, keepdim=True)\n",
        "        var = x.var(-1, unbiased=False, keepdim=True)\n",
        "        # so output remains of size x\n",
        "        out = (x-mean) / torch.sqrt(var + self.eps)\n",
        "        return out"
      ],
      "metadata": {
        "id": "zgLX1CLEFk09"
      },
      "execution_count": null,
      "outputs": []
    },
    {
      "cell_type": "markdown",
      "source": [
        "We can now implement the structure of the layer defined above."
      ],
      "metadata": {
        "id": "bK0f1WReIrqs"
      }
    },
    {
      "cell_type": "code",
      "source": [
        "class OneLayer(nn.Module):\n",
        "\n",
        "    def __init__(self, d_model, n_hidden, n_head, device):\n",
        "        super(OneLayer, self).__init__()\n",
        "        self.attention = MultiHeadAttention(d_model=d_model, n_head=n_head, device=device)\n",
        "        self.norm1 = LayerNorm(d_model=d_model, device=device)\n",
        "        # this next piece is the positionwise feedforward - to maintain sizes\n",
        "        self.linear2 = nn.Linear(d_model, n_hidden, device=device)\n",
        "        self.relu = nn.ReLU()\n",
        "        self.linear3 = nn.Linear(n_hidden, d_model, device=device)\n",
        "        self.norm2 = LayerNorm(d_model=d_model, device=device)\n",
        "\n",
        "    def forward(self, x):\n",
        "        x_ = self.norm1(x)\n",
        "        x = self.attention(q = x_, k = x_, v = x_) + x\n",
        "        x_ = self.norm2(x)\n",
        "        x = self.linear3(self.relu(self.linear2(x_))) + x\n",
        "        return x"
      ],
      "metadata": {
        "id": "XWqYyJNjIzDT"
      },
      "execution_count": null,
      "outputs": []
    },
    {
      "cell_type": "markdown",
      "source": [
        "### Structure of Vision Transformer\n",
        "\n",
        "We can now combine all the code above to obtain the structure of the Vision Transformer in order to perform classification.\n",
        "\n",
        "1.   Map flattened patches of size d_init into d_model\n",
        "2.   Add positional encoding\n",
        "3.   Apply layers (OneLayer defined above) for n_layers number of times\n",
        "4.   Average pool to reshape output\n",
        "5.   Linear layer to map to a tensor with size correposnding to the number of classes (10 in our case)\n",
        "6.   Softmax to get probabilities\n",
        "\n"
      ],
      "metadata": {
        "id": "GmldBDdUI8Cl"
      }
    },
    {
      "cell_type": "code",
      "execution_count": null,
      "metadata": {
        "id": "SfmMTEcvU_7U"
      },
      "outputs": [],
      "source": [
        "class VisionTransformer(nn.Module):\n",
        "    def __init__(self, length, d_init, d_model, n_hidden, n_head, n_layers, n_classes, device):\n",
        "        super().__init__()\n",
        "        self.linear1 = nn.Linear(d_init, d_model, device=device)  # maps initial dimension to d_model\n",
        "        self.encoding = PositionalEncoding(length=length, d_model=d_model, device=device)\n",
        "\n",
        "        #list of layers\n",
        "        layer_list = []\n",
        "        for _ in range(n_layers):\n",
        "            layer_list.append(OneLayer(d_model=d_model, n_hidden=n_hidden, n_head=n_head, device=device))\n",
        "        self.layers = nn.ModuleList(layer_list)\n",
        "\n",
        "        self.avgpool = nn.AdaptiveAvgPool2d((1, d_model))\n",
        "        self.linear2 = nn.Linear(d_model, n_classes, device=device)\n",
        "        self.softmax = nn.Softmax(dim=-1)\n",
        "\n",
        "    def forward(self, x):\n",
        "        # Map the input dimension to model dimension\n",
        "        x = self.linear1(x)\n",
        "        # Add positional encoding\n",
        "        x = self.encoding(x) + x\n",
        "        # Attention layers\n",
        "        for layer in self.layers:\n",
        "            x = layer(x)\n",
        "        # Global 1D pooling layer (x is of size [n_batches, length, d_model])\n",
        "        x = self.avgpool(x).squeeze()\n",
        "        # Final linear layer and softmax to map to the correct dimension\n",
        "        x = self.linear2(x)\n",
        "        x = self.softmax(x)\n",
        "        # All done :)\n",
        "        return x\n",
        "\n",
        "    def __repr__(self):\n",
        "        return \"vision_transformer\""
      ]
    },
    {
      "cell_type": "markdown",
      "source": [
        "Let's write a function to evaluate accuracy."
      ],
      "metadata": {
        "id": "57mWcFmfKt8v"
      }
    },
    {
      "cell_type": "code",
      "source": [
        "def accuracy(dataloader, model, n=1):\n",
        "  num_samples = 0\n",
        "  num_correct = 0\n",
        "\n",
        "  for i, data in enumerate(dataloader):\n",
        "    images, labels = data\n",
        "    images, labels = images.to(device), labels.to(device)\n",
        "    with torch.no_grad():\n",
        "      output = model(images)\n",
        "    _, inds = torch.topk(output, n)\n",
        "    num_correct += int(torch.sum(labels == inds.flatten()))\n",
        "    num_samples += len(labels)\n",
        "\n",
        "  return num_correct / num_samples"
      ],
      "metadata": {
        "id": "_pa60LCSwYLD"
      },
      "execution_count": null,
      "outputs": []
    },
    {
      "cell_type": "markdown",
      "source": [
        "We now have to define the hyperparameters of our network. The number of patches and length of the flattened patches can be extracted from the structure of our dataset. Batch size was also specified when we loaded the dataset.\n",
        "\n",
        "The other hyperparameters we have to choose ourselves. Feel free to modify these to try to obtain a better performance of the model."
      ],
      "metadata": {
        "id": "4icN2YNpKxfw"
      }
    },
    {
      "cell_type": "code",
      "source": [
        "num_patches, d_init = trainset[0][0].shape\n",
        "\n",
        "params = {\n",
        "    'length': num_patches,  # Number of patches the image is broken up into\n",
        "    'd_init': d_init,  # Size of the flattened image patch\n",
        "    'd_model': 100,\n",
        "    'n_hidden': 100,\n",
        "    'n_head': 5,\n",
        "    'n_layers': 5,\n",
        "    'n_classes': 10,\n",
        "    'device': device\n",
        "}\n",
        "\n",
        "model = VisionTransformer(**params)"
      ],
      "metadata": {
        "id": "gVaS2qpvZk-H"
      },
      "execution_count": null,
      "outputs": []
    },
    {
      "cell_type": "markdown",
      "source": [
        "Let's train the model. If it is taking too long to train just make sure that the model works (that is, that it runs one epoch)."
      ],
      "metadata": {
        "id": "jbubQwMELfcY"
      }
    },
    {
      "cell_type": "code",
      "source": [
        "num_epochs = 60\n",
        "\n",
        "cross_entropy_loss = nn.CrossEntropyLoss()\n",
        "optimizer = torch.optim.SGD(model.parameters(), lr=1e-1)\n",
        "scheduler = torch.optim.lr_scheduler.CosineAnnealingLR(optimizer, num_epochs)\n",
        "losses = []\n",
        "accuracies = []\n",
        "pbar = tqdm(range(num_epochs))\n",
        "\n",
        "for epoch in pbar:\n",
        "  avg_loss = []  # average loss across batches\n",
        "  for i, data in enumerate(trainloader):\n",
        "    images, labels = data\n",
        "    images, labels = images.to(device), labels.to(device)\n",
        "    output = model(images)\n",
        "    loss = cross_entropy_loss(output, labels)\n",
        "    optimizer.zero_grad()\n",
        "    loss.backward()\n",
        "    optimizer.step()\n",
        "    avg_loss.append(loss.detach().item())\n",
        "\n",
        "  loss_averaged = np.array(avg_loss).mean()\n",
        "  scheduler.step()\n",
        "\n",
        "  # Evaluate the model every 25 time steps on the test set\n",
        "  if epoch % 25 == 0:\n",
        "    accuracies.append(accuracy(testloader, model, n=1))\n",
        "\n",
        "  # Update progress bar\n",
        "  description = (\n",
        "    f'Loss {loss_averaged:.3f} | '\n",
        "    f'learning rate {optimizer.param_groups[0][\"lr\"]:.6f}'\n",
        "  )\n",
        "  pbar.set_description(description)\n",
        "  losses.append(np.array(avg_loss).mean())\n"
      ],
      "metadata": {
        "id": "07s12VcvdzZz"
      },
      "execution_count": null,
      "outputs": []
    },
    {
      "cell_type": "markdown",
      "source": [
        "Let's evaluate the model."
      ],
      "metadata": {
        "id": "G9JvhSPLZJJ2"
      }
    },
    {
      "cell_type": "code",
      "source": [
        "plt.plot(losses)\n",
        "plt.xlabel('Epochs')\n",
        "plt.ylabel('Cross entropy loss')\n",
        "plt.show()"
      ],
      "metadata": {
        "id": "NjVBxCeA0bt2"
      },
      "execution_count": null,
      "outputs": []
    },
    {
      "cell_type": "code",
      "source": [
        "plt.bar(25*np.arange(len(accuracies)), accuracies)\n",
        "plt.xlabel('Epochs')\n",
        "plt.ylabel('Test set top-1 accuracy')\n",
        "plt.xticks(25*np.arange(len(accuracies)))\n",
        "plt.show()"
      ],
      "metadata": {
        "id": "ZgNox1A3nc36"
      },
      "execution_count": null,
      "outputs": []
    },
    {
      "cell_type": "code",
      "source": [
        "acc = accuracy(testloader, model, n=1)\n",
        "print(f\"Model achieved {100*acc:.2f}% accuracy on test set.\")"
      ],
      "metadata": {
        "id": "WmT2WhfdzdEY"
      },
      "execution_count": null,
      "outputs": []
    },
    {
      "cell_type": "markdown",
      "source": [
        "References:\n",
        "\n",
        "- [An image is worth 16X16 words: Transformers for image recognition at scale](https://arxiv.org/pdf/2010.11929.pdf)\n",
        "- [Better plain ViT baselines for ImageNet-1k](https://arxiv.org/pdf/2205.01580.pdf)"
      ],
      "metadata": {
        "id": "3QFTlWgj18j8"
      }
    }
  ]
}