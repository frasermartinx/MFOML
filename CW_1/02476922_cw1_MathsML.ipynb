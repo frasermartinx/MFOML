{
 "cells": [
  {
   "cell_type": "markdown",
   "metadata": {},
   "source": [
    "# Coursework 1 - Mathematics for Machine Learning"
   ]
  },
  {
   "cell_type": "markdown",
   "metadata": {},
   "source": [
    "## CID: 02476922\n",
    "\n",
    "**Colab link:** insert colab link here\n",
    "\n",
    "***\n",
    "***"
   ]
  },
  {
   "cell_type": "markdown",
   "metadata": {},
   "source": [
    "## Part 1: Quickfire questions [3 points]"
   ]
  },
  {
   "cell_type": "markdown",
   "metadata": {},
   "source": [
    "#### Question 1 (True risk / Empirical risk):\n",
    "\n",
    "Let $\\hat{\\mathcal{F}}$ be the full class of functions $f:\\mathcal{X} \\to \\mathcal{Y}$. Assume we have data $(x,y) \\sim D = \\mathcal{X} \\times \\mathcal{Y}$. Consider a loss function $L:\\mathcal{Y}\\times\\mathcal{Y} \\to \\mathbb{R}$.\n",
    "\n",
    "We define the true risk, for a sample from the data generating distribution $\\mathcal{D}$, and a specific function in the full class of functions $\\hat{\\mathcal{F}}$ as the expectation of the loss function over the data generating distribution $R(f) := \\mathbb{E}_D[L(f(x),y)]$. We then seek an $\\hat{F}$ that minimizes this.\n",
    "\n",
    "However, in practical situations, we do not know $D$. Hence we approximate the true risk with the empirical risk, which, for a sample $(x^{(i)},y^{(i)})_{i=1}^N$ assumed to be iid from $D$, is the average loss over the sample (which would converge to the true expectation by LLN), which is defined as $\\hat{R}(f) := \\frac{1}{N}\\sum_{i=1}^N L(f(x^{(i)}),y^{(i)})$.\n",
    "\n",
    "The key difference is that the true risk is the actual thing we are trying to minimize, however it is intractable due to the expectation over the unknown data generating distribution, so we approximate it with the empirical risk, the average loss over a sample. We then seek to minimize the empirical risk instead."
   ]
  },
  {
   "cell_type": "markdown",
   "metadata": {},
   "source": [
    "#### Question 2 ('Large' or 'rich' hypothesis class):\n",
    "\n",
    "In reality, we do not know the true full class of functions $\\hat{\\mathcal{F}}$, so we choose a candidate $\\mathcal{F}$.\n",
    "\n",
    "The benefits of a large hypothesis class are that they can in general contain a much wider class of function than small hypothesis classes, meaning, assuming we choose it wisely, we have more flexibility and potentially more complexity possible, and a bigger space to search for the optimal function in. If we are searching over a bigger space then we are more likely to find a better function to fit the data.\n",
    "\n",
    "However, as seen with the generalisation bound for a finite hypothesis class, the bound for the generalisation error increases logarithmically with the size of the class of functions. That is, the bound for how well the function generalises to unseen data increases logarithmically with the size of the class of functions. Also, there is always the risk of overfitting with a more complex class."
   ]
  },
  {
   "cell_type": "markdown",
   "metadata": {},
   "source": [
    "#### Question 3 (Dataset splitting):\n",
    "\n",
    "We would not expect the performance of the model on the validation set to perfectly match the performance on unseen data. When we take the training/validation split there is still randomness involved. Perhaps on a different seed a different model would be selected as the best on the validation set. The validation set is also finite, and in this case, small, compared to the training data. Thus, the validation data may have not been able to capture enough variability in the data for it to generalise well to a new test dataset. The selected model may have gotten \"lucky\" on this specific validation set. This is why often there is a training/validation/test split performed, to evaluate performance on data that has not been used to either train the model or tune hyperparamters, since the results can show things such as overfitting/failure to generalise to new data."
   ]
  },
  {
   "cell_type": "markdown",
   "metadata": {},
   "source": [
    "#### Question 4 (Occam’s razor):\n",
    "\n",
    "Occam's razor in a general sense means that if we have competing hypotheses which have the same performance, we should choose the simplest one. For the specific context of image representation, we should be using low dimensional feature vectors (compressing the data), whilst still being able to represent the important features in the image. For example, in the MNIST dataset, lots of the pixels towards the edge of the images are represented as a 0, since the important distinguishing part of the images are towards the centre, thus we can compress the images by removing the parts of the vector containing the edges of the images (assuming the matrix representation has been flattened to a vector)."
   ]
  },
  {
   "cell_type": "markdown",
   "metadata": {},
   "source": [
    "#### Question 5 (Generalisation error):\n",
    "\n",
    "A good model should have a low generalisation error, since, as we estimate it using a second sample (test or validation sample), if this error is low, then it has the meaning that the model can generalise well to unseen data, which is a desirable property."
   ]
  },
  {
   "cell_type": "markdown",
   "metadata": {},
   "source": [
    "#### Question 6 (Rademacher complexity pt1):\n",
    "\n",
    "Enter your answer here"
   ]
  },
  {
   "cell_type": "markdown",
   "metadata": {},
   "source": [
    "#### Question 7 (Rademacher complexity pt2):\n",
    "\n",
    "Enter your answer here"
   ]
  },
  {
   "cell_type": "markdown",
   "metadata": {},
   "source": [
    "#### Question 8 (Regularisation term in the loss function):\n",
    "\n",
    "Sometimes, certain features can dominate predictions, which is not always desirable. If a regularisation term is added, then the model is penalised for choosing parameters that are very large. This helps to reduce overfitting, since then it limits how much each feature can be relied on for prediction. In the case of the Lasso regularisation term, parameter values can actually be shrunk to 0, meaning the optimisation can result in a model of lower dimensionality, which again helps to reduce overfitting."
   ]
  },
  {
   "cell_type": "markdown",
   "metadata": {},
   "source": [
    "#### Question 9 (Momentum gradient descent):\n",
    "\n",
    "Enter your answer here"
   ]
  },
  {
   "cell_type": "markdown",
   "metadata": {},
   "source": [
    "#### Question 10 (Adam):\n",
    "\n",
    "Enter your answer here"
   ]
  },
  {
   "cell_type": "markdown",
   "metadata": {},
   "source": [
    "#### Question 11 (AdaGrad):\n",
    "\n",
    "Enter your answer here"
   ]
  },
  {
   "cell_type": "markdown",
   "metadata": {},
   "source": [
    "#### Question 12 (Decaying Learning Rate):\n",
    "\n",
    "A decaying learning rate is often useful, since without one, the descent algorithm can get stuck around a local/global minimum unable to get any deeper, because the steps it takes towards the minimum are too large, resulting in overshooting. When a decaying learning rate is used, the algorithm takes smaller and smaller steps as the iteration counter increases, which hopefully results in no overshooting. However, this has to be tuned, since there is the risk of the step size decreasing too fast, resulting in the algorithm not moving anywhere, despite not being at a local/global minimum."
   ]
  },
  {
   "cell_type": "markdown",
   "metadata": {},
   "source": [
    "*** \n",
    "***\n",
    "\n",
    "## Part 2: Short-ish proofs [6 points]"
   ]
  },
  {
   "cell_type": "markdown",
   "metadata": {},
   "source": [
    "\n",
    "### Question 2.1: Bounds on the risk [1 point]\n"
   ]
  },
  {
   "cell_type": "markdown",
   "metadata": {},
   "source": [
    "1. we have $P[\\hat{R}(f) - R(f) \\ge \\epsilon] = P[\\frac{1}{N}\\sum_{i=1}^N L(f(x^{(i)}),y^{(i)}) - R(f) \\ge \\epsilon] = P[\\frac{1}{N}\\sum_{i=1}^N L_i - R(f) \\ge \\epsilon]$. By the requirements of the lemma, we have that $f:X \\to \\{0,1\\}$. This means that, for a given loss function, there are only 4 possible input states for $L_i$. Hence we can think of $L_i$ as a bounded random variable with 4 possible outputs. Set $a_i = \\min L_i, b_i = \\max L_i$. These will be the same for all $i$. Moreover, $L_i$ are independent since the sample is. Set $S_N = \\sum_{i=1}^N L_i$. Then we have $P[\\hat{R}(f) - R(f) \\ge \\epsilon] = P[\\frac{1}{N}S_N - \\frac{1}{N}\\mathbb{E}[S_N] \\ge \\epsilon] = P[S_N - \\mathbb{E}[S_N] \\ge N\\epsilon]$. Finally, we can use Hoeffding's inequality to get $P[S_N - \\mathbb{E}[S_N] \\ge N\\epsilon] \\le \\exp(\\frac{-2(N\\epsilon)^2}{\\sum_{i=1}^N(b_i-a_i)^2})$. Then, since $a_i,b_i$ are constant, set $(b_i - a_i)^2 = K$, then the exponential simplifies to $\\exp(\\frac{-2(N\\epsilon)^2}{NK}) = \\exp(\\frac{-2 N\\epsilon^2}{K}) =  \\exp(-2 N\\epsilon^2)$ since $\\epsilon$ is arbitrary, and $K$ is constant. This gives us the result $P[\\hat{R}(f) - R(f) \\ge \\epsilon] \\le \\exp(-2 N\\epsilon^2)$, as required. The other inequality follows in the exact same way from the other inequality in the Hoeffding's inequality theorem.\n",
    "\n",
    "\n",
    "2. This result shows that as the size of the dataset, $N$, increases, the probability of the empirical risk being more than some value $\\epsilon$ from the true risk for a given hypothesis $f:X \\to \\{0,1\\}$ decreases. This makes sense, we would expect to converge to the true risk in some way when we collect more data.\n",
    "\n",
    "3. The term $|\\mathcal{F}|$ in theorem 4.8 refers to the size of the function class, or, the number of possible functions we are considering. In the context of the theorem, this term means that generalisation bound for a fixed hypothesis increases logarithmically with the size of the function class. So the more functions we are considering, the greater the potential generalisation error. A balance needs to be attained between the error we are willing to accept and the number of functions we want to potentially consider."
   ]
  },
  {
   "cell_type": "markdown",
   "metadata": {},
   "source": [
    "***\n",
    "\n",
    "### Question 2.2: On semi-definiteness [1 point]"
   ]
  },
  {
   "cell_type": "markdown",
   "metadata": {},
   "source": [
    "We define $g(t) = f(x+tv)$ for an arbitrary direction $v \\in \\mathbb{R}^d$.\n",
    "\n",
    "\n",
    "\n",
    "To show $g$ is convex, let $t_1,t_2 \\in \\mathbb{R}$ and $\\lambda \\in [0,1]$. Then, using its relation to $f$, and the convexity of $f$:\n",
    "\n",
    "$g(\\lambda t_1 + (1-\\lambda)t_2) = f(x + (\\lambda t_1 + (1-\\lambda)t_2)v) = f(x + \\lambda t_1 v + t_2 v - \\lambda t_2 v)  = f(x + \\lambda t_1 v + t_2 v - \\lambda t_2 v + \\lambda x - \\lambda x) = f(\\lambda (x+t_1 v) + (1-\\lambda)(x+t_2 v)) \\le \\lambda f(x+t_1 v) + (1- \\lambda)f(x + t_2 v) = \\lambda g(t_1) + (1- \\lambda)g(t_2)$\n",
    "\n",
    "Hence $g$ is convex in $\\mathbb{R}$.\n",
    "\n",
    "To show differentiability, we will compute the derivative and show it exists. Letting $x+tv := p(t)$:\n",
    "\n",
    "$g'(t) = \\frac{d}{dt}f(x+tv) = \\sum_i\\frac{\\partial f}{\\partial p_i} \\frac{dp_i}{dt} = \\sum_i[\\nabla f(p(t))]_i v_i =  v \\cdot \\nabla f(p(t)) $.\n",
    "\n",
    "Hence $g$ is once differentiable since $f$ is once differentiable (ie $\\nabla f$ exists).\n",
    "\n",
    "$g''(t) = \\frac{d}{dt}(\\sum_i\\frac{\\partial f}{\\partial p_i} v_i) = \\sum_i \\frac{d}{dt}(\\frac{\\partial f}{\\partial p_i} v_i) = \\sum_i (\\frac{d}{dt}(\\frac{\\partial f}{\\partial p_i}) + \\frac{\\partial f}{\\partial p_i} \\frac{d}{dt}(v_i)) = \\sum_i \\sum_j \\frac{\\partial f}{\\partial p_i \\partial p_j} \\frac{d p_j}{dt} v_i = \\sum_i \\sum_j \\frac{\\partial f}{\\partial p_i \\partial p_j} v_j v_i $\n",
    "\n",
    "$\\implies g''(t)= v^T H v$, where $H$ is the hessian of $f$. Hence $g$ is twice differentiable since $f$ is twice differeniable (ie $H$ exists).\n",
    "\n",
    "We know for $d = 1$, the implication holds, hence, since $g:\\mathbb{R} \\to \\mathbb{R}$, $g$ convex $\\implies g''(t) \\ge 0 \\ \\forall \\ t$.\n",
    "\n",
    "In particular, if we let $t = 0$, we get $0 \\le g''(0) = v^T H v = v^T \\nabla ^2 f(x) v$\n",
    "\n",
    "$\\implies v^T \\nabla ^2 f(x) v \\ge 0 \\ \\forall \\ v \\in \\mathbb{R}^d$, since $v$ was chosen arbitrarily.\n",
    "\n",
    "\n"
   ]
  },
  {
   "cell_type": "markdown",
   "metadata": {},
   "source": [
    "***\n",
    "\n",
    "### Question 2.3: A quick recap of momentum [1 point]"
   ]
  },
  {
   "cell_type": "markdown",
   "metadata": {},
   "source": [
    "We perform the analysis with $f(x) = \\frac{1}{2}x^TSx - b^T x, x \\in \\mathbb{R}^d$, and $x^*$ the optimum.\n",
    "\n",
    "When we make the change of basis as specified"
   ]
  },
  {
   "cell_type": "markdown",
   "metadata": {},
   "source": [
    "***\n",
    "\n",
    "### Question 2.4: Convergence proof [3 points]"
   ]
  },
  {
   "cell_type": "markdown",
   "metadata": {},
   "source": [
    "1. \n",
    "\n",
    "The evolution for netwon's method for gradient descent is as follows:\n",
    "$x_{k+1} = x_k - (\\nabla ^ 2 f(x_k))^{-1} \\nabla f(x_k)$.\n",
    "\n",
    "This basically works by approximating the function $f$ by a quadratic function (using a taylor approximation), and then minimizing that approximation at each iteration wrt the step, which leads to taking steps towards the overall local/global minimum of the function.\n",
    "\n",
    "2. \n",
    "\n",
    "$f(x) = \\frac{1}{2}x^T Q x + b^T x + c$, with $x \\in \\mathbb{R}^d$ and $Q$ is positive definite.\n",
    "\n",
    "Here, $f$ is a quadratic function, so the approximation is exact. The minimum is given when $\\nabla f(x) = 0$, which gives $Qx + b = 0 \\implies x = -Q^{-1}b$ is the minimum.\n",
    "\n",
    "Nevertheless, given a current state $x_k$, we have $\\nabla f(x_k) = Qx_k + b$, and $\\nabla^2 f(x_k) = Q$.\n",
    "\n",
    "Thus, when making the step as per newton's method, we have:\n",
    "\n",
    "$x_{k+1} = x_k - (\\nabla ^ 2 f(x_k))^{-1} \\nabla f(x_k) = x_k - Q^{-1}( Qx_k + b) = - Q^{-1}b$, hence the algorithm converges in one iteration regardless of where we start.\n",
    "\n",
    "3. \n",
    "\n",
    "Newton's method makes a quadratic approximation using a taylor series around $f$. However, when $f$ itself is quadratic, the approximation is exact. Thus, since in each iteration we are setting the next x location to be that which minimizes the quadratic approximation, we obtain the minimum in one step as the function $f$ itself is exactly the approximation.\n",
    "\n",
    "\n",
    "4. \n",
    "\n",
    "Using Newton's iterative step, $x_{1} = x_0 - (\\nabla ^ 2 f(x_0))^{-1} \\nabla f(x_0)$. \n",
    "\n",
    "$\\implies x_{1} - x^* = x_0 - (\\nabla ^ 2 f(x_0))^{-1} \\nabla f(x_0) - x^*$\n",
    "\n",
    "\n",
    "Then, by thinking of $x_0 - x^*$ as $I(x_0- x^*)$, and noting that $\\nabla ^ 2 f(x_0)$ is invertible:\n",
    "\n",
    "$x_{1} - x^*= (\\nabla ^ 2 f(x_0))^{-1}(\\nabla ^ 2 f(x_0))(x_0 - x^*) - (\\nabla ^ 2 f(x_0))^{-1} \\nabla f(x_0)$\n",
    "\n",
    "$\\implies x_{1} - x^*= (\\nabla ^ 2 f(x_0))^{-1}(\\nabla ^ 2 f(x_0)(x_0 - x^*) - \\nabla f(x_0))$.\n",
    "\n",
    "Then, by using Lemma 0.1, we obtain (noting that $(\\nabla ^ 2 f(x_0))^{-1}$ is a square matrix, and is continuous for all $x$, since it is 3 times continuously differentiable):\n",
    "\n",
    "$ ||x_1 - x^*|| \\le ||(\\nabla ^ 2 f(x_0))^{-1}|| \\ || \\nabla ^ 2 f(x_0)(x_0 - x^*) - \\nabla f(x_0) || $, as required.\n",
    "\n",
    "5.\n",
    "\n",
    " By assumption $f \\in C^3$ and $\\nabla ^2 f(x^*)$ is invertible, hence, by lemma 0.2, there exist scalars $\\epsilon, c_1$ such that for all $x_0 \\in B(x^*,\\epsilon)$, $||(\\nabla ^2 f(x^*))^{-1}|| \\le c_1 $.\n",
    "\n",
    "Also, if we consider the taylor series expansion of $\\nabla f$ about $x_0$, we obtain:\n",
    "\n",
    "$\\nabla f(x)$ = $\\nabla f(x_0) + \\nabla^2 f(x_0)(x-x_0) + O(||x-x_0||^2)$\n",
    "\n",
    "This remainder will contain third derivatives since $f \\in C^3$, these derivatives are continuous and hence bounded on $B(x^*,\\epsilon)$. Then, if we choose $x = x^*$, we obtain (recalling $\\nabla f(x^*) = 0$):\n",
    "\n",
    "$ \\nabla^2 f(x_0)(x_0-x^*) -\\nabla f(x_0)= O(||x^*-x_0||^2)$\n",
    "\n",
    "$\\implies ||\\nabla^2 f(x_0)(x_0-x^*) +\\nabla f(x_0)|| \\le c_2||x_0-x^*||^2$\n",
    "\n",
    "Then, applying these two bounds to step 4. we get the result, there exists an $\\epsilon > 0$ st:\n",
    "\n",
    "$||x_1 - x^*|| \\le c_1c_2||x_0 - x^*||^2$ for all $x_0 \\in B(x^*,\\epsilon)$\n",
    "\n",
    "\n",
    "6.\n",
    "\n",
    "Consider $x_0 \\in B(x^*, \\epsilon)$ such that $||x_0 - x^*|| \\le \\frac{\\alpha}{c_1c_2}$, with $\\alpha \\in (0,1)$, then, $\\epsilon \\le \\frac{\\alpha}{c_1c_2}$, and:\n",
    "\n",
    "$||x_1 - x^*|| \\le c_1 c_2 (\\frac{\\alpha^2}{c_1^2c_2^2}) = \\frac{\\alpha^2}{c_1c_2} \\le \\frac{\\alpha}{c_1c_2}$ since $\\alpha \\in (0,1)$, as required.\n",
    "\n",
    "Also, following this result, we have that $x_1 \\in B(x^*,\\epsilon)$, by definition of the ball.\n",
    "\n",
    "7.\n",
    "\n",
    "By induction, using the same method we just presented, $||x_{k+1} -x^*|| \\le c_1c_2||x_{k}-x^*||^2$.\n",
    "\n",
    "Since  $||x_k - x^*|| \\le \\frac{\\alpha}{c_1c_2}$, we have:\n",
    "\n",
    "$||x_{k+1} -x^*|| \\le \\alpha ||x_{k}-x^*||$ , for all $x_{k} \\in B(x^*, \\epsilon)$ (again meaning $x_{k+1} \\in B(x^*, \\epsilon)$)\n",
    "\n",
    "8. \n",
    "\n",
    "Since $\\alpha \\in (0,1)$, this distance will shrink across the iterations, meaning $x_k \\to x^*$ as $k \\to \\infty$.\n",
    "\n",
    "Also, we have that the convergence is quadratic, since $||x_{k+1} -x^*|| \\le c_1c_2||x_{k}-x^*||^2$.\n",
    "\n",
    "\n"
   ]
  },
  {
   "cell_type": "markdown",
   "metadata": {},
   "source": [
    "***\n",
    "***\n",
    "\n",
    "## Part 3: A deeper dive into neural network implementations [3 points]"
   ]
  },
  {
   "cell_type": "code",
   "execution_count": 1,
   "metadata": {},
   "outputs": [],
   "source": [
    "# Import libraries\n",
    "import numpy as np\n",
    "import torch\n",
    "import torch.nn as nn\n",
    "import torchvision\n",
    "\n",
    "import torchvision.transforms as transforms\n",
    "import matplotlib.pyplot as plt\n",
    "import torch.optim as optim\n"
   ]
  },
  {
   "cell_type": "code",
   "execution_count": 2,
   "metadata": {},
   "outputs": [],
   "source": [
    "#GPU\n",
    "device = torch.device(\"cuda\")"
   ]
  },
  {
   "cell_type": "code",
   "execution_count": 24,
   "metadata": {},
   "outputs": [
    {
     "name": "stdout",
     "output_type": "stream",
     "text": [
      "Files already downloaded and verified\n",
      "Files already downloaded and verified\n"
     ]
    }
   ],
   "source": [
    "# Download datasets\n",
    "train_set_mnist = torchvision.datasets.MNIST(root=\"../../\", download=True,\n",
    "                                         train=True, transform=transforms.Compose([transforms.ToTensor()]))\n",
    "\n",
    "test_set_mnist = torchvision.datasets.MNIST(root=\"../../\",download=True,\n",
    "                                        train=False,transform=transforms.Compose([transforms.ToTensor()]),)\n",
    "\n",
    "train_set_cifar = torchvision.datasets.CIFAR10(root=\"../../\", download=True,\n",
    "                                         train=True, transform=transforms.Compose([transforms.ToTensor()]))\n",
    "\n",
    "test_set_cifar = torchvision.datasets.CIFAR10(root=\"../../\",download=True,\n",
    "                                        train=False,transform=transforms.Compose([transforms.ToTensor()]),)"
   ]
  },
  {
   "cell_type": "code",
   "execution_count": 3,
   "metadata": {},
   "outputs": [
    {
     "data": {
      "text/plain": [
       "<torch._C.Generator at 0x1f33a965f30>"
      ]
     },
     "execution_count": 3,
     "metadata": {},
     "output_type": "execute_result"
    }
   ],
   "source": [
    "# Set seed\n",
    "SEED = 2476922\n",
    "np.random.seed(SEED)\n",
    "torch.manual_seed(SEED)"
   ]
  },
  {
   "cell_type": "code",
   "execution_count": 4,
   "metadata": {},
   "outputs": [
    {
     "name": "stdout",
     "output_type": "stream",
     "text": [
      "tensor(1.)\n"
     ]
    },
    {
     "data": {
      "text/plain": [
       "tensor(1.)"
      ]
     },
     "execution_count": 4,
     "metadata": {},
     "output_type": "execute_result"
    }
   ],
   "source": [
    "#preprocess MNIST, we will be scaling the inputs to (0,1)\n",
    "print(torch.max(train_set_mnist[100][0]))\n",
    "#it appears the data is already scaled to the correct scaling\n",
    "torch.max(test_set_mnist[100][0])"
   ]
  },
  {
   "cell_type": "markdown",
   "metadata": {},
   "source": [
    "***\n",
    "\n",
    "### Part 3.1: Implementations [1 point]"
   ]
  },
  {
   "cell_type": "markdown",
   "metadata": {},
   "source": [
    "First, we define the Network class, that initializes 5 types of layers, with the Relu layer and hidden layer used multiple times."
   ]
  },
  {
   "cell_type": "code",
   "execution_count": 5,
   "metadata": {},
   "outputs": [],
   "source": [
    "### TASK 1 ###\n",
    "\n",
    "class Network(nn.Module):\n",
    "    #initialise the layers etc\n",
    "    def __init__(self, dim, nclass, width, depth):\n",
    "        \"\"\"\n",
    "        Inputs:\n",
    "            dim - Dimension of the flattened input\n",
    "            nclass - Number of classes we want to predict\n",
    "            width - the width in each layer, same for all layers\n",
    "            depth - the depth of the network    \n",
    "        \"\"\"\n",
    "        super().__init__()\n",
    "        #assign depth as an attribute\n",
    "        self.depth = depth\n",
    "        # The code below defines the layers for our model, which includes 5 different types of layer\n",
    "        # The hidden layer and relu layer are used multiple times\n",
    "        layers = []\n",
    "        #input and flatten\n",
    "        layers += [nn.Flatten(),nn.Linear(dim,width),nn.ReLU()]\n",
    "        #only put hidden layers in if depth is more than 1:\n",
    "        for i in range(self.depth-1):\n",
    "            layers += [nn.Linear(width,width), nn.ReLU()]\n",
    "        #output\n",
    "        layers += [nn.Linear(width,nclass)]\n",
    "\n",
    "        #sequential\n",
    "        self.layers = nn.Sequential(*layers)\n",
    "    \n",
    "    #this gets called on call\n",
    "    def forward(self,input):\n",
    "        #input = input.view(input.size(0), -1)\n",
    "        return self.layers(input)"
   ]
  },
  {
   "cell_type": "markdown",
   "metadata": {},
   "source": [
    "Next, we define the function to load the data, which is already preprocessed."
   ]
  },
  {
   "cell_type": "code",
   "execution_count": 9,
   "metadata": {},
   "outputs": [],
   "source": [
    "### TASK 2 ###\n",
    "\n",
    "def loading_data(batch_size,train_set,test_set):\n",
    "    #already preprocessed\n",
    "    trainloader = torch.utils.data.DataLoader(train_set, batch_size=batch_size, shuffle=True, drop_last=False)\n",
    "    testloader = torch.utils.data.DataLoader(test_set, batch_size=batch_size, shuffle=True, drop_last=False)\n",
    "    return trainloader,testloader\n"
   ]
  },
  {
   "cell_type": "markdown",
   "metadata": {},
   "source": [
    "Then, we define the train and test epochs, taking care to return the average loss over the entire epoch, not just the batches."
   ]
  },
  {
   "cell_type": "code",
   "execution_count": 19,
   "metadata": {},
   "outputs": [],
   "source": [
    "### Task 3 ###\n",
    "\n",
    "def train_epoch(trainloader, net, optimizer, criterion):\n",
    "    \"\"\"\n",
    "    Train a model on the training set of FashionMNIST\n",
    "\n",
    "    Inputs:\n",
    "        trainloader - DataLoader object of the dataset to train on \n",
    "        net - Object of Network\n",
    "        optimizer - the optimizer object\n",
    "        criterion - the loss function\n",
    "    \"\"\"\n",
    "    #set the net to train:\n",
    "    net.train()\n",
    "    loss_count,count = 0,0\n",
    "    #iterate\n",
    "    for imgs, labels in trainloader:\n",
    "        #send to GPU\n",
    "        imgs = imgs.to(device)\n",
    "        labels = labels.to(device)\n",
    "        #reset gradients\n",
    "        optimizer.zero_grad() \n",
    "        #forward pass\n",
    "        preds = net(imgs)\n",
    "        #find loss\n",
    "        loss = criterion(preds, labels)\n",
    "        #back pass\n",
    "        loss.backward()\n",
    "        #update weights\n",
    "        optimizer.step()\n",
    "        #now compute the additive loss for the epoch (we could do this by specifying reduce = sum in the metric, but this makes things unstable)\n",
    "        #we do batch size in case the batch size does not divide the data size\n",
    "        #loss fn returns batch average on default\n",
    "        batch_size =  labels.shape[0] \n",
    "        loss_count += loss * batch_size\n",
    "        count += batch_size\n",
    "        \n",
    "    return loss_count/count"
   ]
  },
  {
   "cell_type": "code",
   "execution_count": 86,
   "metadata": {},
   "outputs": [],
   "source": [
    "### Task 4 ###\n",
    "\n",
    "\n",
    "def test_epoch(testloader,net,criterion):\n",
    "    \"\"\"\n",
    "    Test a model on a specified dataset.\n",
    "\n",
    "    Inputs:\n",
    "        testloader - DataLoader object of the dataset to test on (validation or test)\n",
    "        net - Trained model of type Network\n",
    "        criterion - the loss function\n",
    "    \"\"\"\n",
    "    #set to evaluate\n",
    "    net.eval()\n",
    "    true_preds, count,loss_count = 0., 0, 0 \n",
    "    for imgs, labels in testloader:\n",
    "        #send to GPU\n",
    "        imgs = imgs.to(device)\n",
    "        labels = labels.to(device)   \n",
    "        #we do not use the gradient\n",
    "        with torch.no_grad():\n",
    "            #find the predicted label\n",
    "            preds = net(imgs)\n",
    "            #now compute the additive loss for the epoch (we could do this by specifying reduce = sum in the metric, but this makes things unstable)\n",
    "            #we do batch size in case the batch size does not divide the data size\n",
    "            #loss fn returns batch average on default\n",
    "            batch_size =  labels.shape[0] \n",
    "            loss_count += criterion(preds, labels) * batch_size\n",
    "            count += batch_size\n",
    "            \n",
    "            #change to label\n",
    "            preds = preds.argmax(dim=-1)\n",
    "\n",
    "            # add the number of correct predictions in the batch to the running total\n",
    "            true_preds += (preds == labels).sum().item()\n",
    "            \n",
    "            \n",
    "    test_err = 1 - true_preds / count\n",
    "    avg_loss = loss_count/count\n",
    "    return  test_err,avg_loss"
   ]
  },
  {
   "cell_type": "markdown",
   "metadata": {},
   "source": [
    "Finally, we define the function that actually trains the model, given the hyperparameters."
   ]
  },
  {
   "cell_type": "code",
   "execution_count": 9,
   "metadata": {},
   "outputs": [],
   "source": [
    "### Task 5 ###\n",
    "\n",
    "#defining hyperparameters that will be used to initialise the model object\n",
    "\n",
    "#MNIST\n",
    "dim = 784\n",
    "nclass = 10\n",
    "#we set \n",
    "width = 256\n",
    "depth = 1\n",
    "lr = 0.1"
   ]
  },
  {
   "cell_type": "code",
   "execution_count": 63,
   "metadata": {},
   "outputs": [],
   "source": [
    "\n",
    "#model that will train the network\n",
    "def train_model(net,batch_size,lr,num_epochs,train,test):\n",
    "    \"\"\"\n",
    "        Train and test the given model using the other hyperparameters \n",
    "\n",
    "        Inputs:\n",
    "            net - model of type Network\n",
    "            batch_size - the batch size\n",
    "            lr - learning rate\n",
    "            num_epochs - number of epochs to perform\n",
    "            train - the training data\n",
    "            test - the test data\n",
    "    \"\"\"\n",
    "    #define loss, optimizer\n",
    "    #we set loss to be sum otherwise it will average over each batch\n",
    "    loss_module = nn.CrossEntropyLoss()\n",
    "    optimizer = optim.Adam(net.parameters(),lr = lr)\n",
    "    #batch and process data\n",
    "    train_load, test_load = loading_data(batch_size,train,test)\n",
    "    # setup variables to store metrics at each iteration\n",
    "    train_loss_history = []\n",
    "    test_loss_history = []\n",
    "    test_err_history = []\n",
    "    #perform epochs\n",
    "    for epoch in range(0,num_epochs):\n",
    "\n",
    "        #train\n",
    "        train_loss =  train_epoch(train_load, net, optimizer, loss_module)\n",
    "        #test recording loss and error:\n",
    "        test_err,test_loss = test_epoch(test_load,net,loss_module)\n",
    "        print(f\"Epoch: {(epoch+1):03} | Train Loss: {train_loss:.04} |Test Loss: {test_loss:.04} | Test Error: {test_err:.04}\")\n",
    "        #record metrics\n",
    "        train_loss_history.append(train_loss.item())\n",
    "        test_loss_history.append(test_loss.item())\n",
    "        test_err_history.append(test_err)\n",
    "    #for later parts in the question, we return the history of each metric:\n",
    "    return train_loss_history, test_loss_history, test_err_history"
   ]
  },
  {
   "cell_type": "markdown",
   "metadata": {},
   "source": [
    "***\n",
    "\n",
    "### Part 3.2: Numerical exploration [2 points]"
   ]
  },
  {
   "cell_type": "markdown",
   "metadata": {},
   "source": [
    "### Task 6 ###\n",
    "For this part of the question, we set the width of each layer to be 256, we shall use ADAM as our optimizer, with the learning rate as 0.1, we shall run for 100 epochs each time, with a batch size of 1024, based on the size of the dataset. Since we are working with the MNIST dataset, we set dim = 28*28 = 784, and nclass = 10. We shall vary the depth in $\\{1,5,10\\}$ as stated in the question.\n",
    "\n",
    "Upon running the training function, we receive the loss history for both training and testing, as well as the error history for testing. In the table we display the best test loss and the corresponding training loss for that epoch, for each depth."
   ]
  },
  {
   "cell_type": "code",
   "execution_count": 98,
   "metadata": {},
   "outputs": [],
   "source": [
    "#General MNIST Hyperparameters\n",
    "dim = 784\n",
    "nclass = 10\n",
    "\n",
    "# Task 6 fixed hyperparameters\n",
    "width = 256\n",
    "lr = 0.01\n",
    "batch_size = 1024\n",
    "num_epochs = 100"
   ]
  },
  {
   "cell_type": "code",
   "execution_count": 99,
   "metadata": {},
   "outputs": [
    {
     "name": "stdout",
     "output_type": "stream",
     "text": [
      "Epoch: 001 | Train Loss: 0.3757 |Test Loss: 0.1619 | Test Error: 0.0504\n",
      "Epoch: 002 | Train Loss: 0.1262 |Test Loss: 0.1089 | Test Error: 0.0324\n",
      "Epoch: 003 | Train Loss: 0.08326 |Test Loss: 0.09468 | Test Error: 0.0296\n",
      "Epoch: 004 | Train Loss: 0.05971 |Test Loss: 0.07999 | Test Error: 0.0253\n",
      "Epoch: 005 | Train Loss: 0.04166 |Test Loss: 0.07161 | Test Error: 0.0203\n",
      "Epoch: 006 | Train Loss: 0.03111 |Test Loss: 0.0786 | Test Error: 0.0243\n",
      "Epoch: 007 | Train Loss: 0.02485 |Test Loss: 0.07299 | Test Error: 0.0217\n",
      "Epoch: 008 | Train Loss: 0.02219 |Test Loss: 0.07549 | Test Error: 0.0216\n",
      "Epoch: 009 | Train Loss: 0.01413 |Test Loss: 0.08333 | Test Error: 0.0229\n",
      "Epoch: 010 | Train Loss: 0.01049 |Test Loss: 0.07481 | Test Error: 0.0202\n",
      "Epoch: 011 | Train Loss: 0.007043 |Test Loss: 0.07832 | Test Error: 0.0204\n",
      "Epoch: 012 | Train Loss: 0.004385 |Test Loss: 0.07259 | Test Error: 0.0186\n",
      "Epoch: 013 | Train Loss: 0.004185 |Test Loss: 0.07954 | Test Error: 0.0202\n",
      "Epoch: 014 | Train Loss: 0.003207 |Test Loss: 0.07491 | Test Error: 0.0196\n",
      "Epoch: 015 | Train Loss: 0.002218 |Test Loss: 0.08097 | Test Error: 0.0196\n",
      "Epoch: 016 | Train Loss: 0.001337 |Test Loss: 0.07466 | Test Error: 0.0184\n",
      "Epoch: 017 | Train Loss: 0.000851 |Test Loss: 0.07482 | Test Error: 0.0181\n",
      "Epoch: 018 | Train Loss: 0.0005567 |Test Loss: 0.07626 | Test Error: 0.0189\n",
      "Epoch: 019 | Train Loss: 0.0006846 |Test Loss: 0.07949 | Test Error: 0.0196\n",
      "Epoch: 020 | Train Loss: 0.000517 |Test Loss: 0.07756 | Test Error: 0.0183\n",
      "Epoch: 021 | Train Loss: 0.0003432 |Test Loss: 0.07873 | Test Error: 0.0188\n",
      "Epoch: 022 | Train Loss: 0.0002908 |Test Loss: 0.07965 | Test Error: 0.0183\n",
      "Epoch: 023 | Train Loss: 0.0002631 |Test Loss: 0.07974 | Test Error: 0.0186\n",
      "Epoch: 024 | Train Loss: 0.0002371 |Test Loss: 0.07988 | Test Error: 0.0183\n",
      "Epoch: 025 | Train Loss: 0.0002197 |Test Loss: 0.08087 | Test Error: 0.0186\n",
      "Epoch: 026 | Train Loss: 0.0002028 |Test Loss: 0.08091 | Test Error: 0.0185\n",
      "Epoch: 027 | Train Loss: 0.0001893 |Test Loss: 0.0815 | Test Error: 0.0183\n",
      "Epoch: 028 | Train Loss: 0.0001785 |Test Loss: 0.08207 | Test Error: 0.0182\n",
      "Epoch: 029 | Train Loss: 0.0001702 |Test Loss: 0.0819 | Test Error: 0.0184\n",
      "Epoch: 030 | Train Loss: 0.000158 |Test Loss: 0.08323 | Test Error: 0.0184\n",
      "Epoch: 031 | Train Loss: 0.0001497 |Test Loss: 0.08293 | Test Error: 0.0184\n",
      "Epoch: 032 | Train Loss: 0.0001393 |Test Loss: 0.08332 | Test Error: 0.0185\n",
      "Epoch: 033 | Train Loss: 0.0001323 |Test Loss: 0.08378 | Test Error: 0.0185\n",
      "Epoch: 034 | Train Loss: 0.0001244 |Test Loss: 0.08436 | Test Error: 0.0182\n",
      "Epoch: 035 | Train Loss: 0.0001182 |Test Loss: 0.08437 | Test Error: 0.0184\n",
      "Epoch: 036 | Train Loss: 0.0001126 |Test Loss: 0.08467 | Test Error: 0.0184\n",
      "Epoch: 037 | Train Loss: 0.0001067 |Test Loss: 0.08525 | Test Error: 0.0184\n",
      "Epoch: 038 | Train Loss: 0.0001009 |Test Loss: 0.08582 | Test Error: 0.0185\n",
      "Epoch: 039 | Train Loss: 9.608e-05 |Test Loss: 0.08585 | Test Error: 0.0184\n",
      "Epoch: 040 | Train Loss: 9.124e-05 |Test Loss: 0.08611 | Test Error: 0.0181\n",
      "Epoch: 041 | Train Loss: 8.631e-05 |Test Loss: 0.0866 | Test Error: 0.0181\n",
      "Epoch: 042 | Train Loss: 8.222e-05 |Test Loss: 0.08697 | Test Error: 0.0179\n",
      "Epoch: 043 | Train Loss: 7.905e-05 |Test Loss: 0.08765 | Test Error: 0.0181\n",
      "Epoch: 044 | Train Loss: 7.506e-05 |Test Loss: 0.08781 | Test Error: 0.0183\n",
      "Epoch: 045 | Train Loss: 7.202e-05 |Test Loss: 0.08828 | Test Error: 0.0183\n",
      "Epoch: 046 | Train Loss: 6.785e-05 |Test Loss: 0.08844 | Test Error: 0.0183\n",
      "Epoch: 047 | Train Loss: 6.492e-05 |Test Loss: 0.0886 | Test Error: 0.0185\n",
      "Epoch: 048 | Train Loss: 6.239e-05 |Test Loss: 0.08948 | Test Error: 0.0179\n",
      "Epoch: 049 | Train Loss: 5.996e-05 |Test Loss: 0.08967 | Test Error: 0.0184\n",
      "Epoch: 050 | Train Loss: 5.674e-05 |Test Loss: 0.08956 | Test Error: 0.0183\n",
      "Epoch: 051 | Train Loss: 5.424e-05 |Test Loss: 0.09006 | Test Error: 0.0184\n",
      "Epoch: 052 | Train Loss: 5.207e-05 |Test Loss: 0.09046 | Test Error: 0.0181\n",
      "Epoch: 053 | Train Loss: 4.974e-05 |Test Loss: 0.09096 | Test Error: 0.0181\n",
      "Epoch: 054 | Train Loss: 4.773e-05 |Test Loss: 0.09103 | Test Error: 0.0178\n",
      "Epoch: 055 | Train Loss: 4.576e-05 |Test Loss: 0.09111 | Test Error: 0.0184\n",
      "Epoch: 056 | Train Loss: 4.37e-05 |Test Loss: 0.09175 | Test Error: 0.0183\n",
      "Epoch: 057 | Train Loss: 4.213e-05 |Test Loss: 0.09183 | Test Error: 0.0183\n",
      "Epoch: 058 | Train Loss: 4.038e-05 |Test Loss: 0.09225 | Test Error: 0.0183\n",
      "Epoch: 059 | Train Loss: 3.886e-05 |Test Loss: 0.09275 | Test Error: 0.0179\n",
      "Epoch: 060 | Train Loss: 3.723e-05 |Test Loss: 0.09285 | Test Error: 0.0183\n",
      "Epoch: 061 | Train Loss: 3.562e-05 |Test Loss: 0.09348 | Test Error: 0.0183\n",
      "Epoch: 062 | Train Loss: 3.441e-05 |Test Loss: 0.09372 | Test Error: 0.0181\n",
      "Epoch: 063 | Train Loss: 3.289e-05 |Test Loss: 0.09368 | Test Error: 0.0182\n",
      "Epoch: 064 | Train Loss: 3.147e-05 |Test Loss: 0.09406 | Test Error: 0.0182\n",
      "Epoch: 065 | Train Loss: 3.03e-05 |Test Loss: 0.09425 | Test Error: 0.0185\n",
      "Epoch: 066 | Train Loss: 2.912e-05 |Test Loss: 0.09482 | Test Error: 0.0182\n",
      "Epoch: 067 | Train Loss: 2.801e-05 |Test Loss: 0.09514 | Test Error: 0.0183\n",
      "Epoch: 068 | Train Loss: 2.707e-05 |Test Loss: 0.09502 | Test Error: 0.0182\n",
      "Epoch: 069 | Train Loss: 2.592e-05 |Test Loss: 0.0955 | Test Error: 0.0183\n",
      "Epoch: 070 | Train Loss: 2.495e-05 |Test Loss: 0.09563 | Test Error: 0.0183\n",
      "Epoch: 071 | Train Loss: 2.408e-05 |Test Loss: 0.09644 | Test Error: 0.0183\n",
      "Epoch: 072 | Train Loss: 2.327e-05 |Test Loss: 0.09637 | Test Error: 0.0183\n",
      "Epoch: 073 | Train Loss: 2.237e-05 |Test Loss: 0.09656 | Test Error: 0.0183\n",
      "Epoch: 074 | Train Loss: 2.134e-05 |Test Loss: 0.09704 | Test Error: 0.0182\n",
      "Epoch: 075 | Train Loss: 2.053e-05 |Test Loss: 0.09734 | Test Error: 0.0182\n",
      "Epoch: 076 | Train Loss: 1.997e-05 |Test Loss: 0.09763 | Test Error: 0.0184\n",
      "Epoch: 077 | Train Loss: 1.908e-05 |Test Loss: 0.09794 | Test Error: 0.0184\n",
      "Epoch: 078 | Train Loss: 1.851e-05 |Test Loss: 0.09801 | Test Error: 0.018\n",
      "Epoch: 079 | Train Loss: 1.784e-05 |Test Loss: 0.09846 | Test Error: 0.0182\n",
      "Epoch: 080 | Train Loss: 1.708e-05 |Test Loss: 0.09883 | Test Error: 0.0183\n",
      "Epoch: 081 | Train Loss: 1.654e-05 |Test Loss: 0.09869 | Test Error: 0.0183\n",
      "Epoch: 082 | Train Loss: 1.582e-05 |Test Loss: 0.09895 | Test Error: 0.0182\n",
      "Epoch: 083 | Train Loss: 1.541e-05 |Test Loss: 0.09929 | Test Error: 0.0182\n",
      "Epoch: 084 | Train Loss: 1.481e-05 |Test Loss: 0.0998 | Test Error: 0.0183\n",
      "Epoch: 085 | Train Loss: 1.425e-05 |Test Loss: 0.09993 | Test Error: 0.0183\n",
      "Epoch: 086 | Train Loss: 1.375e-05 |Test Loss: 0.1003 | Test Error: 0.0183\n",
      "Epoch: 087 | Train Loss: 1.329e-05 |Test Loss: 0.1007 | Test Error: 0.0181\n",
      "Epoch: 088 | Train Loss: 1.28e-05 |Test Loss: 0.1006 | Test Error: 0.0182\n",
      "Epoch: 089 | Train Loss: 1.229e-05 |Test Loss: 0.1011 | Test Error: 0.0182\n",
      "Epoch: 090 | Train Loss: 1.19e-05 |Test Loss: 0.1012 | Test Error: 0.0184\n",
      "Epoch: 091 | Train Loss: 1.154e-05 |Test Loss: 0.1015 | Test Error: 0.0183\n",
      "Epoch: 092 | Train Loss: 1.111e-05 |Test Loss: 0.1016 | Test Error: 0.0182\n",
      "Epoch: 093 | Train Loss: 1.07e-05 |Test Loss: 0.102 | Test Error: 0.018\n",
      "Epoch: 094 | Train Loss: 1.036e-05 |Test Loss: 0.1024 | Test Error: 0.0184\n",
      "Epoch: 095 | Train Loss: 9.973e-06 |Test Loss: 0.1028 | Test Error: 0.0183\n",
      "Epoch: 096 | Train Loss: 9.661e-06 |Test Loss: 0.1027 | Test Error: 0.0183\n",
      "Epoch: 097 | Train Loss: 9.278e-06 |Test Loss: 0.103 | Test Error: 0.0183\n",
      "Epoch: 098 | Train Loss: 8.949e-06 |Test Loss: 0.1035 | Test Error: 0.0183\n",
      "Epoch: 099 | Train Loss: 8.712e-06 |Test Loss: 0.1039 | Test Error: 0.0184\n",
      "Epoch: 100 | Train Loss: 8.413e-06 |Test Loss: 0.1039 | Test Error: 0.0182\n"
     ]
    }
   ],
   "source": [
    "# depth = 1 parameters\n",
    "depth = 1\n",
    "# initialize model\n",
    "net1 = Network(dim,nclass,width,depth)\n",
    "#send to GPU\n",
    "net1 = net1.to(device)\n",
    "#train it\n",
    "D1 = train_model(net1,batch_size,lr,num_epochs,train_set_mnist,test_set_mnist)\n",
    "#best = \n"
   ]
  },
  {
   "cell_type": "code",
   "execution_count": 100,
   "metadata": {},
   "outputs": [
    {
     "name": "stdout",
     "output_type": "stream",
     "text": [
      "Best training loss for depth = 1: 0.04166, best test loss for depth = 1: 0.07161\n"
     ]
    }
   ],
   "source": [
    "min = np.argmin(D1[1])\n",
    "print(f\"Best training loss for depth = 1: {D1[0][min]:.04}, best test loss for depth = 1: {D1[1][min]:.04}\")"
   ]
  },
  {
   "cell_type": "code",
   "execution_count": 101,
   "metadata": {},
   "outputs": [
    {
     "data": {
      "text/plain": [
       "[<matplotlib.lines.Line2D at 0x1f37fef5390>]"
      ]
     },
     "execution_count": 101,
     "metadata": {},
     "output_type": "execute_result"
    },
    {
     "data": {
      "image/png": "[encoded data removed]",
      "text/plain": [
       "<Figure size 640x480 with 1 Axes>"
      ]
     },
     "metadata": {},
     "output_type": "display_data"
    },
    {
     "ename": "",
     "evalue": "",
     "output_type": "error",
     "traceback": [
      "\u001b[1;31mThe Kernel crashed while executing code in the current cell or a previous cell. \n",
      "\u001b[1;31mPlease review the code in the cell(s) to identify a possible cause of the failure. \n",
      "\u001b[1;31mClick <a href='https://aka.ms/vscodeJupyterKernelCrash'>here</a> for more info. \n",
      "\u001b[1;31mView Jupyter <a href='command:jupyter.viewOutput'>log</a> for further details."
     ]
    }
   ],
   "source": [
    "plt.figure()\n",
    "plt.plot(D1[0])\n",
    "plt.plot(D1[1])\n",
    "plt.plot(D1[2])"
   ]
  },
  {
   "cell_type": "code",
   "execution_count": 87,
   "metadata": {},
   "outputs": [
    {
     "name": "stdout",
     "output_type": "stream",
     "text": [
      "Epoch: 001 | Train Loss: 0.8105 |Test Loss: 0.2243 | Test Error: 0.063\n",
      "Epoch: 002 | Train Loss: 0.1653 |Test Loss: 0.139 | Test Error: 0.0387\n",
      "Epoch: 003 | Train Loss: 0.1121 |Test Loss: 0.1285 | Test Error: 0.0345\n",
      "Epoch: 004 | Train Loss: 0.08904 |Test Loss: 0.1214 | Test Error: 0.0322\n",
      "Epoch: 005 | Train Loss: 0.07137 |Test Loss: 0.122 | Test Error: 0.0327\n",
      "Epoch: 006 | Train Loss: 0.05949 |Test Loss: 0.1112 | Test Error: 0.0293\n",
      "Epoch: 007 | Train Loss: 0.05729 |Test Loss: 0.119 | Test Error: 0.0304\n",
      "Epoch: 008 | Train Loss: 0.04866 |Test Loss: 0.1189 | Test Error: 0.029\n",
      "Epoch: 009 | Train Loss: 0.04195 |Test Loss: 0.1072 | Test Error: 0.0253\n",
      "Epoch: 010 | Train Loss: 0.04042 |Test Loss: 0.1089 | Test Error: 0.0266\n",
      "Epoch: 011 | Train Loss: 0.03594 |Test Loss: 0.114 | Test Error: 0.0263\n",
      "Epoch: 012 | Train Loss: 0.02984 |Test Loss: 0.1174 | Test Error: 0.023\n",
      "Epoch: 013 | Train Loss: 0.02887 |Test Loss: 0.1376 | Test Error: 0.0271\n",
      "Epoch: 014 | Train Loss: 0.03272 |Test Loss: 0.1169 | Test Error: 0.0262\n",
      "Epoch: 015 | Train Loss: 0.03141 |Test Loss: 0.1265 | Test Error: 0.0252\n",
      "Epoch: 016 | Train Loss: 0.02988 |Test Loss: 0.1331 | Test Error: 0.0249\n",
      "Epoch: 017 | Train Loss: 0.02632 |Test Loss: 0.122 | Test Error: 0.0233\n",
      "Epoch: 018 | Train Loss: 0.02972 |Test Loss: 0.1238 | Test Error: 0.0261\n",
      "Epoch: 019 | Train Loss: 0.02388 |Test Loss: 0.1584 | Test Error: 0.0269\n",
      "Epoch: 020 | Train Loss: 0.02881 |Test Loss: 0.1362 | Test Error: 0.0234\n",
      "Epoch: 021 | Train Loss: 0.02269 |Test Loss: 0.1271 | Test Error: 0.0224\n",
      "Epoch: 022 | Train Loss: 0.03104 |Test Loss: 0.1337 | Test Error: 0.0273\n",
      "Epoch: 023 | Train Loss: 0.02481 |Test Loss: 0.1171 | Test Error: 0.0235\n",
      "Epoch: 024 | Train Loss: 0.01922 |Test Loss: 0.133 | Test Error: 0.0247\n",
      "Epoch: 025 | Train Loss: 0.02091 |Test Loss: 0.1212 | Test Error: 0.0243\n",
      "Epoch: 026 | Train Loss: 0.01881 |Test Loss: 0.1443 | Test Error: 0.0252\n",
      "Epoch: 027 | Train Loss: 0.01756 |Test Loss: 0.162 | Test Error: 0.0243\n",
      "Epoch: 028 | Train Loss: 0.02145 |Test Loss: 0.1399 | Test Error: 0.0244\n",
      "Epoch: 029 | Train Loss: 0.0251 |Test Loss: 0.1506 | Test Error: 0.0229\n",
      "Epoch: 030 | Train Loss: 0.02803 |Test Loss: 0.1549 | Test Error: 0.0226\n",
      "Epoch: 031 | Train Loss: 0.03085 |Test Loss: 0.1677 | Test Error: 0.0247\n",
      "Epoch: 032 | Train Loss: 0.05666 |Test Loss: 0.1686 | Test Error: 0.0302\n",
      "Epoch: 033 | Train Loss: 0.03301 |Test Loss: 0.1524 | Test Error: 0.0238\n",
      "Epoch: 034 | Train Loss: 0.02291 |Test Loss: 0.1649 | Test Error: 0.0235\n",
      "Epoch: 035 | Train Loss: 0.02708 |Test Loss: 0.1589 | Test Error: 0.0244\n",
      "Epoch: 036 | Train Loss: 0.02293 |Test Loss: 0.158 | Test Error: 0.024\n",
      "Epoch: 037 | Train Loss: 0.01685 |Test Loss: 0.1518 | Test Error: 0.0219\n",
      "Epoch: 038 | Train Loss: 0.01182 |Test Loss: 0.1632 | Test Error: 0.0218\n",
      "Epoch: 039 | Train Loss: 0.01809 |Test Loss: 0.1775 | Test Error: 0.0244\n",
      "Epoch: 040 | Train Loss: 0.02442 |Test Loss: 0.1505 | Test Error: 0.0227\n",
      "Epoch: 041 | Train Loss: 0.01754 |Test Loss: 0.1576 | Test Error: 0.0231\n",
      "Epoch: 042 | Train Loss: 0.01342 |Test Loss: 0.2222 | Test Error: 0.0244\n",
      "Epoch: 043 | Train Loss: 0.01574 |Test Loss: 0.1461 | Test Error: 0.0212\n",
      "Epoch: 044 | Train Loss: 0.01791 |Test Loss: 0.1908 | Test Error: 0.0241\n",
      "Epoch: 045 | Train Loss: 0.02095 |Test Loss: 0.1679 | Test Error: 0.0212\n",
      "Epoch: 046 | Train Loss: 0.02347 |Test Loss: 0.1663 | Test Error: 0.0237\n",
      "Epoch: 047 | Train Loss: 0.02134 |Test Loss: 0.1731 | Test Error: 0.0232\n",
      "Epoch: 048 | Train Loss: 0.02337 |Test Loss: 0.2008 | Test Error: 0.0257\n",
      "Epoch: 049 | Train Loss: 0.02953 |Test Loss: 0.183 | Test Error: 0.0249\n",
      "Epoch: 050 | Train Loss: 0.03141 |Test Loss: 0.1796 | Test Error: 0.0239\n",
      "Epoch: 051 | Train Loss: 0.02712 |Test Loss: 0.1762 | Test Error: 0.0256\n",
      "Epoch: 052 | Train Loss: 0.03524 |Test Loss: 0.1736 | Test Error: 0.0237\n",
      "Epoch: 053 | Train Loss: 0.01924 |Test Loss: 0.1939 | Test Error: 0.0228\n",
      "Epoch: 054 | Train Loss: 0.02049 |Test Loss: 0.1922 | Test Error: 0.0241\n",
      "Epoch: 055 | Train Loss: 0.05677 |Test Loss: 0.1754 | Test Error: 0.028\n",
      "Epoch: 056 | Train Loss: 0.03396 |Test Loss: 0.192 | Test Error: 0.0248\n",
      "Epoch: 057 | Train Loss: 0.02734 |Test Loss: 0.1777 | Test Error: 0.0267\n",
      "Epoch: 058 | Train Loss: 0.02928 |Test Loss: 0.1658 | Test Error: 0.0247\n",
      "Epoch: 059 | Train Loss: 0.01557 |Test Loss: 0.1756 | Test Error: 0.0199\n",
      "Epoch: 060 | Train Loss: 0.008555 |Test Loss: 0.1686 | Test Error: 0.0218\n",
      "Epoch: 061 | Train Loss: 0.008804 |Test Loss: 0.1907 | Test Error: 0.0212\n",
      "Epoch: 062 | Train Loss: 0.008258 |Test Loss: 0.2033 | Test Error: 0.0214\n",
      "Epoch: 063 | Train Loss: 0.005655 |Test Loss: 0.2161 | Test Error: 0.0228\n",
      "Epoch: 064 | Train Loss: 0.01068 |Test Loss: 0.1836 | Test Error: 0.0212\n",
      "Epoch: 065 | Train Loss: 0.0183 |Test Loss: 0.1755 | Test Error: 0.0225\n",
      "Epoch: 066 | Train Loss: 0.01572 |Test Loss: 0.1596 | Test Error: 0.0208\n",
      "Epoch: 067 | Train Loss: 0.02312 |Test Loss: 0.1646 | Test Error: 0.0237\n",
      "Epoch: 068 | Train Loss: 0.0154 |Test Loss: 0.1597 | Test Error: 0.0206\n",
      "Epoch: 069 | Train Loss: 0.00889 |Test Loss: 0.1765 | Test Error: 0.022\n",
      "Epoch: 070 | Train Loss: 0.0127 |Test Loss: 0.2548 | Test Error: 0.023\n",
      "Epoch: 071 | Train Loss: 0.01876 |Test Loss: 0.1769 | Test Error: 0.0206\n",
      "Epoch: 072 | Train Loss: 0.01609 |Test Loss: 0.2395 | Test Error: 0.0223\n",
      "Epoch: 073 | Train Loss: 0.01927 |Test Loss: 0.2023 | Test Error: 0.0219\n",
      "Epoch: 074 | Train Loss: 0.01485 |Test Loss: 0.2298 | Test Error: 0.0216\n",
      "Epoch: 075 | Train Loss: 0.01008 |Test Loss: 0.1879 | Test Error: 0.0202\n",
      "Epoch: 076 | Train Loss: 0.01506 |Test Loss: 0.1892 | Test Error: 0.0221\n",
      "Epoch: 077 | Train Loss: 0.01026 |Test Loss: 0.2303 | Test Error: 0.0194\n",
      "Epoch: 078 | Train Loss: 0.01864 |Test Loss: 0.2103 | Test Error: 0.0244\n",
      "Epoch: 079 | Train Loss: 0.0257 |Test Loss: 0.2096 | Test Error: 0.0214\n",
      "Epoch: 080 | Train Loss: 0.03092 |Test Loss: 0.158 | Test Error: 0.0206\n",
      "Epoch: 081 | Train Loss: 0.02219 |Test Loss: 0.156 | Test Error: 0.019\n",
      "Epoch: 082 | Train Loss: 0.0117 |Test Loss: 0.1936 | Test Error: 0.021\n",
      "Epoch: 083 | Train Loss: 0.0116 |Test Loss: 0.21 | Test Error: 0.023\n",
      "Epoch: 084 | Train Loss: 0.01796 |Test Loss: 0.1607 | Test Error: 0.0219\n",
      "Epoch: 085 | Train Loss: 0.01348 |Test Loss: 0.1619 | Test Error: 0.0236\n",
      "Epoch: 086 | Train Loss: 0.007947 |Test Loss: 0.1893 | Test Error: 0.0198\n",
      "Epoch: 087 | Train Loss: 0.02746 |Test Loss: 0.1902 | Test Error: 0.0216\n",
      "Epoch: 088 | Train Loss: 0.02009 |Test Loss: 0.21 | Test Error: 0.0235\n",
      "Epoch: 089 | Train Loss: 0.01366 |Test Loss: 0.191 | Test Error: 0.0227\n",
      "Epoch: 090 | Train Loss: 0.0144 |Test Loss: 0.1782 | Test Error: 0.0198\n",
      "Epoch: 091 | Train Loss: 0.02183 |Test Loss: 0.2523 | Test Error: 0.0259\n",
      "Epoch: 092 | Train Loss: 0.0495 |Test Loss: 0.23 | Test Error: 0.0266\n",
      "Epoch: 093 | Train Loss: 0.03318 |Test Loss: 0.1963 | Test Error: 0.0213\n",
      "Epoch: 094 | Train Loss: 0.01813 |Test Loss: 0.1609 | Test Error: 0.0215\n",
      "Epoch: 095 | Train Loss: 0.01088 |Test Loss: 0.2167 | Test Error: 0.0215\n",
      "Epoch: 096 | Train Loss: 0.01237 |Test Loss: 0.1996 | Test Error: 0.0229\n",
      "Epoch: 097 | Train Loss: 0.01214 |Test Loss: 0.2546 | Test Error: 0.0234\n",
      "Epoch: 098 | Train Loss: 0.008983 |Test Loss: 0.2331 | Test Error: 0.0243\n",
      "Epoch: 099 | Train Loss: 0.01128 |Test Loss: 0.2108 | Test Error: 0.0214\n",
      "Epoch: 100 | Train Loss: 0.009917 |Test Loss: 0.214 | Test Error: 0.0212\n"
     ]
    }
   ],
   "source": [
    "# depth = 5 parameters\n",
    "depth = 5\n",
    "lr = 0.01\n",
    "# initialize model\n",
    "net5 = Network(dim,nclass,width,depth)\n",
    "#send to GPU\n",
    "net5 = net5.to(device)\n",
    "#train it\n",
    "D5 = train_model(net5,batch_size,lr,num_epochs,train_set_mnist,test_set_mnist)\n",
    "#print(f\"Final training loss for depth = 5: {D5[0]:.04}, final test loss for depth = 5: {D5[1]:.04}\")"
   ]
  },
  {
   "cell_type": "code",
   "execution_count": 88,
   "metadata": {},
   "outputs": [
    {
     "name": "stdout",
     "output_type": "stream",
     "text": [
      "Best training loss for depth = 1: 0.04195, best test loss for depth = 1: 0.1072\n"
     ]
    }
   ],
   "source": [
    "min = np.argmin(D5[1])\n",
    "print(f\"Best training loss for depth = 1: {D5[0][min]:.04}, best test loss for depth = 1: {D5[1][min]:.04}\")"
   ]
  },
  {
   "cell_type": "code",
   "execution_count": 89,
   "metadata": {},
   "outputs": [
    {
     "data": {
      "text/plain": [
       "[<matplotlib.lines.Line2D at 0x1f37d392b90>]"
      ]
     },
     "execution_count": 89,
     "metadata": {},
     "output_type": "execute_result"
    },
    {
     "data": {
      "image/png": "[encoded data removed]",
      "text/plain": [
       "<Figure size 640x480 with 1 Axes>"
      ]
     },
     "metadata": {},
     "output_type": "display_data"
    }
   ],
   "source": [
    "plt.figure()\n",
    "plt.plot(D5[0])\n",
    "plt.plot(D5[1])\n",
    "plt.plot(D5[2])"
   ]
  },
  {
   "cell_type": "code",
   "execution_count": 94,
   "metadata": {},
   "outputs": [
    {
     "name": "stdout",
     "output_type": "stream",
     "text": [
      "Epoch: 001 | Train Loss: 1.748 |Test Loss: 1.079 | Test Error: 0.4302\n",
      "Epoch: 002 | Train Loss: 0.602 |Test Loss: 0.3087 | Test Error: 0.0928\n",
      "Epoch: 003 | Train Loss: 0.2589 |Test Loss: 0.2204 | Test Error: 0.0593\n",
      "Epoch: 004 | Train Loss: 0.1849 |Test Loss: 0.2019 | Test Error: 0.0582\n",
      "Epoch: 005 | Train Loss: 0.1436 |Test Loss: 0.1919 | Test Error: 0.0523\n",
      "Epoch: 006 | Train Loss: 0.1108 |Test Loss: 0.141 | Test Error: 0.04\n",
      "Epoch: 007 | Train Loss: 0.09334 |Test Loss: 0.1307 | Test Error: 0.0357\n",
      "Epoch: 008 | Train Loss: 0.07253 |Test Loss: 0.1364 | Test Error: 0.036\n",
      "Epoch: 009 | Train Loss: 0.06176 |Test Loss: 0.1165 | Test Error: 0.0298\n",
      "Epoch: 010 | Train Loss: 0.0561 |Test Loss: 0.132 | Test Error: 0.0335\n",
      "Epoch: 011 | Train Loss: 0.04334 |Test Loss: 0.1237 | Test Error: 0.0304\n",
      "Epoch: 012 | Train Loss: 0.03931 |Test Loss: 0.1388 | Test Error: 0.0335\n",
      "Epoch: 013 | Train Loss: 0.04218 |Test Loss: 0.1237 | Test Error: 0.0288\n",
      "Epoch: 014 | Train Loss: 0.03442 |Test Loss: 0.1325 | Test Error: 0.0292\n",
      "Epoch: 015 | Train Loss: 0.02827 |Test Loss: 0.1253 | Test Error: 0.0261\n",
      "Epoch: 016 | Train Loss: 0.02304 |Test Loss: 0.1288 | Test Error: 0.0263\n",
      "Epoch: 017 | Train Loss: 0.0276 |Test Loss: 0.1339 | Test Error: 0.0287\n",
      "Epoch: 018 | Train Loss: 0.02344 |Test Loss: 0.1373 | Test Error: 0.0279\n",
      "Epoch: 019 | Train Loss: 0.02437 |Test Loss: 0.1396 | Test Error: 0.0293\n",
      "Epoch: 020 | Train Loss: 0.01964 |Test Loss: 0.131 | Test Error: 0.0277\n",
      "Epoch: 021 | Train Loss: 0.01723 |Test Loss: 0.1335 | Test Error: 0.0263\n",
      "Epoch: 022 | Train Loss: 0.01857 |Test Loss: 0.1398 | Test Error: 0.0277\n",
      "Epoch: 023 | Train Loss: 0.01911 |Test Loss: 0.131 | Test Error: 0.0262\n",
      "Epoch: 024 | Train Loss: 0.0173 |Test Loss: 0.1418 | Test Error: 0.0253\n",
      "Epoch: 025 | Train Loss: 0.01587 |Test Loss: 0.1335 | Test Error: 0.0252\n",
      "Epoch: 026 | Train Loss: 0.01553 |Test Loss: 0.1295 | Test Error: 0.0255\n",
      "Epoch: 027 | Train Loss: 0.01511 |Test Loss: 0.1212 | Test Error: 0.0242\n",
      "Epoch: 028 | Train Loss: 0.01351 |Test Loss: 0.1354 | Test Error: 0.0281\n",
      "Epoch: 029 | Train Loss: 0.008829 |Test Loss: 0.1361 | Test Error: 0.0256\n",
      "Epoch: 030 | Train Loss: 0.01157 |Test Loss: 0.1268 | Test Error: 0.0225\n",
      "Epoch: 031 | Train Loss: 0.01256 |Test Loss: 0.1366 | Test Error: 0.0264\n",
      "Epoch: 032 | Train Loss: 0.007689 |Test Loss: 0.1375 | Test Error: 0.0249\n",
      "Epoch: 033 | Train Loss: 0.009651 |Test Loss: 0.1344 | Test Error: 0.025\n",
      "Epoch: 034 | Train Loss: 0.01111 |Test Loss: 0.1451 | Test Error: 0.0251\n",
      "Epoch: 035 | Train Loss: 0.008384 |Test Loss: 0.1356 | Test Error: 0.0234\n",
      "Epoch: 036 | Train Loss: 0.009905 |Test Loss: 0.1351 | Test Error: 0.0244\n",
      "Epoch: 037 | Train Loss: 0.0111 |Test Loss: 0.1538 | Test Error: 0.0253\n",
      "Epoch: 038 | Train Loss: 0.01118 |Test Loss: 0.1318 | Test Error: 0.0211\n",
      "Epoch: 039 | Train Loss: 0.008304 |Test Loss: 0.1347 | Test Error: 0.0221\n",
      "Epoch: 040 | Train Loss: 0.008469 |Test Loss: 0.1413 | Test Error: 0.0247\n",
      "Epoch: 041 | Train Loss: 0.008544 |Test Loss: 0.1311 | Test Error: 0.0238\n",
      "Epoch: 042 | Train Loss: 0.005754 |Test Loss: 0.1364 | Test Error: 0.0221\n",
      "Epoch: 043 | Train Loss: 0.003905 |Test Loss: 0.1632 | Test Error: 0.0244\n",
      "Epoch: 044 | Train Loss: 0.0094 |Test Loss: 0.1361 | Test Error: 0.0233\n",
      "Epoch: 045 | Train Loss: 0.007828 |Test Loss: 0.1416 | Test Error: 0.0232\n",
      "Epoch: 046 | Train Loss: 0.007417 |Test Loss: 0.1409 | Test Error: 0.0231\n",
      "Epoch: 047 | Train Loss: 0.006771 |Test Loss: 0.1632 | Test Error: 0.0263\n",
      "Epoch: 048 | Train Loss: 0.01016 |Test Loss: 0.1442 | Test Error: 0.0234\n",
      "Epoch: 049 | Train Loss: 0.009746 |Test Loss: 0.1472 | Test Error: 0.0248\n",
      "Epoch: 050 | Train Loss: 0.004801 |Test Loss: 0.1555 | Test Error: 0.0238\n",
      "Epoch: 051 | Train Loss: 0.007853 |Test Loss: 0.1407 | Test Error: 0.0206\n",
      "Epoch: 052 | Train Loss: 0.005533 |Test Loss: 0.1267 | Test Error: 0.0206\n",
      "Epoch: 053 | Train Loss: 0.007335 |Test Loss: 0.1401 | Test Error: 0.0226\n",
      "Epoch: 054 | Train Loss: 0.01007 |Test Loss: 0.1394 | Test Error: 0.0255\n",
      "Epoch: 055 | Train Loss: 0.006441 |Test Loss: 0.1331 | Test Error: 0.0219\n",
      "Epoch: 056 | Train Loss: 0.004372 |Test Loss: 0.156 | Test Error: 0.0237\n",
      "Epoch: 057 | Train Loss: 0.007494 |Test Loss: 0.137 | Test Error: 0.0221\n",
      "Epoch: 058 | Train Loss: 0.007179 |Test Loss: 0.1163 | Test Error: 0.0212\n",
      "Epoch: 059 | Train Loss: 0.006967 |Test Loss: 0.1319 | Test Error: 0.021\n",
      "Epoch: 060 | Train Loss: 0.004797 |Test Loss: 0.1403 | Test Error: 0.0198\n",
      "Epoch: 061 | Train Loss: 0.00612 |Test Loss: 0.1364 | Test Error: 0.0202\n",
      "Epoch: 062 | Train Loss: 0.009544 |Test Loss: 0.145 | Test Error: 0.0227\n",
      "Epoch: 063 | Train Loss: 0.007271 |Test Loss: 0.1406 | Test Error: 0.0232\n",
      "Epoch: 064 | Train Loss: 0.01031 |Test Loss: 0.1414 | Test Error: 0.0193\n",
      "Epoch: 065 | Train Loss: 0.008647 |Test Loss: 0.1311 | Test Error: 0.0215\n",
      "Epoch: 066 | Train Loss: 0.005416 |Test Loss: 0.1236 | Test Error: 0.0183\n",
      "Epoch: 067 | Train Loss: 0.005084 |Test Loss: 0.1517 | Test Error: 0.0239\n",
      "Epoch: 068 | Train Loss: 0.006325 |Test Loss: 0.1306 | Test Error: 0.0205\n",
      "Epoch: 069 | Train Loss: 0.006266 |Test Loss: 0.1352 | Test Error: 0.0203\n",
      "Epoch: 070 | Train Loss: 0.002863 |Test Loss: 0.1611 | Test Error: 0.0213\n",
      "Epoch: 071 | Train Loss: 0.00384 |Test Loss: 0.1411 | Test Error: 0.0195\n",
      "Epoch: 072 | Train Loss: 0.004614 |Test Loss: 0.1437 | Test Error: 0.0207\n",
      "Epoch: 073 | Train Loss: 0.007604 |Test Loss: 0.1326 | Test Error: 0.0215\n",
      "Epoch: 074 | Train Loss: 0.006946 |Test Loss: 0.1286 | Test Error: 0.021\n",
      "Epoch: 075 | Train Loss: 0.004473 |Test Loss: 0.136 | Test Error: 0.0201\n",
      "Epoch: 076 | Train Loss: 0.005148 |Test Loss: 0.1404 | Test Error: 0.0211\n",
      "Epoch: 077 | Train Loss: 0.004408 |Test Loss: 0.1409 | Test Error: 0.0205\n",
      "Epoch: 078 | Train Loss: 0.006248 |Test Loss: 0.1427 | Test Error: 0.0223\n",
      "Epoch: 079 | Train Loss: 0.004374 |Test Loss: 0.1551 | Test Error: 0.0221\n",
      "Epoch: 080 | Train Loss: 0.005171 |Test Loss: 0.1507 | Test Error: 0.0223\n",
      "Epoch: 081 | Train Loss: 0.003786 |Test Loss: 0.1425 | Test Error: 0.0213\n",
      "Epoch: 082 | Train Loss: 0.00316 |Test Loss: 0.1566 | Test Error: 0.0203\n",
      "Epoch: 083 | Train Loss: 0.005443 |Test Loss: 0.1486 | Test Error: 0.0229\n",
      "Epoch: 084 | Train Loss: 0.004881 |Test Loss: 0.1307 | Test Error: 0.0205\n",
      "Epoch: 085 | Train Loss: 0.003382 |Test Loss: 0.1747 | Test Error: 0.0221\n",
      "Epoch: 086 | Train Loss: 0.006905 |Test Loss: 0.1378 | Test Error: 0.0194\n",
      "Epoch: 087 | Train Loss: 0.005373 |Test Loss: 0.149 | Test Error: 0.0218\n",
      "Epoch: 088 | Train Loss: 0.002718 |Test Loss: 0.1765 | Test Error: 0.0202\n",
      "Epoch: 089 | Train Loss: 0.00206 |Test Loss: 0.162 | Test Error: 0.0208\n",
      "Epoch: 090 | Train Loss: 0.006818 |Test Loss: 0.1563 | Test Error: 0.021\n",
      "Epoch: 091 | Train Loss: 0.006033 |Test Loss: 0.1838 | Test Error: 0.0228\n",
      "Epoch: 092 | Train Loss: 0.008721 |Test Loss: 0.1512 | Test Error: 0.0211\n",
      "Epoch: 093 | Train Loss: 0.007555 |Test Loss: 0.1259 | Test Error: 0.0206\n",
      "Epoch: 094 | Train Loss: 0.006761 |Test Loss: 0.154 | Test Error: 0.0199\n",
      "Epoch: 095 | Train Loss: 0.007125 |Test Loss: 0.1251 | Test Error: 0.0214\n",
      "Epoch: 096 | Train Loss: 0.006181 |Test Loss: 0.131 | Test Error: 0.0191\n",
      "Epoch: 097 | Train Loss: 0.007032 |Test Loss: 0.1348 | Test Error: 0.0207\n",
      "Epoch: 098 | Train Loss: 0.005268 |Test Loss: 0.1373 | Test Error: 0.0201\n",
      "Epoch: 099 | Train Loss: 0.00446 |Test Loss: 0.1369 | Test Error: 0.019\n",
      "Epoch: 100 | Train Loss: 0.005467 |Test Loss: 0.1153 | Test Error: 0.0179\n"
     ]
    }
   ],
   "source": [
    "# depth = 10 parameters\n",
    "depth = 10\n",
    "lr = 0.001\n",
    "\n",
    "# initialize model\n",
    "net = Network(dim,nclass,width,depth)\n",
    "#send to GPU\n",
    "net = net.to(device)\n",
    "#train it\n",
    "D10 = train_model(net,batch_size,lr,num_epochs,train_set_mnist,test_set_mnist)\n"
   ]
  },
  {
   "cell_type": "code",
   "execution_count": 97,
   "metadata": {},
   "outputs": [
    {
     "name": "stdout",
     "output_type": "stream",
     "text": [
      "Best training loss for depth = 1: 0.005467, best test loss for depth = 1: 0.1153\n"
     ]
    }
   ],
   "source": [
    "min = np.argmin(D10[1])\n",
    "print(f\"Best training loss for depth = 1: {D10[0][min]:.04}, best test loss for depth = 1: {D10[1][min]:.04}\")"
   ]
  },
  {
   "cell_type": "code",
   "execution_count": 96,
   "metadata": {},
   "outputs": [
    {
     "data": {
      "text/plain": [
       "[<matplotlib.lines.Line2D at 0x1f371bd2d50>]"
      ]
     },
     "execution_count": 96,
     "metadata": {},
     "output_type": "execute_result"
    },
    {
     "data": {
      "image/png": "[encoded data removed]",
      "text/plain": [
       "<Figure size 640x480 with 1 Axes>"
      ]
     },
     "metadata": {},
     "output_type": "display_data"
    }
   ],
   "source": [
    "plt.figure()\n",
    "plt.plot(D10[0])\n",
    "plt.plot(D10[1])\n",
    "plt.plot(D10[2])"
   ]
  },
  {
   "cell_type": "markdown",
   "metadata": {},
   "source": [
    "These results are summarized in the table below:\n",
    "\n",
    "<table>\n",
    "    <tr>\n",
    "        <td> Depth </td>\n",
    "        <td> Train Loss </td>\n",
    "        <td> Test Loss </td>\n",
    "    </tr>\n",
    "    <tr>\n",
    "        <td> 1</td>\n",
    "        <td>- </td>\n",
    "        <td> - </td>\n",
    "    </tr>\n",
    "    <tr>\n",
    "        <td>5</td>\n",
    "        <td>- </td>\n",
    "        <td> - </td>\n",
    "    </tr>\n",
    "    <tr>\n",
    "        <td>10</td>\n",
    "        <td>- </td>\n",
    "        <td> - </td>\n",
    "    </tr>\n",
    "\n",
    "    \n",
    "</table>"
   ]
  },
  {
   "cell_type": "code",
   "execution_count": 36,
   "metadata": {},
   "outputs": [
    {
     "name": "stdout",
     "output_type": "stream",
     "text": [
      "[3]\n"
     ]
    }
   ],
   "source": [
    "a = []\n",
    "a.append(3)\n",
    "print(a)"
   ]
  },
  {
   "cell_type": "markdown",
   "metadata": {},
   "source": [
    "***\n",
    "***\n",
    "\n",
    "## Part 4: The link between Neural Networks and Gaussian Processes [8 points]"
   ]
  },
  {
   "cell_type": "markdown",
   "metadata": {},
   "source": [
    "### Part 4.1: Proving the relationship between a Gaussian process and a neural network [4 points]"
   ]
  },
  {
   "cell_type": "markdown",
   "metadata": {},
   "source": [
    "### Task 1: Proper weight scaling"
   ]
  },
  {
   "cell_type": "markdown",
   "metadata": {},
   "source": [
    "The variances are chosen in this way to ensure the stability of the variance of the activations for each layer. This is because, when finding the distribution for each activation in layer l, when the CLT is applied, it leads to a multiplicative factor $N_{l-1}, which would lead to variances that grow with each layer. Hence, in order to stabilise this, the variances of the weight are given this form."
   ]
  },
  {
   "cell_type": "markdown",
   "metadata": {},
   "source": [
    "### Task 2: Derive the GP relation for a single hidden layer"
   ]
  },
  {
   "cell_type": "markdown",
   "metadata": {},
   "source": [
    "We have the output layer $f_i^{(2)}(x) = \\sum_{j=1}^{N_1}w_{ij}^{(2)}g_{j}^{(1)}(x)+b_i^{(2)}$, $i = 1,...,N_2$.\n",
    "\n",
    "Here, the post activations $g_j^{(2)}$ are independent, due to the iid weight and bias parameters.\n",
    "\n",
    "\n",
    "First, we consider each hidden unit in the sum:\n",
    "\n",
    "$\\mathbb{E}[w_{ij}^{(2)}g_{j}^{(1)}(x)] =\\mathbb{E}[w_{ij}^{(2)}]\\mathbb{E}[g_{j}^{(1)}(x)] = 0$, because the weights in this layer are independent from the weights and bias in the previous layer (which determine g), and since $\\mathbb{E}[w_{ij}^{(2)}] = 0$\n",
    "\n",
    "$\\text{Var}(w_{ij}^{(2)}g_{j}^{(1)}(x)) = \\mathbb{E}[(w_{ij}^{(2)}g_{j}^{(1)}(x))^2] = \\mathbb{E}[w_{ij}^{(2)2}]\\mathbb{E}[g_{j}^{(1)}(x)^2] = \\frac{\\sigma_w^{(2)2}}{N_1}\\mathbb{E}[g_{j}^{(1)}(x)^2] $.\n",
    "\n",
    "Then by the CLT, $\\sum_{j=1}^{N_1}w_{ij}^{(2)}g_{j}^{(1)}(x)$ is a sum of iid variables with finite variance hence is gaussian with mean 0 and variance $\\sigma_w^{(2)2}\\mathbb{E}[g_{j}^{(1)}(x)^2]$.\n",
    "\n",
    "This means, since $b_i^{(2)}$ is also Gaussian, independent from the sum, that $f_i^{(2)}(x)$ is Gaussian with mean 0 and variance $\\sigma_b^{(2)2} + \\sigma_w^{(2)2}\\mathbb{E}[g^{(1)}(x)^2]$, where we drop the subscript on the expectation since it is the same for all $j$.\n",
    "\n",
    "Now, we generalize to any collection of inputs and outputs eg $f_i^{(2)}(x), f_k^{(2)}(x'),...$.\n",
    "\n",
    "\n",
    "\n",
    "First, by the above, if this collection is stacked into a vector, then this vector will have mean 0 by the above argument.\n",
    "\n",
    "Next, we consider the covariance matrix for this vector:\n",
    "\n",
    "$\\text{Cov}(w_{ij}^{(2)}g_{j}^{(1)}(x),w_{kj}^{(2)}g_{j}^{(1)}(x')) = \\mathbb{E}[w_{ij}^{(2)}g_{j}^{(1)}(x)w_{kj}^{(2)}g_{j}^{(1)}(x')] =  \\mathbb{E}[w_{ij}^{(2)}w_{kj}^{(2)}] \\mathbb{E}[g_{j}^{(1)}(x)g_{j}^{(1)}(x')]$ due to the independence of the weights from the weights and bias in the previous layer as above. Clearly this is 0 unless $i = k$, in which case:\n",
    "\n",
    "$\\text{Cov}(w_{ij}^{(2)}g_{j}^{(1)}(x),w_{ij}^{(2)}g_{j}^{(1)}(x')) = \\frac{\\sigma_w^{(2)2}}{N_1}\\mathbb{E}[g_{j}^{(1)}(x)g_{j}^{(1)}(x')]$.\n",
    "\n",
    "Hence, using the multivariate CLT, $(\\sum_{j=1}^{N_1}w_{ij}^{(2)}g_{j}^{(1)}(x),\\sum_{j=1}^{N_1}w_{ij}^{(2)}g_{j}^{(1)}(x'),...)$ is Gaussian with mean 0 and covariance matrix defined by\n",
    "\n",
    "$\\text{Cov}(\\sum_{j=1}^{N_1}w_{ij}^{(2)}g_{j}^{(1)}(x),\\sum_{j=1}^{N_1}w_{ij}^{(2)}g_{j}^{(1)}(x')) = \\sigma_w^{(2)2}\\mathbb{E}[g^{(1)}(x)g^{(1)}(x')]$\n",
    "\n",
    "\n",
    "Finally, we consider the bias term, which is added to the vector of sums, which we construct to be the vector containing the bias $b_i^{(2)}$ where $i$ corresponds to the output in question. This vector is Gaussian with mean 0 and covariance matrix given by $\\sigma_b^{(2)2}$ for all entries with the same $i$.\n",
    "\n",
    "Thus, $(f_i^{(2)}(x), f_i^{(2)}(x'),...)$ is multivariate Gaussian with mean 0 and covariance $ \\sigma_b^{(2)2} +\\sigma_w^{(2)2}\\mathbb{E}[g^{(1)}(x)g^{(1)}(x')]$. Again, any outputs with non-matching index, regardless of the input, have a covariance of 0.\n",
    "\n",
    "Since this was for any collection, meaning any collection is jointly mulitvariate Gaussian, we conclude that $f_{i}^{(2)}(x)$ follow a Gaussian proess, with mean $\\mu^{1} = 0$, and covariance matrix $K^1$  st $k^1 (x,x')=  \\sigma_b^{(2)2} +\\sigma_w^{(2)2}\\mathbb{E}[g^{(1)}(x)g^{(1)}(x')]$, in the limit that $N_1 \\to \\infty$.\n",
    "\n",
    "Note that in this question, the expectations were taken over the unknown parameters in the previous layer and this layer.\n"
   ]
  },
  {
   "cell_type": "markdown",
   "metadata": {},
   "source": [
    "### Task 3: Why in succession"
   ]
  },
  {
   "cell_type": "markdown",
   "metadata": {},
   "source": [
    "We apply the limits in succession since, in order to apply the logic iteratively, we require that the previous layer has post activations that are distributed as GPs. In order for this to happen, we require that the previous layer's width has already increased to infinity."
   ]
  },
  {
   "cell_type": "markdown",
   "metadata": {},
   "source": [
    "### Task 4: Derive the GP relation for multiple hidden layers"
   ]
  },
  {
   "cell_type": "markdown",
   "metadata": {},
   "source": [
    "The output for the $l$ th layer is $f_i^{(l)}(x) = \\sum_{j=1}^{N_{l-1}}w_{ik}^{(l)}g_j^{(l-1)}(x) + b_i^{(l)}$, where $g_j^{(l-1)}(x) = \\phi(f_j^{(l-1)}(x))$.\n",
    "\n",
    "Taking a very similar approach to before, if we consider each term in the summation $w_{ij}^{(l)}g_j^{(l-1)}$, we see that $\\mathbb{E}[w_{ij}^{(l)}g_j^{(l-1)}] = \\mathbb{E}[w_{ij}^{(l)}]\\mathbb{E}[g_j^{(l-1)}] = 0$ since the expectation of the weight is 0 and the two are independent.\n",
    "\n",
    "Also, \n",
    "\n",
    "$\\text{Cov}(w_{ij}^{(l)}g_{j}^{(l-1)}(x),w_{ij}^{(l)}g_{j}^{(l-1)}(x')) = \\mathbb{E}[w_{ij}^{(l)}g_{j}^{(l-1)}(x)w_{ij}^{(2l)}g_{j}^{(1)}(x')] =  \\mathbb{E}[w_{ij}^{(l)}w_{ij}^{(l)}] \\mathbb{E}[g_{j}^{(l-1)}(x)g_{j}^{(l-1)}(x')] = \\frac{\\sigma_w^{(l)2}}{N_{l-1}}\\mathbb{E}[g_{j}^{(l-1)}(x)g_{j}^{(l-1)}(x')]$ due to the independence of the weights from the weights and bias in the previous layer as above. \n",
    "\n",
    "Since $f_j^{(l-1)}(x)$ is a GP over the inputs, this means that $g_j^{(l-1)}(x)$ are iid given the input. Hence, $w_{ij}^{(l)}g_{j}^{(l-1)}(x)$ are also iid, since $w_{ij}^{(l)} $ are iid, independent from the gs. Thus, when we are considering collections of outputs from a layer, the vectors $(w_{ij}^{(l)}g_{j}^{(l-1)}(x), w_{ij}^{(l)}g_{j}^{(l-1)}(x'),...)^T$ are iid as we vary $j$.\n",
    "\n",
    "Hence we can apply the multivariate CLT, since the covariance matrix is finite, that is, the sum $\\sum_{j=1}^{N_{l-1}}(w_{ij}^{(l)}g_{j}^{(l-1)}(x), w_{ij}^{(l)}g_{j}^{(l-1)}(x'),...)^T$ is Gaussian with mean 0, and covariance matrix defined by $\\sigma_w^{(l)2}\\mathbb{E}[g_{j}^{(l-1)}(x)g_{j}^{(l-1)}(x')]$ (between two of the entries).\n",
    "\n",
    "Finally, as before, we add the bias term vector, where each component is $b_i^{(l)}$, which is Gaussian with mean 0 and covariance matrix given by a matrix of the same dimension as the covariance matrix for the sum, but filled with $\\sigma_b^{(l)2}$.\n",
    "\n",
    "Hence, since this was for any length collection, the collection $f_i^{(l)}(x)$ is a Gaussian process with mean $\\mu_{l-1} = 0$, and covariance matrix $K^{(l-1)}$, which is the matrix of covariances from $k^{(l-1)}(x,x') = \\sigma_b^{(l)2}+\\sigma_w^{(l)2}\\mathbb{E}[g^{(l-1)}(x)g^{(l-1)}(x')]$, where again we drop the subscript since the expectation product is the same for every $j$."
   ]
  },
  {
   "cell_type": "markdown",
   "metadata": {},
   "source": [
    "***\n",
    "\n",
    "### Part 4.2: Analysing the performance of the Gaussian process and a neural network [4 points]"
   ]
  },
  {
   "cell_type": "markdown",
   "metadata": {},
   "source": [
    "We shall choose the two labels \"dog\" and \"cat\" for this analysis. These correspond to labels 3 and 5. "
   ]
  },
  {
   "cell_type": "code",
   "execution_count": 6,
   "metadata": {},
   "outputs": [
    {
     "name": "stdout",
     "output_type": "stream",
     "text": [
      "(10000,)\n"
     ]
    }
   ],
   "source": [
    "torch.set_default_dtype(torch.float64)\n",
    "\n",
    "# sort out the data\n",
    "train_data = train_set_cifar.data\n",
    "train_labels = np.array(train_set_cifar.targets)\n",
    "#pick 2 classes\n",
    "idx = np.where((train_labels==3) | (train_labels==5) )\n",
    "train_data = train_data[idx]\n",
    "train_labels = train_labels[idx]\n",
    "print(train_labels.shape)\n",
    "\n",
    "#this means we have 10000 data points, so we randomly sample:\n",
    "sample = np.random.randint(0,train_labels.shape[0],size = 1000)\n",
    "train_data = train_data[sample]\n",
    "train_labels = train_labels[sample]\n",
    "\n",
    "#normalize\n",
    "train_data = train_data / 255\n",
    "\n",
    "#put in tensors\n",
    "train_data = torch.tensor(train_data,dtype = torch.float64)\n",
    "train_labels = torch.tensor(train_labels,dtype = torch.float64)\n",
    "\n",
    "#flatten\n",
    "train_data = torch.flatten(train_data,1,3)\n",
    "\n",
    "### Test data ###\n",
    "\n",
    "#test data\n",
    "test_data = test_set_cifar.data\n",
    "test_labels = np.array(test_set_cifar.targets)\n",
    "#pick two classes\n",
    "idx = np.where((test_labels==3) | (test_labels==5) )\n",
    "test_data = test_data[idx]\n",
    "test_labels = test_labels[idx]\n",
    "\n",
    "#normalize\n",
    "test_data = test_data/255\n",
    "\n",
    "#put in tensors\n",
    "test_data = torch.tensor(test_data,dtype = torch.float64)\n",
    "test_labels = torch.tensor(test_labels,dtype = torch.float64)\n",
    "\n",
    "#flatten\n",
    "test_data = torch.flatten(test_data,1,3)\n",
    "\n"
   ]
  },
  {
   "cell_type": "code",
   "execution_count": 7,
   "metadata": {},
   "outputs": [],
   "source": [
    "### TASK 0 ###\n",
    "\n",
    "#change the class labels to -0.5 for cat and 0.5 for dog:\n",
    "train_labels[train_labels==3] = -0.5\n",
    "train_labels[train_labels==5] = 0.5\n"
   ]
  },
  {
   "cell_type": "code",
   "execution_count": 8,
   "metadata": {},
   "outputs": [
    {
     "name": "stdout",
     "output_type": "stream",
     "text": [
      "torch.Size([1000, 3072])\n",
      "torch.Size([1000])\n",
      "torch.Size([2000, 3072])\n",
      "torch.Size([2000])\n"
     ]
    }
   ],
   "source": [
    "print(train_data.shape)\n",
    "print(train_labels.shape)\n",
    "print(test_data.shape)\n",
    "print(test_labels.shape)\n",
    "\n"
   ]
  },
  {
   "cell_type": "markdown",
   "metadata": {},
   "source": [
    "We shall change the output to be -0.5 for cat and 0.5 for dog, before proceeding with the analysis. Then, since we are going to be taking a regression output, whenever the model returns an output less than 0, we classify as cat, and anything greater than 0 as dog."
   ]
  },
  {
   "cell_type": "markdown",
   "metadata": {},
   "source": []
  },
  {
   "cell_type": "code",
   "execution_count": 9,
   "metadata": {},
   "outputs": [],
   "source": [
    "### Task 2 ###\n",
    "\n",
    "\n",
    "\n",
    "def kernel(L,sigma_w,sigma_b,X1,X2):\n",
    "    \"\"\"\n",
    "        Function that calculates the kernel for layer L\n",
    "\n",
    "        Args:\n",
    "        L - The number of layers\n",
    "        sigma_w - variance of weights \n",
    "        sigma_b - variance of bias\n",
    "        X1 - first dataset, size M1 x N0\n",
    "        X2 - second dataset, size M2 x N0 \n",
    "\n",
    "        Returns:\n",
    "        torch.Tensor: Kernel matrix of shape (n, m).\n",
    "        \"\"\"\n",
    "    N0 = X1.shape[1]\n",
    "    #K0:\n",
    "    K = sigma_b + sigma_w/N0 * torch.matmul(X1,X2.t())\n",
    "    #this ensures the inner product works as intended\n",
    "    K_x1x1 = sigma_b + sigma_w/N0 * torch.sum(torch.square(X1),dim=1).unsqueeze(1)\n",
    "    K_x2x2 = sigma_b + sigma_w/N0 * torch.sum(torch.square(X2),dim=1).unsqueeze(1)\n",
    "    #now iteratively calculate:\n",
    "    for i in range(L):\n",
    "        #theta for previous layer\n",
    "        #we get some NaNs start to appear, so clamp this\n",
    "        costheta = torch.clamp(K/torch.sqrt(torch.matmul(K_x1x1,K_x2x2.t())),min = -1+1e-6, max = 1-1e-6)\n",
    "\n",
    "        theta = torch.arccos(costheta)\n",
    "        #new K\n",
    "        K = sigma_b + sigma_w/(2 * torch.pi) * torch.sqrt(torch.matmul(K_x1x1,K_x2x2.t())) * (torch.sin(theta) + (torch.pi - theta)*costheta)\n",
    "        #update inner product matrices. Noticing that in the formula, for (x,x), theta = arccos(1) = 0\n",
    "        #meaning K(X,X) = sigma_b + sigma_w/2K\n",
    "        K_x1x1 = sigma_b + sigma_w/2 * K_x1x1\n",
    "        K_x2x2 = sigma_b + sigma_w/2 * K_x2x2\n",
    "    return K"
   ]
  },
  {
   "cell_type": "code",
   "execution_count": 10,
   "metadata": {},
   "outputs": [],
   "source": [
    "class GP:\n",
    "    \n",
    "    def __init__(self, kernel: callable):\n",
    "        \"\"\"\n",
    "        Initialize the Gaussian Process (GP) with a specified kernel.\n",
    "\n",
    "        Args:\n",
    "        kernel (callable): The kernel function to use in the GP.\n",
    "        \"\"\"\n",
    "        self.k = kernel\n",
    "\n",
    "    def predict(self, x_star, sigma_w, sigma_b, L, X=None, y=None, size=1, sigma=0 ):\n",
    "        \"\"\"\n",
    "        Given observations (X, y) and test points x_star, fit a GP model\n",
    "        and draw posterior samples for f(x_star) from the fitted model.\n",
    "\n",
    "        Args:\n",
    "        x_star (torch.Tensor): Test points at which predictions will be made.\n",
    "        sigma_w (float): weight variance\n",
    "        sigma_b(float): bias variance\n",
    "        L (int)- Layer\n",
    "        X (torch.Tensor): Observed features.\n",
    "        y (torch.Tensor): Observed response variables.\n",
    "        size (int): Number of posterior samples to draw.\n",
    "        sigma (float): Noise level in observations.\n",
    "\n",
    "        Returns:\n",
    "        torch.Tensor: Posterior samples for f(x_star).\n",
    "        \"\"\"\n",
    "\n",
    "        # Compute kernel matrices\n",
    "        #same format as the one we just made\n",
    "        k_xs_x = self.k(L,sigma_w,sigma_b,x_star,X)\n",
    "        k_x_xs = self.k(L,sigma_w,sigma_b,X,x_star)\n",
    "        k_x_x = self.k(L,sigma_w,sigma_b,X,X)\n",
    "        k_xs_xs = self.k(L,sigma_w,sigma_b,x_star,x_star)\n",
    "   \n",
    "\n",
    "        cov_x_x = k_x_x + sigma *  torch.eye(X.shape[0]) \n",
    "        # Compute posterior mean and covariance\n",
    "        posterior_mean = torch.linalg.matmul(k_xs_x ,torch.linalg.solve(cov_x_x,y))\n",
    "        posterior_var = k_xs_xs - torch.matmul(k_xs_x,torch.linalg.solve(cov_x_x,k_x_xs))\n",
    "        print(posterior_var)\n",
    "        # -----------------------------------------------------------------------------------\n",
    "        # Enforce symmetry and positive definiteness that may be lost due to numerical errors\n",
    "        posterior_var = (posterior_var + posterior_var.T) / 2  # Enforce symmetry\n",
    "        # Add a small amount of noise to the diagonal to make the covariance matrix positive definite\n",
    "        posterior_var = posterior_var + 1e-6 * torch.eye(posterior_var.shape[0])\n",
    "        # -----------------------------------------------------------------------------------\n",
    "        \n",
    "        self.posterior_mean = posterior_mean\n",
    "        self.posterior_var = posterior_var\n",
    "        \n",
    "        # Draw samples from the posterior distribution\n",
    "        y_star = torch.distributions.MultivariateNormal(posterior_mean, posterior_var).sample((size,))\n",
    "\n",
    "        return y_star"
   ]
  },
  {
   "cell_type": "code",
   "execution_count": 11,
   "metadata": {},
   "outputs": [
    {
     "name": "stdout",
     "output_type": "stream",
     "text": [
      "tensor([[9.9905e-05, 9.9905e-05, 9.9905e-05,  ..., 9.9905e-05, 9.9905e-05,\n",
      "         9.9905e-05],\n",
      "        [9.9905e-05, 9.9905e-05, 9.9905e-05,  ..., 9.9905e-05, 9.9905e-05,\n",
      "         9.9905e-05],\n",
      "        [9.9905e-05, 9.9905e-05, 9.9905e-05,  ..., 9.9905e-05, 9.9905e-05,\n",
      "         9.9905e-05],\n",
      "        ...,\n",
      "        [9.9905e-05, 9.9905e-05, 9.9905e-05,  ..., 9.9905e-05, 9.9905e-05,\n",
      "         9.9905e-05],\n",
      "        [9.9905e-05, 9.9905e-05, 9.9905e-05,  ..., 9.9905e-05, 9.9905e-05,\n",
      "         9.9905e-05],\n",
      "        [9.9905e-05, 9.9905e-05, 9.9905e-05,  ..., 9.9905e-05, 9.9905e-05,\n",
      "         9.9905e-05]])\n"
     ]
    }
   ],
   "source": [
    "\n",
    "# Another hint: when  computing [ K^L(X,X) + noise^2 Id ]^-1 y and  [ K^L(X,X) + noise^2 Id ]^-1 K^L(X,X*)\n",
    "# You can TRY cholesky solve as it should be p.d. (except case for numerical errors) - maybe you can use try:/except:\n",
    "# You can also try to enforce symmetry in posterior covariance by doing (K + K.t())/2\n",
    "\n",
    "Gauss = GP(kernel)\n",
    "a = Gauss.predict(test_data, 0.1,0.1,20,train_data, train_labels,1000,sigma = 0.1)\n"
   ]
  },
  {
   "cell_type": "code",
   "execution_count": 12,
   "metadata": {},
   "outputs": [
    {
     "data": {
      "text/plain": [
       "tensor([0.0052, 0.0052, 0.0052,  ..., 0.0052, 0.0052, 0.0052])"
      ]
     },
     "execution_count": 12,
     "metadata": {},
     "output_type": "execute_result"
    }
   ],
   "source": [
    "\n",
    "b =torch.mean(a,axis = 0)\n",
    "b"
   ]
  },
  {
   "cell_type": "code",
   "execution_count": 13,
   "metadata": {},
   "outputs": [
    {
     "name": "stdout",
     "output_type": "stream",
     "text": [
      "torch.Size([2000])\n",
      "torch.Size([2000])\n"
     ]
    },
    {
     "data": {
      "text/plain": [
       "tensor(0.5000)"
      ]
     },
     "execution_count": 13,
     "metadata": {},
     "output_type": "execute_result"
    }
   ],
   "source": [
    "b[b>0] = 5\n",
    "b[b<0] = 3\n",
    "print(b.shape)\n",
    "print(test_labels.shape)\n",
    "sum(b==test_labels)/b.shape[0]"
   ]
  }
 ],
 "metadata": {
  "kernelspec": {
   "display_name": "Python 3",
   "language": "python",
   "name": "python3"
  },
  "language_info": {
   "codemirror_mode": {
    "name": "ipython",
    "version": 3
   },
   "file_extension": ".py",
   "mimetype": "text/x-python",
   "name": "python",
   "nbconvert_exporter": "python",
   "pygments_lexer": "ipython3",
   "version": "3.11.5"
  }
 },
 "nbformat": 4,
 "nbformat_minor": 2
}
